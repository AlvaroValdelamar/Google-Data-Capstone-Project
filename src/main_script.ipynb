{
 "cells": [
  {
   "cell_type": "markdown",
   "metadata": {},
   "source": [
    "# 1. Business Task\n",
    "Cyclistic is a company looking for how to keep growing in the future. Their business is based on different bike rental plans:\n",
    "\n",
    "-Single-ride pass.\n",
    "\n",
    "-Full-day pass.\n",
    "\n",
    "-Annual membership.\n",
    "\n",
    "We are going to analyse how annual members (Annual membership) differ from casual riders (Single pass and Full-day pass) using Cyclistic, in order to help the organization design marketing strategies aimed at converting casual riders into annual members. \n",
    "\n",
    "Annual members are more profitable than casual riders, so stakeholders believe that increasing the amount of annual riders is key for Cyclistic's growth in the future."
   ]
  },
  {
   "cell_type": "markdown",
   "metadata": {},
   "source": [
    "# 2. Data Preparation\n",
    "\n",
    "The data used is internally collected monthly data from 2013 to 2022 by Cyclistic from their users. The data is stored by the company on AWS' S3 cloud object storaged solution in dot zip files.\n",
    "\n",
    "https://divvy-tripdata.s3.amazonaws.com/index.html\n",
    "\n",
    "In general the data contains anonymous user information regarding:\n",
    "\n",
    "-ride ID\n",
    "\n",
    "-starting station\n",
    "\n",
    "-ending station\n",
    "\n",
    "-user type (casual rider or annual member)\n",
    "\n",
    "It's stored in the structured data format. However, data was not saved the same throught the years.\n",
    "\n",
    "\n",
    "\n",
    "\n",
    "\n",
    "\n",
    "\n",
    "\n"
   ]
  },
  {
   "cell_type": "markdown",
   "metadata": {},
   "source": [
    "### Cleaning the data\n",
    "There's some cleaning and formatting that needs to be done to the data because of the following issues:\n",
    "\n",
    "-There's columns missing from one time period to the other, such as: \n",
    "\n",
    "user gender, birthyear, start_lat, start_lng, end_lat, end_lng, rideable_type, bikeid, tripduration.\n",
    "\n",
    "-The following columns are the same although they have different names:\n",
    "\n",
    "ride_id == trip_id\n",
    "\n",
    "starttime == started_at\n",
    "\n",
    "stoptime == ended_at\n",
    "\n",
    "from_station_name == start_station_name\n",
    "\n",
    "to_station_name == end_station_name\n",
    "\n",
    "from_station_id == start_station_id\n",
    "\n",
    "to_station_id == end_station_id\n"
   ]
  },
  {
   "cell_type": "markdown",
   "metadata": {},
   "source": [
    "#### Data cleaning and formatting with Python and Pandas\n",
    "The following changes were performed to the data"
   ]
  },
  {
   "cell_type": "markdown",
   "metadata": {},
   "source": []
  }
 ],
 "metadata": {
  "language_info": {
   "name": "python"
  },
  "orig_nbformat": 4
 },
 "nbformat": 4,
 "nbformat_minor": 2
}
