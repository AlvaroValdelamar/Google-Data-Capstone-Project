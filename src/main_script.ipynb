{
 "cells": [
  {
   "cell_type": "markdown",
   "metadata": {},
   "source": [
    "# 1. Business Task\n",
    "Cyclistic is a company based on Chicago looking for how to keep growing in the future. Their business is based on different bike rental plans:\n",
    "\n",
    "-Single-ride pass.\n",
    "\n",
    "-Full-day pass.\n",
    "\n",
    "-Annual membership.\n",
    "\n",
    "We are going to analyse how annual members (Annual membership) differ from casual riders (Single pass and Full-day pass) using Cyclistic, in order to help the organization design marketing strategies aimed at converting casual riders into annual members. \n",
    "\n",
    "Annual members are more profitable than casual riders, so stakeholders believe that increasing the amount of annual riders is key for Cyclistic's growth in the future."
   ]
  },
  {
   "cell_type": "markdown",
   "metadata": {},
   "source": [
    "# 2. Data Preparation\n",
    "\n",
    "The data used is internally collected monthly data from August 2021 to July 2022 by Cyclistic from their users. The data is stored by the company on AWS' S3 cloud object storaged solution in dot zip files.\n",
    "\n",
    "https://divvy-tripdata.s3.amazonaws.com/index.html\n",
    "\n",
    "In general the data contains anonymous user information regarding ride identification, starting and ending time of the ride, the starting and ending station of the ride, and the user type of the ride.\n",
    "\n",
    "It's stored in the structured data format. However, there is some data missing in some columns.\n"
   ]
  },
  {
   "cell_type": "markdown",
   "metadata": {},
   "source": [
    "#### Storing the data\n",
    "1. The zip files were uncompressed, in an individual carpet for each time period, in the 'csv files' folder.\n",
    "\n",
    "2. The csv files containg information about the Byke Trips were copied to the 'raw data' folder.\n",
    "\n"
   ]
  },
  {
   "cell_type": "markdown",
   "metadata": {},
   "source": [
    "## Cleaning the data\n",
    "\n"
   ]
  },
  {
   "cell_type": "markdown",
   "metadata": {},
   "source": [
    "#### Understanding the data\n",
    "The \"Trips\" table contained the following columns:\n",
    "\n",
    "- ride_id: String identification of the trip.\n",
    "\n",
    "- rideable_type: Bike category used during the trip.\n",
    "\n",
    "- started_at: Datetime of the starting time of the bike trip.\n",
    "\n",
    "- ended_at: Datetime of the ending time of the bike trip.\n",
    "\n",
    "- start_station_name: Name of the starting point station of the trip.\n",
    "\n",
    "- start_station_id: Number identification of the starting point station of the trip.\n",
    "\n",
    "- end_station_name: Name of the ending point station of the trip.\n",
    "\n",
    "- end_station_id: Number identification of the ending point station of the trip.\n",
    "\n",
    "- start_lat: Latitude point of the starting station of the trip.\n",
    "\n",
    "- start_lng: Longitude point of the starting station of the trip.\n",
    "\n",
    "- end_lat: Latitude point of the ending station of the trip.\n",
    "\n",
    "- end_lng: Longitude point of the ending station of the trip.\n",
    "\n",
    "- member_casual: Refers to the User Type of the trip. Category 'casual' refers to single-ride pass and full-day pass users. The 'member' category refers to users with annual memberships."
   ]
  },
  {
   "cell_type": "markdown",
   "metadata": {},
   "source": [
    "#### Data cleaning and formatting with Python and Pandas\n",
    "The following changes were performed to the data"
   ]
  },
  {
   "cell_type": "code",
   "execution_count": 1,
   "metadata": {},
   "outputs": [],
   "source": [
    "#Imported the necessary libraries\n",
    "import pandas as pd\n",
    "import numpy as np"
   ]
  },
  {
   "cell_type": "code",
   "execution_count": 2,
   "metadata": {},
   "outputs": [],
   "source": [
    "#Load the data with pandas for each month (From August 2021 to July 2022)\n",
    "trips_2021_08 = pd.read_csv('data/raw data/202108-divvy-tripdata.csv')\n",
    "trips_2021_09 = pd.read_csv('data/raw data/202109-divvy-tripdata.csv')\n",
    "trips_2021_10 = pd.read_csv('data/raw data/202110-divvy-tripdata.csv')\n",
    "trips_2021_11 = pd.read_csv('data/raw data/202111-divvy-tripdata.csv')\n",
    "trips_2021_12 = pd.read_csv('data/raw data/202112-divvy-tripdata.csv')\n",
    "trips_2022_01 = pd.read_csv('data/raw data/202201-divvy-tripdata.csv')\n",
    "trips_2022_02 = pd.read_csv('data/raw data/202202-divvy-tripdata.csv')\n",
    "trips_2022_03 = pd.read_csv('data/raw data/202203-divvy-tripdata.csv')\n",
    "trips_2022_04 = pd.read_csv('data/raw data/202204-divvy-tripdata.csv')\n",
    "trips_2022_05 = pd.read_csv('data/raw data/202205-divvy-tripdata.csv')\n",
    "trips_2022_06 = pd.read_csv('data/raw data/202206-divvy-tripdata.csv')\n",
    "trips_2022_07 = pd.read_csv('data/raw data/202207-divvy-tripdata.csv')\n",
    "trips_2022_08 = pd.read_csv('data/raw data/202201-divvy-tripdata.csv')"
   ]
  },
  {
   "cell_type": "code",
   "execution_count": 3,
   "metadata": {},
   "outputs": [
    {
     "name": "stdout",
     "output_type": "stream",
     "text": [
      "<class 'pandas.core.frame.DataFrame'>\n",
      "RangeIndex: 804352 entries, 0 to 804351\n",
      "Data columns (total 13 columns):\n",
      " #   Column              Non-Null Count   Dtype  \n",
      "---  ------              --------------   -----  \n",
      " 0   ride_id             804352 non-null  object \n",
      " 1   rideable_type       804352 non-null  object \n",
      " 2   started_at          804352 non-null  object \n",
      " 3   ended_at            804352 non-null  object \n",
      " 4   start_station_name  715894 non-null  object \n",
      " 5   start_station_id    715894 non-null  object \n",
      " 6   end_station_name    710237 non-null  object \n",
      " 7   end_station_id      710237 non-null  object \n",
      " 8   start_lat           804352 non-null  float64\n",
      " 9   start_lng           804352 non-null  float64\n",
      " 10  end_lat             803646 non-null  float64\n",
      " 11  end_lng             803646 non-null  float64\n",
      " 12  member_casual       804352 non-null  object \n",
      "dtypes: float64(4), object(9)\n",
      "memory usage: 79.8+ MB\n"
     ]
    }
   ],
   "source": [
    "#Looking inside the data from August 2021 we can see there are rows with missing values in several columns\n",
    "trips_2021_08.info()"
   ]
  },
  {
   "cell_type": "markdown",
   "metadata": {},
   "source": [
    "By using the info() function we know the data doesn't have any empty values for the datetime columns, but there's missing data regarding the station name's and geographical points."
   ]
  },
  {
   "cell_type": "code",
   "execution_count": 4,
   "metadata": {},
   "outputs": [],
   "source": [
    "#Adding the month is useful to latter concatenate them into a dataframe\n",
    "trips_by_month = [\n",
    "    trips_2021_08,\n",
    "    trips_2021_09,\n",
    "    trips_2021_10,\n",
    "    trips_2021_11,\n",
    "    trips_2021_12,\n",
    "    trips_2022_01,\n",
    "    trips_2022_02,\n",
    "    trips_2022_03,\n",
    "    trips_2022_04,\n",
    "    trips_2022_05,\n",
    "    trips_2022_06,\n",
    "    trips_2022_07,\n",
    "    trips_2022_08\n",
    "    ]"
   ]
  },
  {
   "cell_type": "code",
   "execution_count": 5,
   "metadata": {},
   "outputs": [
    {
     "name": "stdout",
     "output_type": "stream",
     "text": [
      "13\n",
      "13\n",
      "13\n",
      "13\n",
      "13\n",
      "13\n",
      "13\n",
      "13\n",
      "13\n",
      "13\n",
      "13\n",
      "13\n",
      "13\n"
     ]
    }
   ],
   "source": [
    "#We can once more check that all the dataframes have the same number of columns\n",
    "for month in trips_by_month:\n",
    "    print(month.shape[1])"
   ]
  },
  {
   "cell_type": "code",
   "execution_count": 6,
   "metadata": {},
   "outputs": [],
   "source": [
    "#Merged all the data into a single dataframe\n",
    "\n",
    "trips_2021_2022 = pd.concat(trips_by_month)"
   ]
  },
  {
   "cell_type": "code",
   "execution_count": 7,
   "metadata": {},
   "outputs": [
    {
     "name": "stdout",
     "output_type": "stream",
     "text": [
      "<class 'pandas.core.frame.DataFrame'>\n",
      "Int64Index: 6005233 entries, 0 to 103769\n",
      "Data columns (total 13 columns):\n",
      " #   Column              Non-Null Count    Dtype  \n",
      "---  ------              --------------    -----  \n",
      " 0   ride_id             6005233 non-null  object \n",
      " 1   rideable_type       6005233 non-null  object \n",
      " 2   started_at          6005233 non-null  object \n",
      " 3   ended_at            6005233 non-null  object \n",
      " 4   start_station_name  5128187 non-null  object \n",
      " 5   start_station_id    5128189 non-null  object \n",
      " 6   end_station_name    5067410 non-null  object \n",
      " 7   end_station_id      5067410 non-null  object \n",
      " 8   start_lat           6005233 non-null  float64\n",
      " 9   start_lng           6005233 non-null  float64\n",
      " 10  end_lat             5999557 non-null  float64\n",
      " 11  end_lng             5999557 non-null  float64\n",
      " 12  member_casual       6005233 non-null  object \n",
      "dtypes: float64(4), object(9)\n",
      "memory usage: 641.4+ MB\n"
     ]
    }
   ],
   "source": [
    "trips_2021_2022.info(verbose=True, show_counts=True)"
   ]
  },
  {
   "cell_type": "code",
   "execution_count": 8,
   "metadata": {},
   "outputs": [
    {
     "data": {
      "text/html": [
       "<div>\n",
       "<style scoped>\n",
       "    .dataframe tbody tr th:only-of-type {\n",
       "        vertical-align: middle;\n",
       "    }\n",
       "\n",
       "    .dataframe tbody tr th {\n",
       "        vertical-align: top;\n",
       "    }\n",
       "\n",
       "    .dataframe thead th {\n",
       "        text-align: right;\n",
       "    }\n",
       "</style>\n",
       "<table border=\"1\" class=\"dataframe\">\n",
       "  <thead>\n",
       "    <tr style=\"text-align: right;\">\n",
       "      <th></th>\n",
       "      <th>ride_id</th>\n",
       "      <th>rideable_type</th>\n",
       "      <th>started_at</th>\n",
       "      <th>ended_at</th>\n",
       "      <th>start_station_name</th>\n",
       "      <th>start_station_id</th>\n",
       "      <th>end_station_name</th>\n",
       "      <th>end_station_id</th>\n",
       "      <th>start_lat</th>\n",
       "      <th>start_lng</th>\n",
       "      <th>end_lat</th>\n",
       "      <th>end_lng</th>\n",
       "      <th>member_casual</th>\n",
       "    </tr>\n",
       "  </thead>\n",
       "  <tbody>\n",
       "    <tr>\n",
       "      <th>0</th>\n",
       "      <td>99103BB87CC6C1BB</td>\n",
       "      <td>electric_bike</td>\n",
       "      <td>2021-08-10 17:15:49</td>\n",
       "      <td>2021-08-10 17:22:44</td>\n",
       "      <td>NaN</td>\n",
       "      <td>NaN</td>\n",
       "      <td>NaN</td>\n",
       "      <td>NaN</td>\n",
       "      <td>41.77</td>\n",
       "      <td>-87.68</td>\n",
       "      <td>41.770000</td>\n",
       "      <td>-87.680000</td>\n",
       "      <td>member</td>\n",
       "    </tr>\n",
       "    <tr>\n",
       "      <th>1</th>\n",
       "      <td>EAFCCCFB0A3FC5A1</td>\n",
       "      <td>electric_bike</td>\n",
       "      <td>2021-08-10 17:23:14</td>\n",
       "      <td>2021-08-10 17:39:24</td>\n",
       "      <td>NaN</td>\n",
       "      <td>NaN</td>\n",
       "      <td>NaN</td>\n",
       "      <td>NaN</td>\n",
       "      <td>41.77</td>\n",
       "      <td>-87.68</td>\n",
       "      <td>41.770000</td>\n",
       "      <td>-87.630000</td>\n",
       "      <td>member</td>\n",
       "    </tr>\n",
       "    <tr>\n",
       "      <th>2</th>\n",
       "      <td>9EF4F46C57AD234D</td>\n",
       "      <td>electric_bike</td>\n",
       "      <td>2021-08-21 02:34:23</td>\n",
       "      <td>2021-08-21 02:50:36</td>\n",
       "      <td>NaN</td>\n",
       "      <td>NaN</td>\n",
       "      <td>NaN</td>\n",
       "      <td>NaN</td>\n",
       "      <td>41.95</td>\n",
       "      <td>-87.65</td>\n",
       "      <td>41.970000</td>\n",
       "      <td>-87.660000</td>\n",
       "      <td>member</td>\n",
       "    </tr>\n",
       "    <tr>\n",
       "      <th>3</th>\n",
       "      <td>5834D3208BFAF1DA</td>\n",
       "      <td>electric_bike</td>\n",
       "      <td>2021-08-21 06:52:55</td>\n",
       "      <td>2021-08-21 07:08:13</td>\n",
       "      <td>NaN</td>\n",
       "      <td>NaN</td>\n",
       "      <td>NaN</td>\n",
       "      <td>NaN</td>\n",
       "      <td>41.97</td>\n",
       "      <td>-87.67</td>\n",
       "      <td>41.950000</td>\n",
       "      <td>-87.650000</td>\n",
       "      <td>member</td>\n",
       "    </tr>\n",
       "    <tr>\n",
       "      <th>4</th>\n",
       "      <td>CD825CB87ED1D096</td>\n",
       "      <td>electric_bike</td>\n",
       "      <td>2021-08-19 11:55:29</td>\n",
       "      <td>2021-08-19 12:04:11</td>\n",
       "      <td>NaN</td>\n",
       "      <td>NaN</td>\n",
       "      <td>NaN</td>\n",
       "      <td>NaN</td>\n",
       "      <td>41.79</td>\n",
       "      <td>-87.60</td>\n",
       "      <td>41.770000</td>\n",
       "      <td>-87.620000</td>\n",
       "      <td>member</td>\n",
       "    </tr>\n",
       "    <tr>\n",
       "      <th>5</th>\n",
       "      <td>612F12C94A964F3E</td>\n",
       "      <td>electric_bike</td>\n",
       "      <td>2021-08-19 12:41:12</td>\n",
       "      <td>2021-08-19 12:47:47</td>\n",
       "      <td>NaN</td>\n",
       "      <td>NaN</td>\n",
       "      <td>NaN</td>\n",
       "      <td>NaN</td>\n",
       "      <td>41.81</td>\n",
       "      <td>-87.61</td>\n",
       "      <td>41.800000</td>\n",
       "      <td>-87.600000</td>\n",
       "      <td>member</td>\n",
       "    </tr>\n",
       "    <tr>\n",
       "      <th>6</th>\n",
       "      <td>C7435946FDFFA9B7</td>\n",
       "      <td>electric_bike</td>\n",
       "      <td>2021-08-19 12:21:50</td>\n",
       "      <td>2021-08-19 12:37:31</td>\n",
       "      <td>NaN</td>\n",
       "      <td>NaN</td>\n",
       "      <td>NaN</td>\n",
       "      <td>NaN</td>\n",
       "      <td>41.77</td>\n",
       "      <td>-87.62</td>\n",
       "      <td>41.810000</td>\n",
       "      <td>-87.610000</td>\n",
       "      <td>member</td>\n",
       "    </tr>\n",
       "    <tr>\n",
       "      <th>7</th>\n",
       "      <td>C67017767EED2251</td>\n",
       "      <td>electric_bike</td>\n",
       "      <td>2021-08-13 14:52:35</td>\n",
       "      <td>2021-08-13 14:58:16</td>\n",
       "      <td>NaN</td>\n",
       "      <td>NaN</td>\n",
       "      <td>Clark St &amp; Grace St</td>\n",
       "      <td>TA1307000127</td>\n",
       "      <td>41.94</td>\n",
       "      <td>-87.64</td>\n",
       "      <td>41.950874</td>\n",
       "      <td>-87.659146</td>\n",
       "      <td>member</td>\n",
       "    </tr>\n",
       "    <tr>\n",
       "      <th>8</th>\n",
       "      <td>ABC4532F2B4983AB</td>\n",
       "      <td>electric_bike</td>\n",
       "      <td>2021-08-17 18:23:55</td>\n",
       "      <td>2021-08-17 18:24:13</td>\n",
       "      <td>NaN</td>\n",
       "      <td>NaN</td>\n",
       "      <td>NaN</td>\n",
       "      <td>NaN</td>\n",
       "      <td>41.92</td>\n",
       "      <td>-87.66</td>\n",
       "      <td>41.920000</td>\n",
       "      <td>-87.660000</td>\n",
       "      <td>member</td>\n",
       "    </tr>\n",
       "    <tr>\n",
       "      <th>9</th>\n",
       "      <td>82437E52DC3B9A8A</td>\n",
       "      <td>electric_bike</td>\n",
       "      <td>2021-08-04 12:50:53</td>\n",
       "      <td>2021-08-04 13:08:20</td>\n",
       "      <td>NaN</td>\n",
       "      <td>NaN</td>\n",
       "      <td>NaN</td>\n",
       "      <td>NaN</td>\n",
       "      <td>41.74</td>\n",
       "      <td>-87.53</td>\n",
       "      <td>41.740000</td>\n",
       "      <td>-87.530000</td>\n",
       "      <td>member</td>\n",
       "    </tr>\n",
       "  </tbody>\n",
       "</table>\n",
       "</div>"
      ],
      "text/plain": [
       "            ride_id  rideable_type           started_at             ended_at  \\\n",
       "0  99103BB87CC6C1BB  electric_bike  2021-08-10 17:15:49  2021-08-10 17:22:44   \n",
       "1  EAFCCCFB0A3FC5A1  electric_bike  2021-08-10 17:23:14  2021-08-10 17:39:24   \n",
       "2  9EF4F46C57AD234D  electric_bike  2021-08-21 02:34:23  2021-08-21 02:50:36   \n",
       "3  5834D3208BFAF1DA  electric_bike  2021-08-21 06:52:55  2021-08-21 07:08:13   \n",
       "4  CD825CB87ED1D096  electric_bike  2021-08-19 11:55:29  2021-08-19 12:04:11   \n",
       "5  612F12C94A964F3E  electric_bike  2021-08-19 12:41:12  2021-08-19 12:47:47   \n",
       "6  C7435946FDFFA9B7  electric_bike  2021-08-19 12:21:50  2021-08-19 12:37:31   \n",
       "7  C67017767EED2251  electric_bike  2021-08-13 14:52:35  2021-08-13 14:58:16   \n",
       "8  ABC4532F2B4983AB  electric_bike  2021-08-17 18:23:55  2021-08-17 18:24:13   \n",
       "9  82437E52DC3B9A8A  electric_bike  2021-08-04 12:50:53  2021-08-04 13:08:20   \n",
       "\n",
       "  start_station_name start_station_id     end_station_name end_station_id  \\\n",
       "0                NaN              NaN                  NaN            NaN   \n",
       "1                NaN              NaN                  NaN            NaN   \n",
       "2                NaN              NaN                  NaN            NaN   \n",
       "3                NaN              NaN                  NaN            NaN   \n",
       "4                NaN              NaN                  NaN            NaN   \n",
       "5                NaN              NaN                  NaN            NaN   \n",
       "6                NaN              NaN                  NaN            NaN   \n",
       "7                NaN              NaN  Clark St & Grace St   TA1307000127   \n",
       "8                NaN              NaN                  NaN            NaN   \n",
       "9                NaN              NaN                  NaN            NaN   \n",
       "\n",
       "   start_lat  start_lng    end_lat    end_lng member_casual  \n",
       "0      41.77     -87.68  41.770000 -87.680000        member  \n",
       "1      41.77     -87.68  41.770000 -87.630000        member  \n",
       "2      41.95     -87.65  41.970000 -87.660000        member  \n",
       "3      41.97     -87.67  41.950000 -87.650000        member  \n",
       "4      41.79     -87.60  41.770000 -87.620000        member  \n",
       "5      41.81     -87.61  41.800000 -87.600000        member  \n",
       "6      41.77     -87.62  41.810000 -87.610000        member  \n",
       "7      41.94     -87.64  41.950874 -87.659146        member  \n",
       "8      41.92     -87.66  41.920000 -87.660000        member  \n",
       "9      41.74     -87.53  41.740000 -87.530000        member  "
      ]
     },
     "execution_count": 8,
     "metadata": {},
     "output_type": "execute_result"
    }
   ],
   "source": [
    "trips_2021_2022.head(10)"
   ]
  },
  {
   "cell_type": "markdown",
   "metadata": {},
   "source": [
    "We will start by checking if there aren't any trips with duplicated ride_id's"
   ]
  },
  {
   "cell_type": "code",
   "execution_count": 9,
   "metadata": {},
   "outputs": [
    {
     "data": {
      "text/plain": [
       "103770"
      ]
     },
     "execution_count": 9,
     "metadata": {},
     "output_type": "execute_result"
    }
   ],
   "source": [
    "original_number_ride_ids = len(trips_2021_2022['ride_id'])\n",
    "non_duplicated_ride_ids = len(trips_2021_2022['ride_id'].drop_duplicates())\n",
    "number_of_duplicated_ids = original_number_ride_ids - non_duplicated_ride_ids\n",
    "number_of_duplicated_ids # 103770 trips with duplicated ride_id's"
   ]
  },
  {
   "cell_type": "markdown",
   "metadata": {},
   "source": [
    "Since ride_id's are supposed to be unique for each trip, we will drop the rows that have duplicated ride_id's"
   ]
  },
  {
   "cell_type": "code",
   "execution_count": 10,
   "metadata": {},
   "outputs": [],
   "source": [
    "trips_2021_2022.drop_duplicates(subset=['ride_id'], inplace=True)"
   ]
  },
  {
   "cell_type": "code",
   "execution_count": 11,
   "metadata": {},
   "outputs": [],
   "source": [
    "#We will drop the ride_id column now that we now that we've deleted duplicates since this column is not necessary for the analysis\n",
    "trips_2021_2022.drop(columns=['ride_id'], inplace=True)"
   ]
  },
  {
   "cell_type": "markdown",
   "metadata": {},
   "source": [
    "We know there's a lot of missing data regarding station names and geographical points.\n",
    "\n",
    "Since we it could be useful to use geographical data to map each the Stations by trip\n",
    "\n",
    "we will delete the rows that have missing data in the\n",
    "\n",
    "'start_lat', 'start_lng', 'end_lat', and 'end_lng' columns."
   ]
  },
  {
   "cell_type": "code",
   "execution_count": 12,
   "metadata": {},
   "outputs": [],
   "source": [
    "trips_2021_2022 = trips_2021_2022[trips_2021_2022['start_lat'].notna()]\n",
    "trips_2021_2022 = trips_2021_2022[trips_2021_2022['start_lng'].notna()]\n",
    "trips_2021_2022 = trips_2021_2022[trips_2021_2022['end_lat'].notna()]\n",
    "trips_2021_2022 = trips_2021_2022[trips_2021_2022['end_lng'].notna()]\n",
    "\n",
    "#If we we didn't want to plot the stations by trips we would drop all the following columns:\n",
    "#trips_2021_2022.drop(columns=['start_lat', 'start_lng', 'end_lat', 'end_lng'], inplace=True)"
   ]
  },
  {
   "cell_type": "code",
   "execution_count": 13,
   "metadata": {},
   "outputs": [
    {
     "name": "stdout",
     "output_type": "stream",
     "text": [
      "<class 'pandas.core.frame.DataFrame'>\n",
      "Int64Index: 5895873 entries, 0 to 823487\n",
      "Data columns (total 12 columns):\n",
      " #   Column              Non-Null Count    Dtype  \n",
      "---  ------              --------------    -----  \n",
      " 0   rideable_type       5895873 non-null  object \n",
      " 1   started_at          5895873 non-null  object \n",
      " 2   ended_at            5895873 non-null  object \n",
      " 3   start_station_name  5035087 non-null  object \n",
      " 4   start_station_id    5035089 non-null  object \n",
      " 5   end_station_name    4981567 non-null  object \n",
      " 6   end_station_id      4981567 non-null  object \n",
      " 7   start_lat           5895873 non-null  float64\n",
      " 8   start_lng           5895873 non-null  float64\n",
      " 9   end_lat             5895873 non-null  float64\n",
      " 10  end_lng             5895873 non-null  float64\n",
      " 11  member_casual       5895873 non-null  object \n",
      "dtypes: float64(4), object(8)\n",
      "memory usage: 584.8+ MB\n"
     ]
    }
   ],
   "source": [
    "trips_2021_2022.info(verbose=True, show_counts=True)\n",
    "#By dropping the empty geographical points we've reduced the data by 0.1%.\n",
    "# We've gone from 6005233 rows to 5999557 rows."
   ]
  },
  {
   "cell_type": "code",
   "execution_count": 14,
   "metadata": {},
   "outputs": [],
   "source": [
    "#Since we're insterested to know the behaviour of the users, \n",
    "# we will drop the rows with empty data in the 'started_at', 'ended_at', and 'ride_id' columns\n",
    "trips_2021_2022 = trips_2021_2022[trips_2021_2022['started_at'].notna()]\n",
    "trips_2021_2022 = trips_2021_2022[trips_2021_2022['ended_at'].notna()]"
   ]
  },
  {
   "cell_type": "code",
   "execution_count": 15,
   "metadata": {},
   "outputs": [],
   "source": [
    "#Converting the 'started_at' and 'ended_at' columns to datatime format\n",
    "trips_2021_2022['started_at'] = pd.to_datetime(trips_2021_2022['started_at'])\n",
    "trips_2021_2022['ended_at'] = pd.to_datetime(trips_2021_2022['ended_at'])"
   ]
  },
  {
   "cell_type": "code",
   "execution_count": 16,
   "metadata": {},
   "outputs": [
    {
     "name": "stdout",
     "output_type": "stream",
     "text": [
      "<class 'pandas.core.frame.DataFrame'>\n",
      "Int64Index: 5895873 entries, 0 to 823487\n",
      "Data columns (total 12 columns):\n",
      " #   Column              Non-Null Count    Dtype         \n",
      "---  ------              --------------    -----         \n",
      " 0   rideable_type       5895873 non-null  object        \n",
      " 1   started_at          5895873 non-null  datetime64[ns]\n",
      " 2   ended_at            5895873 non-null  datetime64[ns]\n",
      " 3   start_station_name  5035087 non-null  object        \n",
      " 4   start_station_id    5035089 non-null  object        \n",
      " 5   end_station_name    4981567 non-null  object        \n",
      " 6   end_station_id      4981567 non-null  object        \n",
      " 7   start_lat           5895873 non-null  float64       \n",
      " 8   start_lng           5895873 non-null  float64       \n",
      " 9   end_lat             5895873 non-null  float64       \n",
      " 10  end_lng             5895873 non-null  float64       \n",
      " 11  member_casual       5895873 non-null  object        \n",
      "dtypes: datetime64[ns](2), float64(4), object(6)\n",
      "memory usage: 584.8+ MB\n"
     ]
    }
   ],
   "source": [
    "#Now we've changed the data type of the time columns\n",
    "trips_2021_2022.info(verbose=True, show_counts=True)"
   ]
  },
  {
   "cell_type": "code",
   "execution_count": 17,
   "metadata": {},
   "outputs": [],
   "source": [
    "#We will also filter out rows whos started_at time is greater than its ended_at time\n",
    "trips_2021_2022 = trips_2021_2022[trips_2021_2022['started_at'] < trips_2021_2022['ended_at']]"
   ]
  },
  {
   "cell_type": "code",
   "execution_count": 18,
   "metadata": {},
   "outputs": [
    {
     "name": "stdout",
     "output_type": "stream",
     "text": [
      "<class 'pandas.core.frame.DataFrame'>\n",
      "Int64Index: 5895237 entries, 0 to 823487\n",
      "Data columns (total 12 columns):\n",
      " #   Column              Non-Null Count    Dtype         \n",
      "---  ------              --------------    -----         \n",
      " 0   rideable_type       5895237 non-null  object        \n",
      " 1   started_at          5895237 non-null  datetime64[ns]\n",
      " 2   ended_at            5895237 non-null  datetime64[ns]\n",
      " 3   start_station_name  5034483 non-null  object        \n",
      " 4   start_station_id    5034485 non-null  object        \n",
      " 5   end_station_name    4981280 non-null  object        \n",
      " 6   end_station_id      4981280 non-null  object        \n",
      " 7   start_lat           5895237 non-null  float64       \n",
      " 8   start_lng           5895237 non-null  float64       \n",
      " 9   end_lat             5895237 non-null  float64       \n",
      " 10  end_lng             5895237 non-null  float64       \n",
      " 11  member_casual       5895237 non-null  object        \n",
      "dtypes: datetime64[ns](2), float64(4), object(6)\n",
      "memory usage: 584.7+ MB\n"
     ]
    }
   ],
   "source": [
    "trips_2021_2022.info(verbose=True, show_counts=True)\n",
    "#We got rid of 636 rows that had wrong values for the started_at and ended_at times"
   ]
  },
  {
   "cell_type": "markdown",
   "metadata": {},
   "source": [
    "Now we want to know how many different Starting and Ending stations are saved in the data "
   ]
  },
  {
   "cell_type": "code",
   "execution_count": 19,
   "metadata": {},
   "outputs": [
    {
     "data": {
      "text/plain": [
       "(1381,)"
      ]
     },
     "execution_count": 19,
     "metadata": {},
     "output_type": "execute_result"
    }
   ],
   "source": [
    "#We can see there are 1380 different Starting Stations\n",
    "trips_2021_2022['start_station_name'].value_counts().shape"
   ]
  },
  {
   "cell_type": "code",
   "execution_count": 20,
   "metadata": {},
   "outputs": [
    {
     "data": {
      "text/plain": [
       "(1396,)"
      ]
     },
     "execution_count": 20,
     "metadata": {},
     "output_type": "execute_result"
    }
   ],
   "source": [
    "#We can see there are 1392 different Ending Stations\n",
    "trips_2021_2022['end_station_name'].value_counts().shape"
   ]
  },
  {
   "cell_type": "code",
   "execution_count": 21,
   "metadata": {},
   "outputs": [
    {
     "data": {
      "text/plain": [
       "(1226,)"
      ]
     },
     "execution_count": 21,
     "metadata": {},
     "output_type": "execute_result"
    }
   ],
   "source": [
    "#Not all Starting Stations are identifiable by their id\n",
    "trips_2021_2022['start_station_id'].value_counts().shape"
   ]
  },
  {
   "cell_type": "code",
   "execution_count": 22,
   "metadata": {},
   "outputs": [
    {
     "data": {
      "text/plain": [
       "(1236,)"
      ]
     },
     "execution_count": 22,
     "metadata": {},
     "output_type": "execute_result"
    }
   ],
   "source": [
    "#Not all Ending Stations are identifiable by their id\n",
    "trips_2021_2022['end_station_id'].value_counts().shape"
   ]
  },
  {
   "cell_type": "markdown",
   "metadata": {},
   "source": [
    "Since the station's id is not necessary for the analysis we will drop those columns as well"
   ]
  },
  {
   "cell_type": "code",
   "execution_count": 23,
   "metadata": {},
   "outputs": [],
   "source": [
    "trips_2021_2022.drop(columns=['start_station_id', 'end_station_id'], inplace=True)"
   ]
  },
  {
   "cell_type": "code",
   "execution_count": 24,
   "metadata": {},
   "outputs": [],
   "source": [
    "#We sort the values by alphabetic order and look for unique values\n",
    "start_names = trips_2021_2022.sort_values(by=['start_station_name'], ascending=True)\n",
    "end_names = trips_2021_2022.sort_values(by=['end_station_name'], ascending=True)\n",
    "start_names = set(start_names.start_station_name)\n",
    "end_names = set(end_names.end_station_name)"
   ]
  },
  {
   "cell_type": "markdown",
   "metadata": {},
   "source": [
    "Let's find if there's some error in the difference between the amount of Start Station names and End Station names.\n"
   ]
  },
  {
   "cell_type": "code",
   "execution_count": 25,
   "metadata": {},
   "outputs": [
    {
     "data": {
      "text/plain": [
       "{'351',\n",
       " 'Buffalo Ave & 133rd St',\n",
       " 'Hale Ave & 111th St',\n",
       " 'Keef Ave & South Chicago Ave',\n",
       " 'Lamon Ave & Archer Ave',\n",
       " 'Oglesby Ave & 105th St',\n",
       " 'Public Rack - La Moyne Ave and Leamington Ave',\n",
       " 'Public Rack - Western Ave & 98th St',\n",
       " 'WestChi'}"
      ]
     },
     "execution_count": 25,
     "metadata": {},
     "output_type": "execute_result"
    }
   ],
   "source": [
    "#Let's find if there's some error in the difference between the amount of Start Station names and End Station names\n",
    "start_names.difference(end_names)\n",
    "\n",
    "#There's at least one station whos Start Name seems weird, '351'."
   ]
  },
  {
   "cell_type": "code",
   "execution_count": 26,
   "metadata": {},
   "outputs": [
    {
     "data": {
      "text/html": [
       "<div>\n",
       "<style scoped>\n",
       "    .dataframe tbody tr th:only-of-type {\n",
       "        vertical-align: middle;\n",
       "    }\n",
       "\n",
       "    .dataframe tbody tr th {\n",
       "        vertical-align: top;\n",
       "    }\n",
       "\n",
       "    .dataframe thead th {\n",
       "        text-align: right;\n",
       "    }\n",
       "</style>\n",
       "<table border=\"1\" class=\"dataframe\">\n",
       "  <thead>\n",
       "    <tr style=\"text-align: right;\">\n",
       "      <th></th>\n",
       "      <th>rideable_type</th>\n",
       "      <th>started_at</th>\n",
       "      <th>ended_at</th>\n",
       "      <th>start_station_name</th>\n",
       "      <th>end_station_name</th>\n",
       "      <th>start_lat</th>\n",
       "      <th>start_lng</th>\n",
       "      <th>end_lat</th>\n",
       "      <th>end_lng</th>\n",
       "      <th>member_casual</th>\n",
       "    </tr>\n",
       "  </thead>\n",
       "  <tbody>\n",
       "    <tr>\n",
       "      <th>80741</th>\n",
       "      <td>electric_bike</td>\n",
       "      <td>2021-08-04 16:31:29</td>\n",
       "      <td>2021-08-04 16:48:33</td>\n",
       "      <td>351</td>\n",
       "      <td>Mulligan Ave &amp; Wellington Ave</td>\n",
       "      <td>41.93</td>\n",
       "      <td>-87.78</td>\n",
       "      <td>41.93</td>\n",
       "      <td>-87.78</td>\n",
       "      <td>casual</td>\n",
       "    </tr>\n",
       "    <tr>\n",
       "      <th>606661</th>\n",
       "      <td>electric_bike</td>\n",
       "      <td>2021-08-07 23:59:38</td>\n",
       "      <td>2021-08-08 00:37:58</td>\n",
       "      <td>351</td>\n",
       "      <td>NaN</td>\n",
       "      <td>41.93</td>\n",
       "      <td>-87.78</td>\n",
       "      <td>41.94</td>\n",
       "      <td>-87.79</td>\n",
       "      <td>casual</td>\n",
       "    </tr>\n",
       "  </tbody>\n",
       "</table>\n",
       "</div>"
      ],
      "text/plain": [
       "        rideable_type          started_at            ended_at  \\\n",
       "80741   electric_bike 2021-08-04 16:31:29 2021-08-04 16:48:33   \n",
       "606661  electric_bike 2021-08-07 23:59:38 2021-08-08 00:37:58   \n",
       "\n",
       "       start_station_name               end_station_name  start_lat  \\\n",
       "80741                 351  Mulligan Ave & Wellington Ave      41.93   \n",
       "606661                351                            NaN      41.93   \n",
       "\n",
       "        start_lng  end_lat  end_lng member_casual  \n",
       "80741      -87.78    41.93   -87.78        casual  \n",
       "606661     -87.78    41.94   -87.79        casual  "
      ]
     },
     "execution_count": 26,
     "metadata": {},
     "output_type": "execute_result"
    }
   ],
   "source": [
    "trips_2021_2022[trips_2021_2022['start_station_name']=='351']\n",
    "# We can see those rows have the same starting and ending station because of their coordinates"
   ]
  },
  {
   "cell_type": "code",
   "execution_count": 27,
   "metadata": {},
   "outputs": [],
   "source": [
    "#We are going to manually update the start_station_name and end_station_name for the above rows\n",
    "trips_2021_2022.loc[80741, 'start_station_name'] = 'Mulligan Ave & Wellington Ave'\n",
    "trips_2021_2022.loc[606661, 'start_station_name'] = 'Mulligan Ave & Wellington Ave'\n",
    "trips_2021_2022.loc[606661, 'end_station_name'] = 'Mulligan Ave & Wellington Ave'"
   ]
  },
  {
   "cell_type": "code",
   "execution_count": 28,
   "metadata": {},
   "outputs": [
    {
     "data": {
      "text/plain": [
       "860753"
      ]
     },
     "execution_count": 28,
     "metadata": {},
     "output_type": "execute_result"
    }
   ],
   "source": [
    "#We know check the amount of missing values in the starting station name column\n",
    "trips_2021_2022['start_station_name'].isna().sum() \n",
    "#860753 rows with null values"
   ]
  },
  {
   "cell_type": "code",
   "execution_count": 29,
   "metadata": {},
   "outputs": [
    {
     "data": {
      "text/plain": [
       "913953"
      ]
     },
     "execution_count": 29,
     "metadata": {},
     "output_type": "execute_result"
    }
   ],
   "source": [
    "#We know check the amount of missing values in the ending station name column\n",
    "trips_2021_2022['end_station_name'].isna().sum() \n",
    "#913953 rows with null values"
   ]
  },
  {
   "cell_type": "code",
   "execution_count": 30,
   "metadata": {},
   "outputs": [
    {
     "name": "stdout",
     "output_type": "stream",
     "text": [
      "<class 'pandas.core.frame.DataFrame'>\n",
      "Int64Index: 5895237 entries, 0 to 823487\n",
      "Data columns (total 10 columns):\n",
      " #   Column              Non-Null Count    Dtype         \n",
      "---  ------              --------------    -----         \n",
      " 0   rideable_type       5895237 non-null  object        \n",
      " 1   started_at          5895237 non-null  datetime64[ns]\n",
      " 2   ended_at            5895237 non-null  datetime64[ns]\n",
      " 3   start_station_name  5034484 non-null  object        \n",
      " 4   end_station_name    4981284 non-null  object        \n",
      " 5   start_lat           5895237 non-null  float64       \n",
      " 6   start_lng           5895237 non-null  float64       \n",
      " 7   end_lat             5895237 non-null  float64       \n",
      " 8   end_lng             5895237 non-null  float64       \n",
      " 9   member_casual       5895237 non-null  object        \n",
      "dtypes: datetime64[ns](2), float64(4), object(4)\n",
      "memory usage: 527.0+ MB\n"
     ]
    }
   ],
   "source": [
    "trips_2021_2022.info(verbose=True, show_counts=True)"
   ]
  },
  {
   "cell_type": "markdown",
   "metadata": {},
   "source": [
    "Since we can't ask the stakeholders if they're willing to delete the missing data for the analysis, it's up to us to decide.\n",
    "\n",
    "One way we can get around this problem is trying to match the most amount of the station names given their longitude and latitude positions, because we've already made sure that the remaining rows have values for their end and start coordinates.\n",
    "\n",
    "We can fill out the missing values doing the following. For each row that doesn't have a station name, and does have longitude and latitude values, we can check for rows that have matching longitud and latitude values and don't have their station name missing and copy their station name into the row. This can be done for the start_station_name and end_station_name."
   ]
  },
  {
   "cell_type": "markdown",
   "metadata": {},
   "source": [
    "Filling out some of the station names with those that have matching coordinates."
   ]
  },
  {
   "cell_type": "code",
   "execution_count": 31,
   "metadata": {},
   "outputs": [],
   "source": [
    "#For the End Station names\n",
    "trips_2021_2022['end_station_name'] = trips_2021_2022['end_station_name'].fillna(trips_2021_2022.groupby(['end_lat','end_lng'])['end_station_name'].transform('first'))"
   ]
  },
  {
   "cell_type": "code",
   "execution_count": 32,
   "metadata": {},
   "outputs": [],
   "source": [
    "#For the Start Station names\n",
    "trips_2021_2022['start_station_name'] = trips_2021_2022['start_station_name'].fillna(trips_2021_2022.groupby(['start_lat','start_lng'])['start_station_name'].transform('first'))"
   ]
  },
  {
   "cell_type": "code",
   "execution_count": 33,
   "metadata": {},
   "outputs": [
    {
     "name": "stdout",
     "output_type": "stream",
     "text": [
      "<class 'pandas.core.frame.DataFrame'>\n",
      "Int64Index: 5895237 entries, 0 to 823487\n",
      "Data columns (total 10 columns):\n",
      " #   Column              Non-Null Count    Dtype         \n",
      "---  ------              --------------    -----         \n",
      " 0   rideable_type       5895237 non-null  object        \n",
      " 1   started_at          5895237 non-null  datetime64[ns]\n",
      " 2   ended_at            5895237 non-null  datetime64[ns]\n",
      " 3   start_station_name  5501864 non-null  object        \n",
      " 4   end_station_name    5365881 non-null  object        \n",
      " 5   start_lat           5895237 non-null  float64       \n",
      " 6   start_lng           5895237 non-null  float64       \n",
      " 7   end_lat             5895237 non-null  float64       \n",
      " 8   end_lng             5895237 non-null  float64       \n",
      " 9   member_casual       5895237 non-null  object        \n",
      "dtypes: datetime64[ns](2), float64(4), object(4)\n",
      "memory usage: 527.0+ MB\n"
     ]
    }
   ],
   "source": [
    "trips_2021_2022.info(verbose=True, show_counts=True)"
   ]
  },
  {
   "cell_type": "code",
   "execution_count": 35,
   "metadata": {},
   "outputs": [
    {
     "data": {
      "text/plain": [
       "{'10101 S Stony Island Ave',\n",
       " 'Bennett Ave & 96th St',\n",
       " 'Corliss Ave & 133rd St',\n",
       " 'DIVVY CASSETTE REPAIR MOBILE STATION',\n",
       " 'Ellis Ave & 132nd Pl',\n",
       " 'Halsted St & 64th St',\n",
       " 'James Madison School',\n",
       " 'Keeler Ave & 26th St',\n",
       " 'Kildare Ave & Division Ave',\n",
       " 'Linder Ave & Archer Ave',\n",
       " 'Michele Clark Magnet High School',\n",
       " 'Normal Blvd & 61st Pl',\n",
       " 'Orville T Bright School',\n",
       " 'Park Manor Elementary School',\n",
       " 'Parnell Ave & 98th St',\n",
       " 'Percy Julian HS',\n",
       " 'Public Rack - California Ave & Touhy Ave - SW',\n",
       " 'Public Rack - Foster Ave & Drake Ave',\n",
       " 'Public Rack - Keeler Ave & 26th St',\n",
       " 'Pullman Community Center',\n",
       " 'South Shore High School',\n",
       " 'The Montessori School of Englewood',\n",
       " 'Torrence Ave & 98th St',\n",
       " 'William Rainey Harper High School'}"
      ]
     },
     "execution_count": 35,
     "metadata": {},
     "output_type": "execute_result"
    }
   ],
   "source": [
    "#There doesn't seem to be a problem with the names of the End Stations\n",
    "end_names.difference(start_names)\n"
   ]
  },
  {
   "cell_type": "code",
   "execution_count": 36,
   "metadata": {},
   "outputs": [
    {
     "data": {
      "text/html": [
       "<div>\n",
       "<style scoped>\n",
       "    .dataframe tbody tr th:only-of-type {\n",
       "        vertical-align: middle;\n",
       "    }\n",
       "\n",
       "    .dataframe tbody tr th {\n",
       "        vertical-align: top;\n",
       "    }\n",
       "\n",
       "    .dataframe thead th {\n",
       "        text-align: right;\n",
       "    }\n",
       "</style>\n",
       "<table border=\"1\" class=\"dataframe\">\n",
       "  <thead>\n",
       "    <tr style=\"text-align: right;\">\n",
       "      <th></th>\n",
       "      <th>rideable_type</th>\n",
       "      <th>started_at</th>\n",
       "      <th>ended_at</th>\n",
       "      <th>start_station_name</th>\n",
       "      <th>end_station_name</th>\n",
       "      <th>start_lat</th>\n",
       "      <th>start_lng</th>\n",
       "      <th>end_lat</th>\n",
       "      <th>end_lng</th>\n",
       "      <th>member_casual</th>\n",
       "    </tr>\n",
       "  </thead>\n",
       "  <tbody>\n",
       "    <tr>\n",
       "      <th>0</th>\n",
       "      <td>electric_bike</td>\n",
       "      <td>2021-08-10 17:15:49</td>\n",
       "      <td>2021-08-10 17:22:44</td>\n",
       "      <td>None</td>\n",
       "      <td>None</td>\n",
       "      <td>41.77</td>\n",
       "      <td>-87.68</td>\n",
       "      <td>41.770000</td>\n",
       "      <td>-87.680000</td>\n",
       "      <td>member</td>\n",
       "    </tr>\n",
       "    <tr>\n",
       "      <th>1</th>\n",
       "      <td>electric_bike</td>\n",
       "      <td>2021-08-10 17:23:14</td>\n",
       "      <td>2021-08-10 17:39:24</td>\n",
       "      <td>None</td>\n",
       "      <td>None</td>\n",
       "      <td>41.77</td>\n",
       "      <td>-87.68</td>\n",
       "      <td>41.770000</td>\n",
       "      <td>-87.630000</td>\n",
       "      <td>member</td>\n",
       "    </tr>\n",
       "    <tr>\n",
       "      <th>2</th>\n",
       "      <td>electric_bike</td>\n",
       "      <td>2021-08-21 02:34:23</td>\n",
       "      <td>2021-08-21 02:50:36</td>\n",
       "      <td>None</td>\n",
       "      <td>None</td>\n",
       "      <td>41.95</td>\n",
       "      <td>-87.65</td>\n",
       "      <td>41.970000</td>\n",
       "      <td>-87.660000</td>\n",
       "      <td>member</td>\n",
       "    </tr>\n",
       "    <tr>\n",
       "      <th>3</th>\n",
       "      <td>electric_bike</td>\n",
       "      <td>2021-08-21 06:52:55</td>\n",
       "      <td>2021-08-21 07:08:13</td>\n",
       "      <td>None</td>\n",
       "      <td>None</td>\n",
       "      <td>41.97</td>\n",
       "      <td>-87.67</td>\n",
       "      <td>41.950000</td>\n",
       "      <td>-87.650000</td>\n",
       "      <td>member</td>\n",
       "    </tr>\n",
       "    <tr>\n",
       "      <th>4</th>\n",
       "      <td>electric_bike</td>\n",
       "      <td>2021-08-19 11:55:29</td>\n",
       "      <td>2021-08-19 12:04:11</td>\n",
       "      <td>Mulligan Ave &amp; Wellington Ave</td>\n",
       "      <td>Calumet Ave &amp; 71st St</td>\n",
       "      <td>41.79</td>\n",
       "      <td>-87.60</td>\n",
       "      <td>41.770000</td>\n",
       "      <td>-87.620000</td>\n",
       "      <td>member</td>\n",
       "    </tr>\n",
       "    <tr>\n",
       "      <th>5</th>\n",
       "      <td>electric_bike</td>\n",
       "      <td>2021-08-19 12:41:12</td>\n",
       "      <td>2021-08-19 12:47:47</td>\n",
       "      <td>Forrestville Ave &amp; 47th St</td>\n",
       "      <td>Mulligan Ave &amp; Wellington Ave</td>\n",
       "      <td>41.81</td>\n",
       "      <td>-87.61</td>\n",
       "      <td>41.800000</td>\n",
       "      <td>-87.600000</td>\n",
       "      <td>member</td>\n",
       "    </tr>\n",
       "    <tr>\n",
       "      <th>6</th>\n",
       "      <td>electric_bike</td>\n",
       "      <td>2021-08-19 12:21:50</td>\n",
       "      <td>2021-08-19 12:37:31</td>\n",
       "      <td>Calumet Ave &amp; 71st St</td>\n",
       "      <td>Forrestville Ave &amp; 47th St</td>\n",
       "      <td>41.77</td>\n",
       "      <td>-87.62</td>\n",
       "      <td>41.810000</td>\n",
       "      <td>-87.610000</td>\n",
       "      <td>member</td>\n",
       "    </tr>\n",
       "    <tr>\n",
       "      <th>7</th>\n",
       "      <td>electric_bike</td>\n",
       "      <td>2021-08-13 14:52:35</td>\n",
       "      <td>2021-08-13 14:58:16</td>\n",
       "      <td>W Oakdale Ave &amp; N Broadway</td>\n",
       "      <td>Clark St &amp; Grace St</td>\n",
       "      <td>41.94</td>\n",
       "      <td>-87.64</td>\n",
       "      <td>41.950874</td>\n",
       "      <td>-87.659146</td>\n",
       "      <td>member</td>\n",
       "    </tr>\n",
       "    <tr>\n",
       "      <th>8</th>\n",
       "      <td>electric_bike</td>\n",
       "      <td>2021-08-17 18:23:55</td>\n",
       "      <td>2021-08-17 18:24:13</td>\n",
       "      <td>None</td>\n",
       "      <td>None</td>\n",
       "      <td>41.92</td>\n",
       "      <td>-87.66</td>\n",
       "      <td>41.920000</td>\n",
       "      <td>-87.660000</td>\n",
       "      <td>member</td>\n",
       "    </tr>\n",
       "    <tr>\n",
       "      <th>9</th>\n",
       "      <td>electric_bike</td>\n",
       "      <td>2021-08-04 12:50:53</td>\n",
       "      <td>2021-08-04 13:08:20</td>\n",
       "      <td>Steelworkers Park</td>\n",
       "      <td>Steelworkers Park</td>\n",
       "      <td>41.74</td>\n",
       "      <td>-87.53</td>\n",
       "      <td>41.740000</td>\n",
       "      <td>-87.530000</td>\n",
       "      <td>member</td>\n",
       "    </tr>\n",
       "  </tbody>\n",
       "</table>\n",
       "</div>"
      ],
      "text/plain": [
       "   rideable_type          started_at            ended_at  \\\n",
       "0  electric_bike 2021-08-10 17:15:49 2021-08-10 17:22:44   \n",
       "1  electric_bike 2021-08-10 17:23:14 2021-08-10 17:39:24   \n",
       "2  electric_bike 2021-08-21 02:34:23 2021-08-21 02:50:36   \n",
       "3  electric_bike 2021-08-21 06:52:55 2021-08-21 07:08:13   \n",
       "4  electric_bike 2021-08-19 11:55:29 2021-08-19 12:04:11   \n",
       "5  electric_bike 2021-08-19 12:41:12 2021-08-19 12:47:47   \n",
       "6  electric_bike 2021-08-19 12:21:50 2021-08-19 12:37:31   \n",
       "7  electric_bike 2021-08-13 14:52:35 2021-08-13 14:58:16   \n",
       "8  electric_bike 2021-08-17 18:23:55 2021-08-17 18:24:13   \n",
       "9  electric_bike 2021-08-04 12:50:53 2021-08-04 13:08:20   \n",
       "\n",
       "              start_station_name               end_station_name  start_lat  \\\n",
       "0                           None                           None      41.77   \n",
       "1                           None                           None      41.77   \n",
       "2                           None                           None      41.95   \n",
       "3                           None                           None      41.97   \n",
       "4  Mulligan Ave & Wellington Ave          Calumet Ave & 71st St      41.79   \n",
       "5     Forrestville Ave & 47th St  Mulligan Ave & Wellington Ave      41.81   \n",
       "6          Calumet Ave & 71st St     Forrestville Ave & 47th St      41.77   \n",
       "7     W Oakdale Ave & N Broadway            Clark St & Grace St      41.94   \n",
       "8                           None                           None      41.92   \n",
       "9              Steelworkers Park              Steelworkers Park      41.74   \n",
       "\n",
       "   start_lng    end_lat    end_lng member_casual  \n",
       "0     -87.68  41.770000 -87.680000        member  \n",
       "1     -87.68  41.770000 -87.630000        member  \n",
       "2     -87.65  41.970000 -87.660000        member  \n",
       "3     -87.67  41.950000 -87.650000        member  \n",
       "4     -87.60  41.770000 -87.620000        member  \n",
       "5     -87.61  41.800000 -87.600000        member  \n",
       "6     -87.62  41.810000 -87.610000        member  \n",
       "7     -87.64  41.950874 -87.659146        member  \n",
       "8     -87.66  41.920000 -87.660000        member  \n",
       "9     -87.53  41.740000 -87.530000        member  "
      ]
     },
     "execution_count": 36,
     "metadata": {},
     "output_type": "execute_result"
    }
   ],
   "source": [
    "trips_2021_2022.head(10)"
   ]
  },
  {
   "cell_type": "code",
   "execution_count": 38,
   "metadata": {},
   "outputs": [],
   "source": [
    "#We add a new column called 'trip_duration', since this is an important feature we can look into by user type\n",
    "trips_2021_2022['trip_duration'] = trips_2021_2022['ended_at'] - trips_2021_2022['started_at']"
   ]
  },
  {
   "cell_type": "code",
   "execution_count": 40,
   "metadata": {},
   "outputs": [],
   "source": [
    "#We filter the data by trips that lasted more than 1 minute\n",
    "trips_2021_2022 = trips_2021_2022.loc[(trips_2021_2022['trip_duration'] > '00:01:00')]"
   ]
  },
  {
   "cell_type": "code",
   "execution_count": 41,
   "metadata": {},
   "outputs": [
    {
     "name": "stdout",
     "output_type": "stream",
     "text": [
      "<class 'pandas.core.frame.DataFrame'>\n",
      "Int64Index: 5790279 entries, 0 to 823487\n",
      "Data columns (total 11 columns):\n",
      " #   Column              Non-Null Count    Dtype          \n",
      "---  ------              --------------    -----          \n",
      " 0   rideable_type       5790279 non-null  object         \n",
      " 1   started_at          5790279 non-null  datetime64[ns] \n",
      " 2   ended_at            5790279 non-null  datetime64[ns] \n",
      " 3   start_station_name  5410405 non-null  object         \n",
      " 4   end_station_name    5281387 non-null  object         \n",
      " 5   start_lat           5790279 non-null  float64        \n",
      " 6   start_lng           5790279 non-null  float64        \n",
      " 7   end_lat             5790279 non-null  float64        \n",
      " 8   end_lng             5790279 non-null  float64        \n",
      " 9   member_casual       5790279 non-null  object         \n",
      " 10  trip_duration       5790279 non-null  timedelta64[ns]\n",
      "dtypes: datetime64[ns](2), float64(4), object(4), timedelta64[ns](1)\n",
      "memory usage: 530.1+ MB\n"
     ]
    }
   ],
   "source": [
    "trips_2021_2022.info(verbose=True, show_counts=True)"
   ]
  },
  {
   "cell_type": "code",
   "execution_count": 39,
   "metadata": {},
   "outputs": [
    {
     "data": {
      "text/html": [
       "<div>\n",
       "<style scoped>\n",
       "    .dataframe tbody tr th:only-of-type {\n",
       "        vertical-align: middle;\n",
       "    }\n",
       "\n",
       "    .dataframe tbody tr th {\n",
       "        vertical-align: top;\n",
       "    }\n",
       "\n",
       "    .dataframe thead th {\n",
       "        text-align: right;\n",
       "    }\n",
       "</style>\n",
       "<table border=\"1\" class=\"dataframe\">\n",
       "  <thead>\n",
       "    <tr style=\"text-align: right;\">\n",
       "      <th></th>\n",
       "      <th>rideable_type</th>\n",
       "      <th>started_at</th>\n",
       "      <th>ended_at</th>\n",
       "      <th>start_station_name</th>\n",
       "      <th>end_station_name</th>\n",
       "      <th>start_lat</th>\n",
       "      <th>start_lng</th>\n",
       "      <th>end_lat</th>\n",
       "      <th>end_lng</th>\n",
       "      <th>member_casual</th>\n",
       "      <th>trip_duration</th>\n",
       "    </tr>\n",
       "  </thead>\n",
       "  <tbody>\n",
       "    <tr>\n",
       "      <th>0</th>\n",
       "      <td>electric_bike</td>\n",
       "      <td>2021-08-10 17:15:49</td>\n",
       "      <td>2021-08-10 17:22:44</td>\n",
       "      <td>None</td>\n",
       "      <td>None</td>\n",
       "      <td>41.77</td>\n",
       "      <td>-87.68</td>\n",
       "      <td>41.770000</td>\n",
       "      <td>-87.680000</td>\n",
       "      <td>member</td>\n",
       "      <td>0 days 00:06:55</td>\n",
       "    </tr>\n",
       "    <tr>\n",
       "      <th>1</th>\n",
       "      <td>electric_bike</td>\n",
       "      <td>2021-08-10 17:23:14</td>\n",
       "      <td>2021-08-10 17:39:24</td>\n",
       "      <td>None</td>\n",
       "      <td>None</td>\n",
       "      <td>41.77</td>\n",
       "      <td>-87.68</td>\n",
       "      <td>41.770000</td>\n",
       "      <td>-87.630000</td>\n",
       "      <td>member</td>\n",
       "      <td>0 days 00:16:10</td>\n",
       "    </tr>\n",
       "    <tr>\n",
       "      <th>2</th>\n",
       "      <td>electric_bike</td>\n",
       "      <td>2021-08-21 02:34:23</td>\n",
       "      <td>2021-08-21 02:50:36</td>\n",
       "      <td>None</td>\n",
       "      <td>None</td>\n",
       "      <td>41.95</td>\n",
       "      <td>-87.65</td>\n",
       "      <td>41.970000</td>\n",
       "      <td>-87.660000</td>\n",
       "      <td>member</td>\n",
       "      <td>0 days 00:16:13</td>\n",
       "    </tr>\n",
       "    <tr>\n",
       "      <th>3</th>\n",
       "      <td>electric_bike</td>\n",
       "      <td>2021-08-21 06:52:55</td>\n",
       "      <td>2021-08-21 07:08:13</td>\n",
       "      <td>None</td>\n",
       "      <td>None</td>\n",
       "      <td>41.97</td>\n",
       "      <td>-87.67</td>\n",
       "      <td>41.950000</td>\n",
       "      <td>-87.650000</td>\n",
       "      <td>member</td>\n",
       "      <td>0 days 00:15:18</td>\n",
       "    </tr>\n",
       "    <tr>\n",
       "      <th>4</th>\n",
       "      <td>electric_bike</td>\n",
       "      <td>2021-08-19 11:55:29</td>\n",
       "      <td>2021-08-19 12:04:11</td>\n",
       "      <td>Mulligan Ave &amp; Wellington Ave</td>\n",
       "      <td>Calumet Ave &amp; 71st St</td>\n",
       "      <td>41.79</td>\n",
       "      <td>-87.60</td>\n",
       "      <td>41.770000</td>\n",
       "      <td>-87.620000</td>\n",
       "      <td>member</td>\n",
       "      <td>0 days 00:08:42</td>\n",
       "    </tr>\n",
       "    <tr>\n",
       "      <th>5</th>\n",
       "      <td>electric_bike</td>\n",
       "      <td>2021-08-19 12:41:12</td>\n",
       "      <td>2021-08-19 12:47:47</td>\n",
       "      <td>Forrestville Ave &amp; 47th St</td>\n",
       "      <td>Mulligan Ave &amp; Wellington Ave</td>\n",
       "      <td>41.81</td>\n",
       "      <td>-87.61</td>\n",
       "      <td>41.800000</td>\n",
       "      <td>-87.600000</td>\n",
       "      <td>member</td>\n",
       "      <td>0 days 00:06:35</td>\n",
       "    </tr>\n",
       "    <tr>\n",
       "      <th>6</th>\n",
       "      <td>electric_bike</td>\n",
       "      <td>2021-08-19 12:21:50</td>\n",
       "      <td>2021-08-19 12:37:31</td>\n",
       "      <td>Calumet Ave &amp; 71st St</td>\n",
       "      <td>Forrestville Ave &amp; 47th St</td>\n",
       "      <td>41.77</td>\n",
       "      <td>-87.62</td>\n",
       "      <td>41.810000</td>\n",
       "      <td>-87.610000</td>\n",
       "      <td>member</td>\n",
       "      <td>0 days 00:15:41</td>\n",
       "    </tr>\n",
       "    <tr>\n",
       "      <th>7</th>\n",
       "      <td>electric_bike</td>\n",
       "      <td>2021-08-13 14:52:35</td>\n",
       "      <td>2021-08-13 14:58:16</td>\n",
       "      <td>W Oakdale Ave &amp; N Broadway</td>\n",
       "      <td>Clark St &amp; Grace St</td>\n",
       "      <td>41.94</td>\n",
       "      <td>-87.64</td>\n",
       "      <td>41.950874</td>\n",
       "      <td>-87.659146</td>\n",
       "      <td>member</td>\n",
       "      <td>0 days 00:05:41</td>\n",
       "    </tr>\n",
       "    <tr>\n",
       "      <th>8</th>\n",
       "      <td>electric_bike</td>\n",
       "      <td>2021-08-17 18:23:55</td>\n",
       "      <td>2021-08-17 18:24:13</td>\n",
       "      <td>None</td>\n",
       "      <td>None</td>\n",
       "      <td>41.92</td>\n",
       "      <td>-87.66</td>\n",
       "      <td>41.920000</td>\n",
       "      <td>-87.660000</td>\n",
       "      <td>member</td>\n",
       "      <td>0 days 00:00:18</td>\n",
       "    </tr>\n",
       "    <tr>\n",
       "      <th>9</th>\n",
       "      <td>electric_bike</td>\n",
       "      <td>2021-08-04 12:50:53</td>\n",
       "      <td>2021-08-04 13:08:20</td>\n",
       "      <td>Steelworkers Park</td>\n",
       "      <td>Steelworkers Park</td>\n",
       "      <td>41.74</td>\n",
       "      <td>-87.53</td>\n",
       "      <td>41.740000</td>\n",
       "      <td>-87.530000</td>\n",
       "      <td>member</td>\n",
       "      <td>0 days 00:17:27</td>\n",
       "    </tr>\n",
       "  </tbody>\n",
       "</table>\n",
       "</div>"
      ],
      "text/plain": [
       "   rideable_type          started_at            ended_at  \\\n",
       "0  electric_bike 2021-08-10 17:15:49 2021-08-10 17:22:44   \n",
       "1  electric_bike 2021-08-10 17:23:14 2021-08-10 17:39:24   \n",
       "2  electric_bike 2021-08-21 02:34:23 2021-08-21 02:50:36   \n",
       "3  electric_bike 2021-08-21 06:52:55 2021-08-21 07:08:13   \n",
       "4  electric_bike 2021-08-19 11:55:29 2021-08-19 12:04:11   \n",
       "5  electric_bike 2021-08-19 12:41:12 2021-08-19 12:47:47   \n",
       "6  electric_bike 2021-08-19 12:21:50 2021-08-19 12:37:31   \n",
       "7  electric_bike 2021-08-13 14:52:35 2021-08-13 14:58:16   \n",
       "8  electric_bike 2021-08-17 18:23:55 2021-08-17 18:24:13   \n",
       "9  electric_bike 2021-08-04 12:50:53 2021-08-04 13:08:20   \n",
       "\n",
       "              start_station_name               end_station_name  start_lat  \\\n",
       "0                           None                           None      41.77   \n",
       "1                           None                           None      41.77   \n",
       "2                           None                           None      41.95   \n",
       "3                           None                           None      41.97   \n",
       "4  Mulligan Ave & Wellington Ave          Calumet Ave & 71st St      41.79   \n",
       "5     Forrestville Ave & 47th St  Mulligan Ave & Wellington Ave      41.81   \n",
       "6          Calumet Ave & 71st St     Forrestville Ave & 47th St      41.77   \n",
       "7     W Oakdale Ave & N Broadway            Clark St & Grace St      41.94   \n",
       "8                           None                           None      41.92   \n",
       "9              Steelworkers Park              Steelworkers Park      41.74   \n",
       "\n",
       "   start_lng    end_lat    end_lng member_casual   trip_duration  \n",
       "0     -87.68  41.770000 -87.680000        member 0 days 00:06:55  \n",
       "1     -87.68  41.770000 -87.630000        member 0 days 00:16:10  \n",
       "2     -87.65  41.970000 -87.660000        member 0 days 00:16:13  \n",
       "3     -87.67  41.950000 -87.650000        member 0 days 00:15:18  \n",
       "4     -87.60  41.770000 -87.620000        member 0 days 00:08:42  \n",
       "5     -87.61  41.800000 -87.600000        member 0 days 00:06:35  \n",
       "6     -87.62  41.810000 -87.610000        member 0 days 00:15:41  \n",
       "7     -87.64  41.950874 -87.659146        member 0 days 00:05:41  \n",
       "8     -87.66  41.920000 -87.660000        member 0 days 00:00:18  \n",
       "9     -87.53  41.740000 -87.530000        member 0 days 00:17:27  "
      ]
     },
     "execution_count": 39,
     "metadata": {},
     "output_type": "execute_result"
    }
   ],
   "source": [
    "#Checking the new column\n",
    "trips_2021_2022.head(10)"
   ]
  },
  {
   "cell_type": "markdown",
   "metadata": {},
   "source": [
    "We initially had a little more of 6 millions rows of data (6005233).\n",
    "\n",
    "After cleaning, filtering and formatting the data we now are left with 5.79 million rows of data (5790279).\n",
    "\n",
    "That means we've kept 96.42% of the original data for the columns 'rideable_type', 'started_at', 'ended_at', 'start_lat', 'start_lng', 'end_lat', 'end_lng', and 'member_casual'.\n",
    "\n",
    "It's worth nothing that we were able to identify 282k rows of Start Station names (282218) and 213k rows of End Station names (213977), improving the data for those columns by 5.50% and 4.22% respectively."
   ]
  }
 ],
 "metadata": {
  "kernelspec": {
   "display_name": "Python 3.9.6 64-bit",
   "language": "python",
   "name": "python3"
  },
  "language_info": {
   "codemirror_mode": {
    "name": "ipython",
    "version": 3
   },
   "file_extension": ".py",
   "mimetype": "text/x-python",
   "name": "python",
   "nbconvert_exporter": "python",
   "pygments_lexer": "ipython3",
   "version": "3.9.6"
  },
  "orig_nbformat": 4,
  "vscode": {
   "interpreter": {
    "hash": "11938c6bc6919ae2720b4d5011047913343b08a43b18698fd82dedb0d4417594"
   }
  }
 },
 "nbformat": 4,
 "nbformat_minor": 2
}
