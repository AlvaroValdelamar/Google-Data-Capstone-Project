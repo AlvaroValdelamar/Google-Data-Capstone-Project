{
 "cells": [
  {
   "cell_type": "markdown",
   "metadata": {},
   "source": [
    "# 1. Business Task\n",
    "Cyclistic is a company based on Chicago looking for how to keep growing in the future. Their business is based on different bike rental plans:\n",
    "\n",
    "-Single-ride pass.\n",
    "\n",
    "-Full-day pass.\n",
    "\n",
    "-Annual membership.\n",
    "\n",
    "We are going to analyse how annual members (Annual membership) differ from casual riders (Single pass and Full-day pass) using Cyclistic, in order to help the organization design marketing strategies aimed at converting casual riders into annual members. \n",
    "\n",
    "Annual members are more profitable than casual riders, so stakeholders believe that increasing the amount of annual riders is key for Cyclistic's growth in the future."
   ]
  },
  {
   "cell_type": "markdown",
   "metadata": {},
   "source": [
    "# 2. Data Preparation\n",
    "\n",
    "The data used is internally collected monthly data from August 2021 to July 2022 by Cyclistic from their users. We assume the data is reliable and original since it comes from the company. The data is current since it's from the past 12 months, and it is cited because we can check for documentation about the meaning of each column and because it has been used in other projects..\n",
    "\n",
    "The data is stored by the company on AWS' S3 cloud object storaged solution in dot zip files.\n",
    "\n",
    "https://divvy-tripdata.s3.amazonaws.com/index.html\n",
    "\n",
    "In general the data contains anonymous user information regarding ride identification, starting and ending time of the ride, the starting and ending station of the ride, and the user type of the ride. That will be useful to analyze the difference in behavior from casual user and annual members.\n",
    "\n",
    "The data it's stored in the structured data format. However, there is data missing in some columns.\n"
   ]
  },
  {
   "cell_type": "markdown",
   "metadata": {},
   "source": [
    "#### Storing the data\n",
    "0. The zip files were stored in the 'dot zip files' folder.\n",
    "\n",
    "1. The zip files were uncompressed, in an individual carpet for each time period, in the 'csv files' folder.\n",
    "\n",
    "2. The csv files containg information about the Byke Trips were copied to the 'raw data' folder.\n",
    "\n"
   ]
  },
  {
   "cell_type": "markdown",
   "metadata": {},
   "source": [
    "#### Understanding the data\n",
    "The \"Trips\" table contained the following columns:\n",
    "\n",
    "- ride_id: String identification of the trip.\n",
    "\n",
    "- rideable_type: Bike category used during the trip.\n",
    "\n",
    "- started_at: Datetime of the starting time of the bike trip.\n",
    "\n",
    "- ended_at: Datetime of the ending time of the bike trip.\n",
    "\n",
    "- start_station_name: Name of the starting point station of the trip.\n",
    "\n",
    "- start_station_id: Number identification of the starting point station of the trip.\n",
    "\n",
    "- end_station_name: Name of the ending point station of the trip.\n",
    "\n",
    "- end_station_id: Number identification of the ending point station of the trip.\n",
    "\n",
    "- start_lat: Latitude point of the starting station of the trip.\n",
    "\n",
    "- start_lng: Longitude point of the starting station of the trip.\n",
    "\n",
    "- end_lat: Latitude point of the ending station of the trip.\n",
    "\n",
    "- end_lng: Longitude point of the ending station of the trip.\n",
    "\n",
    "- member_casual: Refers to the User Type of the trip. Category 'casual' refers to single-ride pass and full-day pass users. The 'member' category refers to users with annual memberships."
   ]
  },
  {
   "cell_type": "markdown",
   "metadata": {},
   "source": [
    "# 3. Data Processing\n",
    "\n"
   ]
  },
  {
   "cell_type": "markdown",
   "metadata": {},
   "source": [
    "### Log of changes:\n",
    "\n",
    "1. All the csv files for the months from August 2021 to August 2022 were concatenated into a single pandas dataframe.\n",
    "2. Trips with duplicated rows of ride_id were dropped from the dataframe.\n",
    "3. After that the ride_id columns was dropped from the dataframe.\n",
    "4. Rows that had missing values for the start and end point coordinates ('start_lat', 'start_lng', 'end_lat', 'end_lng') were dropped.\n",
    "5. Rows with empty data in the 'started_at' and 'ended_at' columns were dropped.\n",
    "6. Columns 'started_at' and 'ended_at' were converted to the datetime data type using pandas.\n",
    "7. Rows that had a greater 'started_at' values than their 'ended_at' were filtered out from the dataframe.\n",
    "8. The 'start_station_id' and 'end_station_id' columns were dropped from the dataframe.\n",
    "9. Two rows that had their start_station_name and end_station_name manually converted to 'Mulligan Ave & Wellington Ave' because their name was mixed up with the station_id (value originally was '351').\n",
    "10. 4.22% of the missing values for 'end_station_name' and 5.50% of the missing values for 'start_station_name' were filled out matching station names with their coordinate points.\n",
    "11. The 'trip_duration' column was created substracting the 'ended_at' time for the 'started_at' time for each row.\n",
    "12. Rows that had a 'trip_duration' of less or equal than 1 minute long were filtered out.\n",
    "13. The 'day_of_the_week' column was created to point out the number of the day of the week from when the trip 'started_at'.\n",
    "17. The cleaned dataframe was saved as a .csv file in the 'clean data' folder.\n"
   ]
  },
  {
   "cell_type": "markdown",
   "metadata": {},
   "source": [
    "#### Data cleaning and Processing with Python and Pandas\n",
    "The changes made to the data were done in the following code chunks"
   ]
  },
  {
   "cell_type": "code",
   "execution_count": 2,
   "metadata": {},
   "outputs": [],
   "source": [
    "#Imported the necessary libraries\n",
    "import pandas as pd\n",
    "import numpy as np"
   ]
  },
  {
   "cell_type": "code",
   "execution_count": 110,
   "metadata": {},
   "outputs": [],
   "source": [
    "#Load the data with pandas for each month (From August 2021 to July 2022)\n",
    "trips_2021_08 = pd.read_csv('data/raw data/202108-divvy-tripdata.csv')\n",
    "trips_2021_09 = pd.read_csv('data/raw data/202109-divvy-tripdata.csv')\n",
    "trips_2021_10 = pd.read_csv('data/raw data/202110-divvy-tripdata.csv')\n",
    "trips_2021_11 = pd.read_csv('data/raw data/202111-divvy-tripdata.csv')\n",
    "trips_2021_12 = pd.read_csv('data/raw data/202112-divvy-tripdata.csv')\n",
    "trips_2022_01 = pd.read_csv('data/raw data/202201-divvy-tripdata.csv')\n",
    "trips_2022_02 = pd.read_csv('data/raw data/202202-divvy-tripdata.csv')\n",
    "trips_2022_03 = pd.read_csv('data/raw data/202203-divvy-tripdata.csv')\n",
    "trips_2022_04 = pd.read_csv('data/raw data/202204-divvy-tripdata.csv')\n",
    "trips_2022_05 = pd.read_csv('data/raw data/202205-divvy-tripdata.csv')\n",
    "trips_2022_06 = pd.read_csv('data/raw data/202206-divvy-tripdata.csv')\n",
    "trips_2022_07 = pd.read_csv('data/raw data/202207-divvy-tripdata.csv')\n",
    "trips_2022_08 = pd.read_csv('data/raw data/202201-divvy-tripdata.csv')"
   ]
  },
  {
   "cell_type": "code",
   "execution_count": 111,
   "metadata": {},
   "outputs": [
    {
     "name": "stdout",
     "output_type": "stream",
     "text": [
      "<class 'pandas.core.frame.DataFrame'>\n",
      "RangeIndex: 804352 entries, 0 to 804351\n",
      "Data columns (total 13 columns):\n",
      " #   Column              Non-Null Count   Dtype  \n",
      "---  ------              --------------   -----  \n",
      " 0   ride_id             804352 non-null  object \n",
      " 1   rideable_type       804352 non-null  object \n",
      " 2   started_at          804352 non-null  object \n",
      " 3   ended_at            804352 non-null  object \n",
      " 4   start_station_name  715894 non-null  object \n",
      " 5   start_station_id    715894 non-null  object \n",
      " 6   end_station_name    710237 non-null  object \n",
      " 7   end_station_id      710237 non-null  object \n",
      " 8   start_lat           804352 non-null  float64\n",
      " 9   start_lng           804352 non-null  float64\n",
      " 10  end_lat             803646 non-null  float64\n",
      " 11  end_lng             803646 non-null  float64\n",
      " 12  member_casual       804352 non-null  object \n",
      "dtypes: float64(4), object(9)\n",
      "memory usage: 79.8+ MB\n"
     ]
    }
   ],
   "source": [
    "#Looking inside the data from August 2021 we can see there are rows with missing values in several columns\n",
    "trips_2021_08.info()"
   ]
  },
  {
   "cell_type": "markdown",
   "metadata": {},
   "source": [
    "By using the info() function we know the data doesn't have any empty values for the datetime columns, but there's missing data regarding the station name's and coordinate points."
   ]
  },
  {
   "cell_type": "code",
   "execution_count": 112,
   "metadata": {},
   "outputs": [],
   "source": [
    "#Adding the month is useful to latter concatenate them into a dataframe\n",
    "trips_by_month = [\n",
    "    trips_2021_08,\n",
    "    trips_2021_09,\n",
    "    trips_2021_10,\n",
    "    trips_2021_11,\n",
    "    trips_2021_12,\n",
    "    trips_2022_01,\n",
    "    trips_2022_02,\n",
    "    trips_2022_03,\n",
    "    trips_2022_04,\n",
    "    trips_2022_05,\n",
    "    trips_2022_06,\n",
    "    trips_2022_07,\n",
    "    trips_2022_08\n",
    "    ]"
   ]
  },
  {
   "cell_type": "code",
   "execution_count": 113,
   "metadata": {},
   "outputs": [
    {
     "name": "stdout",
     "output_type": "stream",
     "text": [
      "13\n",
      "13\n",
      "13\n",
      "13\n",
      "13\n",
      "13\n",
      "13\n",
      "13\n",
      "13\n",
      "13\n",
      "13\n",
      "13\n",
      "13\n"
     ]
    }
   ],
   "source": [
    "#We can once more check that all the dataframes have the same number of columns\n",
    "for month in trips_by_month:\n",
    "    print(month.shape[1])"
   ]
  },
  {
   "cell_type": "code",
   "execution_count": 114,
   "metadata": {},
   "outputs": [],
   "source": [
    "#Merged all the data into a single dataframe\n",
    "\n",
    "trips_2021_2022 = pd.concat(trips_by_month)"
   ]
  },
  {
   "cell_type": "code",
   "execution_count": 115,
   "metadata": {},
   "outputs": [
    {
     "name": "stdout",
     "output_type": "stream",
     "text": [
      "<class 'pandas.core.frame.DataFrame'>\n",
      "Int64Index: 6005233 entries, 0 to 103769\n",
      "Data columns (total 13 columns):\n",
      " #   Column              Non-Null Count    Dtype  \n",
      "---  ------              --------------    -----  \n",
      " 0   ride_id             6005233 non-null  object \n",
      " 1   rideable_type       6005233 non-null  object \n",
      " 2   started_at          6005233 non-null  object \n",
      " 3   ended_at            6005233 non-null  object \n",
      " 4   start_station_name  5128187 non-null  object \n",
      " 5   start_station_id    5128189 non-null  object \n",
      " 6   end_station_name    5067410 non-null  object \n",
      " 7   end_station_id      5067410 non-null  object \n",
      " 8   start_lat           6005233 non-null  float64\n",
      " 9   start_lng           6005233 non-null  float64\n",
      " 10  end_lat             5999557 non-null  float64\n",
      " 11  end_lng             5999557 non-null  float64\n",
      " 12  member_casual       6005233 non-null  object \n",
      "dtypes: float64(4), object(9)\n",
      "memory usage: 641.4+ MB\n"
     ]
    }
   ],
   "source": [
    "#All the merged data is 6005233 rows and 13 columns\n",
    "trips_2021_2022.info(verbose=True, show_counts=True)"
   ]
  },
  {
   "cell_type": "code",
   "execution_count": 116,
   "metadata": {},
   "outputs": [
    {
     "data": {
      "text/html": [
       "<div>\n",
       "<style scoped>\n",
       "    .dataframe tbody tr th:only-of-type {\n",
       "        vertical-align: middle;\n",
       "    }\n",
       "\n",
       "    .dataframe tbody tr th {\n",
       "        vertical-align: top;\n",
       "    }\n",
       "\n",
       "    .dataframe thead th {\n",
       "        text-align: right;\n",
       "    }\n",
       "</style>\n",
       "<table border=\"1\" class=\"dataframe\">\n",
       "  <thead>\n",
       "    <tr style=\"text-align: right;\">\n",
       "      <th></th>\n",
       "      <th>ride_id</th>\n",
       "      <th>rideable_type</th>\n",
       "      <th>started_at</th>\n",
       "      <th>ended_at</th>\n",
       "      <th>start_station_name</th>\n",
       "      <th>start_station_id</th>\n",
       "      <th>end_station_name</th>\n",
       "      <th>end_station_id</th>\n",
       "      <th>start_lat</th>\n",
       "      <th>start_lng</th>\n",
       "      <th>end_lat</th>\n",
       "      <th>end_lng</th>\n",
       "      <th>member_casual</th>\n",
       "    </tr>\n",
       "  </thead>\n",
       "  <tbody>\n",
       "    <tr>\n",
       "      <th>0</th>\n",
       "      <td>99103BB87CC6C1BB</td>\n",
       "      <td>electric_bike</td>\n",
       "      <td>2021-08-10 17:15:49</td>\n",
       "      <td>2021-08-10 17:22:44</td>\n",
       "      <td>NaN</td>\n",
       "      <td>NaN</td>\n",
       "      <td>NaN</td>\n",
       "      <td>NaN</td>\n",
       "      <td>41.77</td>\n",
       "      <td>-87.68</td>\n",
       "      <td>41.770000</td>\n",
       "      <td>-87.680000</td>\n",
       "      <td>member</td>\n",
       "    </tr>\n",
       "    <tr>\n",
       "      <th>1</th>\n",
       "      <td>EAFCCCFB0A3FC5A1</td>\n",
       "      <td>electric_bike</td>\n",
       "      <td>2021-08-10 17:23:14</td>\n",
       "      <td>2021-08-10 17:39:24</td>\n",
       "      <td>NaN</td>\n",
       "      <td>NaN</td>\n",
       "      <td>NaN</td>\n",
       "      <td>NaN</td>\n",
       "      <td>41.77</td>\n",
       "      <td>-87.68</td>\n",
       "      <td>41.770000</td>\n",
       "      <td>-87.630000</td>\n",
       "      <td>member</td>\n",
       "    </tr>\n",
       "    <tr>\n",
       "      <th>2</th>\n",
       "      <td>9EF4F46C57AD234D</td>\n",
       "      <td>electric_bike</td>\n",
       "      <td>2021-08-21 02:34:23</td>\n",
       "      <td>2021-08-21 02:50:36</td>\n",
       "      <td>NaN</td>\n",
       "      <td>NaN</td>\n",
       "      <td>NaN</td>\n",
       "      <td>NaN</td>\n",
       "      <td>41.95</td>\n",
       "      <td>-87.65</td>\n",
       "      <td>41.970000</td>\n",
       "      <td>-87.660000</td>\n",
       "      <td>member</td>\n",
       "    </tr>\n",
       "    <tr>\n",
       "      <th>3</th>\n",
       "      <td>5834D3208BFAF1DA</td>\n",
       "      <td>electric_bike</td>\n",
       "      <td>2021-08-21 06:52:55</td>\n",
       "      <td>2021-08-21 07:08:13</td>\n",
       "      <td>NaN</td>\n",
       "      <td>NaN</td>\n",
       "      <td>NaN</td>\n",
       "      <td>NaN</td>\n",
       "      <td>41.97</td>\n",
       "      <td>-87.67</td>\n",
       "      <td>41.950000</td>\n",
       "      <td>-87.650000</td>\n",
       "      <td>member</td>\n",
       "    </tr>\n",
       "    <tr>\n",
       "      <th>4</th>\n",
       "      <td>CD825CB87ED1D096</td>\n",
       "      <td>electric_bike</td>\n",
       "      <td>2021-08-19 11:55:29</td>\n",
       "      <td>2021-08-19 12:04:11</td>\n",
       "      <td>NaN</td>\n",
       "      <td>NaN</td>\n",
       "      <td>NaN</td>\n",
       "      <td>NaN</td>\n",
       "      <td>41.79</td>\n",
       "      <td>-87.60</td>\n",
       "      <td>41.770000</td>\n",
       "      <td>-87.620000</td>\n",
       "      <td>member</td>\n",
       "    </tr>\n",
       "    <tr>\n",
       "      <th>5</th>\n",
       "      <td>612F12C94A964F3E</td>\n",
       "      <td>electric_bike</td>\n",
       "      <td>2021-08-19 12:41:12</td>\n",
       "      <td>2021-08-19 12:47:47</td>\n",
       "      <td>NaN</td>\n",
       "      <td>NaN</td>\n",
       "      <td>NaN</td>\n",
       "      <td>NaN</td>\n",
       "      <td>41.81</td>\n",
       "      <td>-87.61</td>\n",
       "      <td>41.800000</td>\n",
       "      <td>-87.600000</td>\n",
       "      <td>member</td>\n",
       "    </tr>\n",
       "    <tr>\n",
       "      <th>6</th>\n",
       "      <td>C7435946FDFFA9B7</td>\n",
       "      <td>electric_bike</td>\n",
       "      <td>2021-08-19 12:21:50</td>\n",
       "      <td>2021-08-19 12:37:31</td>\n",
       "      <td>NaN</td>\n",
       "      <td>NaN</td>\n",
       "      <td>NaN</td>\n",
       "      <td>NaN</td>\n",
       "      <td>41.77</td>\n",
       "      <td>-87.62</td>\n",
       "      <td>41.810000</td>\n",
       "      <td>-87.610000</td>\n",
       "      <td>member</td>\n",
       "    </tr>\n",
       "    <tr>\n",
       "      <th>7</th>\n",
       "      <td>C67017767EED2251</td>\n",
       "      <td>electric_bike</td>\n",
       "      <td>2021-08-13 14:52:35</td>\n",
       "      <td>2021-08-13 14:58:16</td>\n",
       "      <td>NaN</td>\n",
       "      <td>NaN</td>\n",
       "      <td>Clark St &amp; Grace St</td>\n",
       "      <td>TA1307000127</td>\n",
       "      <td>41.94</td>\n",
       "      <td>-87.64</td>\n",
       "      <td>41.950874</td>\n",
       "      <td>-87.659146</td>\n",
       "      <td>member</td>\n",
       "    </tr>\n",
       "    <tr>\n",
       "      <th>8</th>\n",
       "      <td>ABC4532F2B4983AB</td>\n",
       "      <td>electric_bike</td>\n",
       "      <td>2021-08-17 18:23:55</td>\n",
       "      <td>2021-08-17 18:24:13</td>\n",
       "      <td>NaN</td>\n",
       "      <td>NaN</td>\n",
       "      <td>NaN</td>\n",
       "      <td>NaN</td>\n",
       "      <td>41.92</td>\n",
       "      <td>-87.66</td>\n",
       "      <td>41.920000</td>\n",
       "      <td>-87.660000</td>\n",
       "      <td>member</td>\n",
       "    </tr>\n",
       "    <tr>\n",
       "      <th>9</th>\n",
       "      <td>82437E52DC3B9A8A</td>\n",
       "      <td>electric_bike</td>\n",
       "      <td>2021-08-04 12:50:53</td>\n",
       "      <td>2021-08-04 13:08:20</td>\n",
       "      <td>NaN</td>\n",
       "      <td>NaN</td>\n",
       "      <td>NaN</td>\n",
       "      <td>NaN</td>\n",
       "      <td>41.74</td>\n",
       "      <td>-87.53</td>\n",
       "      <td>41.740000</td>\n",
       "      <td>-87.530000</td>\n",
       "      <td>member</td>\n",
       "    </tr>\n",
       "  </tbody>\n",
       "</table>\n",
       "</div>"
      ],
      "text/plain": [
       "            ride_id  rideable_type           started_at             ended_at  \\\n",
       "0  99103BB87CC6C1BB  electric_bike  2021-08-10 17:15:49  2021-08-10 17:22:44   \n",
       "1  EAFCCCFB0A3FC5A1  electric_bike  2021-08-10 17:23:14  2021-08-10 17:39:24   \n",
       "2  9EF4F46C57AD234D  electric_bike  2021-08-21 02:34:23  2021-08-21 02:50:36   \n",
       "3  5834D3208BFAF1DA  electric_bike  2021-08-21 06:52:55  2021-08-21 07:08:13   \n",
       "4  CD825CB87ED1D096  electric_bike  2021-08-19 11:55:29  2021-08-19 12:04:11   \n",
       "5  612F12C94A964F3E  electric_bike  2021-08-19 12:41:12  2021-08-19 12:47:47   \n",
       "6  C7435946FDFFA9B7  electric_bike  2021-08-19 12:21:50  2021-08-19 12:37:31   \n",
       "7  C67017767EED2251  electric_bike  2021-08-13 14:52:35  2021-08-13 14:58:16   \n",
       "8  ABC4532F2B4983AB  electric_bike  2021-08-17 18:23:55  2021-08-17 18:24:13   \n",
       "9  82437E52DC3B9A8A  electric_bike  2021-08-04 12:50:53  2021-08-04 13:08:20   \n",
       "\n",
       "  start_station_name start_station_id     end_station_name end_station_id  \\\n",
       "0                NaN              NaN                  NaN            NaN   \n",
       "1                NaN              NaN                  NaN            NaN   \n",
       "2                NaN              NaN                  NaN            NaN   \n",
       "3                NaN              NaN                  NaN            NaN   \n",
       "4                NaN              NaN                  NaN            NaN   \n",
       "5                NaN              NaN                  NaN            NaN   \n",
       "6                NaN              NaN                  NaN            NaN   \n",
       "7                NaN              NaN  Clark St & Grace St   TA1307000127   \n",
       "8                NaN              NaN                  NaN            NaN   \n",
       "9                NaN              NaN                  NaN            NaN   \n",
       "\n",
       "   start_lat  start_lng    end_lat    end_lng member_casual  \n",
       "0      41.77     -87.68  41.770000 -87.680000        member  \n",
       "1      41.77     -87.68  41.770000 -87.630000        member  \n",
       "2      41.95     -87.65  41.970000 -87.660000        member  \n",
       "3      41.97     -87.67  41.950000 -87.650000        member  \n",
       "4      41.79     -87.60  41.770000 -87.620000        member  \n",
       "5      41.81     -87.61  41.800000 -87.600000        member  \n",
       "6      41.77     -87.62  41.810000 -87.610000        member  \n",
       "7      41.94     -87.64  41.950874 -87.659146        member  \n",
       "8      41.92     -87.66  41.920000 -87.660000        member  \n",
       "9      41.74     -87.53  41.740000 -87.530000        member  "
      ]
     },
     "execution_count": 116,
     "metadata": {},
     "output_type": "execute_result"
    }
   ],
   "source": [
    "trips_2021_2022.head(10)"
   ]
  },
  {
   "cell_type": "markdown",
   "metadata": {},
   "source": [
    "We will start by checking if there aren't any trips with duplicated ride_id's"
   ]
  },
  {
   "cell_type": "code",
   "execution_count": 117,
   "metadata": {},
   "outputs": [
    {
     "data": {
      "text/plain": [
       "103770"
      ]
     },
     "execution_count": 117,
     "metadata": {},
     "output_type": "execute_result"
    }
   ],
   "source": [
    "original_number_ride_ids = len(trips_2021_2022['ride_id'])\n",
    "non_duplicated_ride_ids = len(trips_2021_2022['ride_id'].drop_duplicates())\n",
    "number_of_duplicated_ids = original_number_ride_ids - non_duplicated_ride_ids\n",
    "number_of_duplicated_ids # 103770 trips with duplicated ride_id's"
   ]
  },
  {
   "cell_type": "markdown",
   "metadata": {},
   "source": [
    "Since ride_id's are supposed to be unique for each trip, we will drop the rows that have duplicated ride_id's"
   ]
  },
  {
   "cell_type": "code",
   "execution_count": 118,
   "metadata": {},
   "outputs": [],
   "source": [
    "trips_2021_2022.drop_duplicates(subset=['ride_id'], inplace=True)"
   ]
  },
  {
   "cell_type": "code",
   "execution_count": 119,
   "metadata": {},
   "outputs": [],
   "source": [
    "#We will drop the ride_id column now that we now that we've deleted duplicates since this column is not necessary for the analysis\n",
    "trips_2021_2022.drop(columns=['ride_id'], inplace=True)"
   ]
  },
  {
   "cell_type": "markdown",
   "metadata": {},
   "source": [
    "We know there's a lot of missing data regarding station names and geographical points.\n",
    "\n",
    "Since we it could be useful to use geographical data to map each the Stations by trip\n",
    "\n",
    "we will delete the rows that have missing data in the\n",
    "\n",
    "'start_lat', 'start_lng', 'end_lat', and 'end_lng' columns."
   ]
  },
  {
   "cell_type": "code",
   "execution_count": 120,
   "metadata": {},
   "outputs": [],
   "source": [
    "trips_2021_2022 = trips_2021_2022[trips_2021_2022['start_lat'].notna()]\n",
    "trips_2021_2022 = trips_2021_2022[trips_2021_2022['start_lng'].notna()]\n",
    "trips_2021_2022 = trips_2021_2022[trips_2021_2022['end_lat'].notna()]\n",
    "trips_2021_2022 = trips_2021_2022[trips_2021_2022['end_lng'].notna()]\n",
    "\n",
    "#If we we didn't want to plot the stations by trips we would drop all the following columns:\n",
    "#trips_2021_2022.drop(columns=['start_lat', 'start_lng', 'end_lat', 'end_lng'], inplace=True)"
   ]
  },
  {
   "cell_type": "code",
   "execution_count": 121,
   "metadata": {},
   "outputs": [
    {
     "name": "stdout",
     "output_type": "stream",
     "text": [
      "<class 'pandas.core.frame.DataFrame'>\n",
      "Int64Index: 5895873 entries, 0 to 823487\n",
      "Data columns (total 12 columns):\n",
      " #   Column              Non-Null Count    Dtype  \n",
      "---  ------              --------------    -----  \n",
      " 0   rideable_type       5895873 non-null  object \n",
      " 1   started_at          5895873 non-null  object \n",
      " 2   ended_at            5895873 non-null  object \n",
      " 3   start_station_name  5035087 non-null  object \n",
      " 4   start_station_id    5035089 non-null  object \n",
      " 5   end_station_name    4981567 non-null  object \n",
      " 6   end_station_id      4981567 non-null  object \n",
      " 7   start_lat           5895873 non-null  float64\n",
      " 8   start_lng           5895873 non-null  float64\n",
      " 9   end_lat             5895873 non-null  float64\n",
      " 10  end_lng             5895873 non-null  float64\n",
      " 11  member_casual       5895873 non-null  object \n",
      "dtypes: float64(4), object(8)\n",
      "memory usage: 584.8+ MB\n"
     ]
    }
   ],
   "source": [
    "trips_2021_2022.info(verbose=True, show_counts=True)\n",
    "#By dropping the empty geographical points we've reduced the data by 0.1%.\n",
    "# We've gone from 6005233 rows to 5999557 rows."
   ]
  },
  {
   "cell_type": "code",
   "execution_count": 122,
   "metadata": {},
   "outputs": [],
   "source": [
    "#Since we're insterested to know the behaviour of the users, \n",
    "# we will drop the rows with empty data in the 'started_at', 'ended_at' columns.\n",
    "trips_2021_2022 = trips_2021_2022[trips_2021_2022['started_at'].notna()]\n",
    "trips_2021_2022 = trips_2021_2022[trips_2021_2022['ended_at'].notna()]"
   ]
  },
  {
   "cell_type": "code",
   "execution_count": 123,
   "metadata": {},
   "outputs": [],
   "source": [
    "#Converting the 'started_at' and 'ended_at' columns to datatime format\n",
    "trips_2021_2022['started_at'] = pd.to_datetime(trips_2021_2022['started_at'])\n",
    "trips_2021_2022['ended_at'] = pd.to_datetime(trips_2021_2022['ended_at'])"
   ]
  },
  {
   "cell_type": "code",
   "execution_count": 124,
   "metadata": {},
   "outputs": [
    {
     "name": "stdout",
     "output_type": "stream",
     "text": [
      "<class 'pandas.core.frame.DataFrame'>\n",
      "Int64Index: 5895873 entries, 0 to 823487\n",
      "Data columns (total 12 columns):\n",
      " #   Column              Non-Null Count    Dtype         \n",
      "---  ------              --------------    -----         \n",
      " 0   rideable_type       5895873 non-null  object        \n",
      " 1   started_at          5895873 non-null  datetime64[ns]\n",
      " 2   ended_at            5895873 non-null  datetime64[ns]\n",
      " 3   start_station_name  5035087 non-null  object        \n",
      " 4   start_station_id    5035089 non-null  object        \n",
      " 5   end_station_name    4981567 non-null  object        \n",
      " 6   end_station_id      4981567 non-null  object        \n",
      " 7   start_lat           5895873 non-null  float64       \n",
      " 8   start_lng           5895873 non-null  float64       \n",
      " 9   end_lat             5895873 non-null  float64       \n",
      " 10  end_lng             5895873 non-null  float64       \n",
      " 11  member_casual       5895873 non-null  object        \n",
      "dtypes: datetime64[ns](2), float64(4), object(6)\n",
      "memory usage: 584.8+ MB\n"
     ]
    }
   ],
   "source": [
    "#Now we've changed the data type of the time columns\n",
    "trips_2021_2022.info(verbose=True, show_counts=True)"
   ]
  },
  {
   "cell_type": "code",
   "execution_count": 125,
   "metadata": {},
   "outputs": [],
   "source": [
    "#We will also filter out rows whos started_at time is greater than its ended_at time\n",
    "trips_2021_2022 = trips_2021_2022[trips_2021_2022['started_at'] < trips_2021_2022['ended_at']]"
   ]
  },
  {
   "cell_type": "code",
   "execution_count": 126,
   "metadata": {},
   "outputs": [
    {
     "name": "stdout",
     "output_type": "stream",
     "text": [
      "<class 'pandas.core.frame.DataFrame'>\n",
      "Int64Index: 5895237 entries, 0 to 823487\n",
      "Data columns (total 12 columns):\n",
      " #   Column              Non-Null Count    Dtype         \n",
      "---  ------              --------------    -----         \n",
      " 0   rideable_type       5895237 non-null  object        \n",
      " 1   started_at          5895237 non-null  datetime64[ns]\n",
      " 2   ended_at            5895237 non-null  datetime64[ns]\n",
      " 3   start_station_name  5034483 non-null  object        \n",
      " 4   start_station_id    5034485 non-null  object        \n",
      " 5   end_station_name    4981280 non-null  object        \n",
      " 6   end_station_id      4981280 non-null  object        \n",
      " 7   start_lat           5895237 non-null  float64       \n",
      " 8   start_lng           5895237 non-null  float64       \n",
      " 9   end_lat             5895237 non-null  float64       \n",
      " 10  end_lng             5895237 non-null  float64       \n",
      " 11  member_casual       5895237 non-null  object        \n",
      "dtypes: datetime64[ns](2), float64(4), object(6)\n",
      "memory usage: 584.7+ MB\n"
     ]
    }
   ],
   "source": [
    "trips_2021_2022.info(verbose=True, show_counts=True)\n",
    "#We got rid of 636 rows that had wrong values for the started_at and ended_at times"
   ]
  },
  {
   "cell_type": "markdown",
   "metadata": {},
   "source": [
    "Now we want to know how many different Starting and Ending stations are saved in the data "
   ]
  },
  {
   "cell_type": "code",
   "execution_count": 127,
   "metadata": {},
   "outputs": [
    {
     "data": {
      "text/plain": [
       "(1381,)"
      ]
     },
     "execution_count": 127,
     "metadata": {},
     "output_type": "execute_result"
    }
   ],
   "source": [
    "#We can see there are 1380 different Starting Stations\n",
    "trips_2021_2022['start_station_name'].value_counts().shape"
   ]
  },
  {
   "cell_type": "code",
   "execution_count": 128,
   "metadata": {},
   "outputs": [
    {
     "data": {
      "text/plain": [
       "(1396,)"
      ]
     },
     "execution_count": 128,
     "metadata": {},
     "output_type": "execute_result"
    }
   ],
   "source": [
    "#We can see there are 1392 different Ending Stations\n",
    "trips_2021_2022['end_station_name'].value_counts().shape"
   ]
  },
  {
   "cell_type": "code",
   "execution_count": 129,
   "metadata": {},
   "outputs": [
    {
     "data": {
      "text/plain": [
       "(1226,)"
      ]
     },
     "execution_count": 129,
     "metadata": {},
     "output_type": "execute_result"
    }
   ],
   "source": [
    "#Not all Starting Stations are identifiable by their id\n",
    "trips_2021_2022['start_station_id'].value_counts().shape"
   ]
  },
  {
   "cell_type": "code",
   "execution_count": 130,
   "metadata": {},
   "outputs": [
    {
     "data": {
      "text/plain": [
       "(1236,)"
      ]
     },
     "execution_count": 130,
     "metadata": {},
     "output_type": "execute_result"
    }
   ],
   "source": [
    "#Not all Ending Stations are identifiable by their id\n",
    "trips_2021_2022['end_station_id'].value_counts().shape"
   ]
  },
  {
   "cell_type": "markdown",
   "metadata": {},
   "source": [
    "Since the station's id is not necessary for the analysis we will drop those columns as well"
   ]
  },
  {
   "cell_type": "code",
   "execution_count": 131,
   "metadata": {},
   "outputs": [],
   "source": [
    "trips_2021_2022.drop(columns=['start_station_id', 'end_station_id'], inplace=True)"
   ]
  },
  {
   "cell_type": "code",
   "execution_count": 132,
   "metadata": {},
   "outputs": [],
   "source": [
    "#We sort the values by alphabetic order and look for unique values\n",
    "start_names = trips_2021_2022.sort_values(by=['start_station_name'], ascending=True)\n",
    "end_names = trips_2021_2022.sort_values(by=['end_station_name'], ascending=True)\n",
    "start_names = set(start_names.start_station_name)\n",
    "end_names = set(end_names.end_station_name)"
   ]
  },
  {
   "cell_type": "markdown",
   "metadata": {},
   "source": [
    "Let's find if there's some error in the difference between the amount of Start Station names and End Station names.\n"
   ]
  },
  {
   "cell_type": "code",
   "execution_count": 133,
   "metadata": {},
   "outputs": [
    {
     "data": {
      "text/plain": [
       "{'351',\n",
       " 'Buffalo Ave & 133rd St',\n",
       " 'Hale Ave & 111th St',\n",
       " 'Keef Ave & South Chicago Ave',\n",
       " 'Lamon Ave & Archer Ave',\n",
       " 'Oglesby Ave & 105th St',\n",
       " 'Public Rack - La Moyne Ave and Leamington Ave',\n",
       " 'Public Rack - Western Ave & 98th St',\n",
       " 'WestChi'}"
      ]
     },
     "execution_count": 133,
     "metadata": {},
     "output_type": "execute_result"
    }
   ],
   "source": [
    "#Let's find if there's some error in the difference between the amount of Start Station names and End Station names\n",
    "start_names.difference(end_names)\n",
    "\n",
    "#There's at least one station whos Start Name seems weird, '351'."
   ]
  },
  {
   "cell_type": "code",
   "execution_count": 134,
   "metadata": {},
   "outputs": [
    {
     "data": {
      "text/html": [
       "<div>\n",
       "<style scoped>\n",
       "    .dataframe tbody tr th:only-of-type {\n",
       "        vertical-align: middle;\n",
       "    }\n",
       "\n",
       "    .dataframe tbody tr th {\n",
       "        vertical-align: top;\n",
       "    }\n",
       "\n",
       "    .dataframe thead th {\n",
       "        text-align: right;\n",
       "    }\n",
       "</style>\n",
       "<table border=\"1\" class=\"dataframe\">\n",
       "  <thead>\n",
       "    <tr style=\"text-align: right;\">\n",
       "      <th></th>\n",
       "      <th>rideable_type</th>\n",
       "      <th>started_at</th>\n",
       "      <th>ended_at</th>\n",
       "      <th>start_station_name</th>\n",
       "      <th>end_station_name</th>\n",
       "      <th>start_lat</th>\n",
       "      <th>start_lng</th>\n",
       "      <th>end_lat</th>\n",
       "      <th>end_lng</th>\n",
       "      <th>member_casual</th>\n",
       "    </tr>\n",
       "  </thead>\n",
       "  <tbody>\n",
       "    <tr>\n",
       "      <th>80741</th>\n",
       "      <td>electric_bike</td>\n",
       "      <td>2021-08-04 16:31:29</td>\n",
       "      <td>2021-08-04 16:48:33</td>\n",
       "      <td>351</td>\n",
       "      <td>Mulligan Ave &amp; Wellington Ave</td>\n",
       "      <td>41.93</td>\n",
       "      <td>-87.78</td>\n",
       "      <td>41.93</td>\n",
       "      <td>-87.78</td>\n",
       "      <td>casual</td>\n",
       "    </tr>\n",
       "    <tr>\n",
       "      <th>606661</th>\n",
       "      <td>electric_bike</td>\n",
       "      <td>2021-08-07 23:59:38</td>\n",
       "      <td>2021-08-08 00:37:58</td>\n",
       "      <td>351</td>\n",
       "      <td>NaN</td>\n",
       "      <td>41.93</td>\n",
       "      <td>-87.78</td>\n",
       "      <td>41.94</td>\n",
       "      <td>-87.79</td>\n",
       "      <td>casual</td>\n",
       "    </tr>\n",
       "  </tbody>\n",
       "</table>\n",
       "</div>"
      ],
      "text/plain": [
       "        rideable_type          started_at            ended_at  \\\n",
       "80741   electric_bike 2021-08-04 16:31:29 2021-08-04 16:48:33   \n",
       "606661  electric_bike 2021-08-07 23:59:38 2021-08-08 00:37:58   \n",
       "\n",
       "       start_station_name               end_station_name  start_lat  \\\n",
       "80741                 351  Mulligan Ave & Wellington Ave      41.93   \n",
       "606661                351                            NaN      41.93   \n",
       "\n",
       "        start_lng  end_lat  end_lng member_casual  \n",
       "80741      -87.78    41.93   -87.78        casual  \n",
       "606661     -87.78    41.94   -87.79        casual  "
      ]
     },
     "execution_count": 134,
     "metadata": {},
     "output_type": "execute_result"
    }
   ],
   "source": [
    "trips_2021_2022[trips_2021_2022['start_station_name']=='351']\n",
    "# We can see those rows have the same starting and ending station because of their coordinates"
   ]
  },
  {
   "cell_type": "code",
   "execution_count": 135,
   "metadata": {},
   "outputs": [],
   "source": [
    "#We are going to manually update the start_station_name and end_station_name for the above rows\n",
    "trips_2021_2022.loc[80741, 'start_station_name'] = 'Mulligan Ave & Wellington Ave'\n",
    "trips_2021_2022.loc[606661, 'start_station_name'] = 'Mulligan Ave & Wellington Ave'\n",
    "trips_2021_2022.loc[606661, 'end_station_name'] = 'Mulligan Ave & Wellington Ave'"
   ]
  },
  {
   "cell_type": "code",
   "execution_count": 136,
   "metadata": {},
   "outputs": [
    {
     "data": {
      "text/plain": [
       "860753"
      ]
     },
     "execution_count": 136,
     "metadata": {},
     "output_type": "execute_result"
    }
   ],
   "source": [
    "#We know check the amount of missing values in the starting station name column\n",
    "trips_2021_2022['start_station_name'].isna().sum() \n",
    "#860753 rows with null values"
   ]
  },
  {
   "cell_type": "code",
   "execution_count": 137,
   "metadata": {},
   "outputs": [
    {
     "data": {
      "text/plain": [
       "913953"
      ]
     },
     "execution_count": 137,
     "metadata": {},
     "output_type": "execute_result"
    }
   ],
   "source": [
    "#We know check the amount of missing values in the ending station name column\n",
    "trips_2021_2022['end_station_name'].isna().sum() \n",
    "#913953 rows with null values"
   ]
  },
  {
   "cell_type": "code",
   "execution_count": 138,
   "metadata": {},
   "outputs": [
    {
     "name": "stdout",
     "output_type": "stream",
     "text": [
      "<class 'pandas.core.frame.DataFrame'>\n",
      "Int64Index: 5895237 entries, 0 to 823487\n",
      "Data columns (total 10 columns):\n",
      " #   Column              Non-Null Count    Dtype         \n",
      "---  ------              --------------    -----         \n",
      " 0   rideable_type       5895237 non-null  object        \n",
      " 1   started_at          5895237 non-null  datetime64[ns]\n",
      " 2   ended_at            5895237 non-null  datetime64[ns]\n",
      " 3   start_station_name  5034484 non-null  object        \n",
      " 4   end_station_name    4981284 non-null  object        \n",
      " 5   start_lat           5895237 non-null  float64       \n",
      " 6   start_lng           5895237 non-null  float64       \n",
      " 7   end_lat             5895237 non-null  float64       \n",
      " 8   end_lng             5895237 non-null  float64       \n",
      " 9   member_casual       5895237 non-null  object        \n",
      "dtypes: datetime64[ns](2), float64(4), object(4)\n",
      "memory usage: 527.0+ MB\n"
     ]
    }
   ],
   "source": [
    "trips_2021_2022.info(verbose=True, show_counts=True)"
   ]
  },
  {
   "cell_type": "markdown",
   "metadata": {},
   "source": [
    "Since we can't ask the stakeholders if they're willing to delete the missing data for the analysis, it's up to us to decide.\n",
    "\n",
    "One way we can get around this problem is trying to match the most amount of the station names given their longitude and latitude positions, because we've already made sure that the remaining rows have values for their end and start coordinates.\n",
    "\n",
    "We can fill out the missing values doing the following. For each row that doesn't have a station name, and does have longitude and latitude values, we can check for rows that have matching longitud and latitude values and don't have their station name missing and copy their station name into the row. This can be done for the start_station_name and end_station_name."
   ]
  },
  {
   "cell_type": "markdown",
   "metadata": {},
   "source": [
    "Filling out some of the station names with those that have matching coordinates."
   ]
  },
  {
   "cell_type": "code",
   "execution_count": 139,
   "metadata": {},
   "outputs": [],
   "source": [
    "#For the End Station names\n",
    "trips_2021_2022['end_station_name'] = trips_2021_2022['end_station_name'].fillna(trips_2021_2022.groupby(['end_lat','end_lng'])['end_station_name'].transform('first'))"
   ]
  },
  {
   "cell_type": "code",
   "execution_count": 140,
   "metadata": {},
   "outputs": [],
   "source": [
    "#For the Start Station names\n",
    "trips_2021_2022['start_station_name'] = trips_2021_2022['start_station_name'].fillna(trips_2021_2022.groupby(['start_lat','start_lng'])['start_station_name'].transform('first'))"
   ]
  },
  {
   "cell_type": "code",
   "execution_count": 141,
   "metadata": {},
   "outputs": [
    {
     "name": "stdout",
     "output_type": "stream",
     "text": [
      "<class 'pandas.core.frame.DataFrame'>\n",
      "Int64Index: 5895237 entries, 0 to 823487\n",
      "Data columns (total 10 columns):\n",
      " #   Column              Non-Null Count    Dtype         \n",
      "---  ------              --------------    -----         \n",
      " 0   rideable_type       5895237 non-null  object        \n",
      " 1   started_at          5895237 non-null  datetime64[ns]\n",
      " 2   ended_at            5895237 non-null  datetime64[ns]\n",
      " 3   start_station_name  5501864 non-null  object        \n",
      " 4   end_station_name    5365881 non-null  object        \n",
      " 5   start_lat           5895237 non-null  float64       \n",
      " 6   start_lng           5895237 non-null  float64       \n",
      " 7   end_lat             5895237 non-null  float64       \n",
      " 8   end_lng             5895237 non-null  float64       \n",
      " 9   member_casual       5895237 non-null  object        \n",
      "dtypes: datetime64[ns](2), float64(4), object(4)\n",
      "memory usage: 527.0+ MB\n"
     ]
    }
   ],
   "source": [
    "trips_2021_2022.info(verbose=True, show_counts=True)"
   ]
  },
  {
   "cell_type": "code",
   "execution_count": 142,
   "metadata": {},
   "outputs": [
    {
     "data": {
      "text/plain": [
       "{'10101 S Stony Island Ave',\n",
       " 'Bennett Ave & 96th St',\n",
       " 'Corliss Ave & 133rd St',\n",
       " 'DIVVY CASSETTE REPAIR MOBILE STATION',\n",
       " 'Ellis Ave & 132nd Pl',\n",
       " 'Halsted St & 64th St',\n",
       " 'James Madison School',\n",
       " 'Keeler Ave & 26th St',\n",
       " 'Kildare Ave & Division Ave',\n",
       " 'Linder Ave & Archer Ave',\n",
       " 'Michele Clark Magnet High School',\n",
       " 'Normal Blvd & 61st Pl',\n",
       " 'Orville T Bright School',\n",
       " 'Park Manor Elementary School',\n",
       " 'Parnell Ave & 98th St',\n",
       " 'Percy Julian HS',\n",
       " 'Public Rack - California Ave & Touhy Ave - SW',\n",
       " 'Public Rack - Foster Ave & Drake Ave',\n",
       " 'Public Rack - Keeler Ave & 26th St',\n",
       " 'Pullman Community Center',\n",
       " 'South Shore High School',\n",
       " 'The Montessori School of Englewood',\n",
       " 'Torrence Ave & 98th St',\n",
       " 'William Rainey Harper High School'}"
      ]
     },
     "execution_count": 142,
     "metadata": {},
     "output_type": "execute_result"
    }
   ],
   "source": [
    "#There doesn't seem to be a problem with the names of the End Stations\n",
    "end_names.difference(start_names)\n"
   ]
  },
  {
   "cell_type": "code",
   "execution_count": 143,
   "metadata": {},
   "outputs": [
    {
     "data": {
      "text/html": [
       "<div>\n",
       "<style scoped>\n",
       "    .dataframe tbody tr th:only-of-type {\n",
       "        vertical-align: middle;\n",
       "    }\n",
       "\n",
       "    .dataframe tbody tr th {\n",
       "        vertical-align: top;\n",
       "    }\n",
       "\n",
       "    .dataframe thead th {\n",
       "        text-align: right;\n",
       "    }\n",
       "</style>\n",
       "<table border=\"1\" class=\"dataframe\">\n",
       "  <thead>\n",
       "    <tr style=\"text-align: right;\">\n",
       "      <th></th>\n",
       "      <th>rideable_type</th>\n",
       "      <th>started_at</th>\n",
       "      <th>ended_at</th>\n",
       "      <th>start_station_name</th>\n",
       "      <th>end_station_name</th>\n",
       "      <th>start_lat</th>\n",
       "      <th>start_lng</th>\n",
       "      <th>end_lat</th>\n",
       "      <th>end_lng</th>\n",
       "      <th>member_casual</th>\n",
       "    </tr>\n",
       "  </thead>\n",
       "  <tbody>\n",
       "    <tr>\n",
       "      <th>0</th>\n",
       "      <td>electric_bike</td>\n",
       "      <td>2021-08-10 17:15:49</td>\n",
       "      <td>2021-08-10 17:22:44</td>\n",
       "      <td>None</td>\n",
       "      <td>None</td>\n",
       "      <td>41.77</td>\n",
       "      <td>-87.68</td>\n",
       "      <td>41.770000</td>\n",
       "      <td>-87.680000</td>\n",
       "      <td>member</td>\n",
       "    </tr>\n",
       "    <tr>\n",
       "      <th>1</th>\n",
       "      <td>electric_bike</td>\n",
       "      <td>2021-08-10 17:23:14</td>\n",
       "      <td>2021-08-10 17:39:24</td>\n",
       "      <td>None</td>\n",
       "      <td>None</td>\n",
       "      <td>41.77</td>\n",
       "      <td>-87.68</td>\n",
       "      <td>41.770000</td>\n",
       "      <td>-87.630000</td>\n",
       "      <td>member</td>\n",
       "    </tr>\n",
       "    <tr>\n",
       "      <th>2</th>\n",
       "      <td>electric_bike</td>\n",
       "      <td>2021-08-21 02:34:23</td>\n",
       "      <td>2021-08-21 02:50:36</td>\n",
       "      <td>None</td>\n",
       "      <td>None</td>\n",
       "      <td>41.95</td>\n",
       "      <td>-87.65</td>\n",
       "      <td>41.970000</td>\n",
       "      <td>-87.660000</td>\n",
       "      <td>member</td>\n",
       "    </tr>\n",
       "    <tr>\n",
       "      <th>3</th>\n",
       "      <td>electric_bike</td>\n",
       "      <td>2021-08-21 06:52:55</td>\n",
       "      <td>2021-08-21 07:08:13</td>\n",
       "      <td>None</td>\n",
       "      <td>None</td>\n",
       "      <td>41.97</td>\n",
       "      <td>-87.67</td>\n",
       "      <td>41.950000</td>\n",
       "      <td>-87.650000</td>\n",
       "      <td>member</td>\n",
       "    </tr>\n",
       "    <tr>\n",
       "      <th>4</th>\n",
       "      <td>electric_bike</td>\n",
       "      <td>2021-08-19 11:55:29</td>\n",
       "      <td>2021-08-19 12:04:11</td>\n",
       "      <td>Mulligan Ave &amp; Wellington Ave</td>\n",
       "      <td>Calumet Ave &amp; 71st St</td>\n",
       "      <td>41.79</td>\n",
       "      <td>-87.60</td>\n",
       "      <td>41.770000</td>\n",
       "      <td>-87.620000</td>\n",
       "      <td>member</td>\n",
       "    </tr>\n",
       "    <tr>\n",
       "      <th>5</th>\n",
       "      <td>electric_bike</td>\n",
       "      <td>2021-08-19 12:41:12</td>\n",
       "      <td>2021-08-19 12:47:47</td>\n",
       "      <td>Forrestville Ave &amp; 47th St</td>\n",
       "      <td>Mulligan Ave &amp; Wellington Ave</td>\n",
       "      <td>41.81</td>\n",
       "      <td>-87.61</td>\n",
       "      <td>41.800000</td>\n",
       "      <td>-87.600000</td>\n",
       "      <td>member</td>\n",
       "    </tr>\n",
       "    <tr>\n",
       "      <th>6</th>\n",
       "      <td>electric_bike</td>\n",
       "      <td>2021-08-19 12:21:50</td>\n",
       "      <td>2021-08-19 12:37:31</td>\n",
       "      <td>Calumet Ave &amp; 71st St</td>\n",
       "      <td>Forrestville Ave &amp; 47th St</td>\n",
       "      <td>41.77</td>\n",
       "      <td>-87.62</td>\n",
       "      <td>41.810000</td>\n",
       "      <td>-87.610000</td>\n",
       "      <td>member</td>\n",
       "    </tr>\n",
       "    <tr>\n",
       "      <th>7</th>\n",
       "      <td>electric_bike</td>\n",
       "      <td>2021-08-13 14:52:35</td>\n",
       "      <td>2021-08-13 14:58:16</td>\n",
       "      <td>W Oakdale Ave &amp; N Broadway</td>\n",
       "      <td>Clark St &amp; Grace St</td>\n",
       "      <td>41.94</td>\n",
       "      <td>-87.64</td>\n",
       "      <td>41.950874</td>\n",
       "      <td>-87.659146</td>\n",
       "      <td>member</td>\n",
       "    </tr>\n",
       "    <tr>\n",
       "      <th>8</th>\n",
       "      <td>electric_bike</td>\n",
       "      <td>2021-08-17 18:23:55</td>\n",
       "      <td>2021-08-17 18:24:13</td>\n",
       "      <td>None</td>\n",
       "      <td>None</td>\n",
       "      <td>41.92</td>\n",
       "      <td>-87.66</td>\n",
       "      <td>41.920000</td>\n",
       "      <td>-87.660000</td>\n",
       "      <td>member</td>\n",
       "    </tr>\n",
       "    <tr>\n",
       "      <th>9</th>\n",
       "      <td>electric_bike</td>\n",
       "      <td>2021-08-04 12:50:53</td>\n",
       "      <td>2021-08-04 13:08:20</td>\n",
       "      <td>Steelworkers Park</td>\n",
       "      <td>Steelworkers Park</td>\n",
       "      <td>41.74</td>\n",
       "      <td>-87.53</td>\n",
       "      <td>41.740000</td>\n",
       "      <td>-87.530000</td>\n",
       "      <td>member</td>\n",
       "    </tr>\n",
       "  </tbody>\n",
       "</table>\n",
       "</div>"
      ],
      "text/plain": [
       "   rideable_type          started_at            ended_at  \\\n",
       "0  electric_bike 2021-08-10 17:15:49 2021-08-10 17:22:44   \n",
       "1  electric_bike 2021-08-10 17:23:14 2021-08-10 17:39:24   \n",
       "2  electric_bike 2021-08-21 02:34:23 2021-08-21 02:50:36   \n",
       "3  electric_bike 2021-08-21 06:52:55 2021-08-21 07:08:13   \n",
       "4  electric_bike 2021-08-19 11:55:29 2021-08-19 12:04:11   \n",
       "5  electric_bike 2021-08-19 12:41:12 2021-08-19 12:47:47   \n",
       "6  electric_bike 2021-08-19 12:21:50 2021-08-19 12:37:31   \n",
       "7  electric_bike 2021-08-13 14:52:35 2021-08-13 14:58:16   \n",
       "8  electric_bike 2021-08-17 18:23:55 2021-08-17 18:24:13   \n",
       "9  electric_bike 2021-08-04 12:50:53 2021-08-04 13:08:20   \n",
       "\n",
       "              start_station_name               end_station_name  start_lat  \\\n",
       "0                           None                           None      41.77   \n",
       "1                           None                           None      41.77   \n",
       "2                           None                           None      41.95   \n",
       "3                           None                           None      41.97   \n",
       "4  Mulligan Ave & Wellington Ave          Calumet Ave & 71st St      41.79   \n",
       "5     Forrestville Ave & 47th St  Mulligan Ave & Wellington Ave      41.81   \n",
       "6          Calumet Ave & 71st St     Forrestville Ave & 47th St      41.77   \n",
       "7     W Oakdale Ave & N Broadway            Clark St & Grace St      41.94   \n",
       "8                           None                           None      41.92   \n",
       "9              Steelworkers Park              Steelworkers Park      41.74   \n",
       "\n",
       "   start_lng    end_lat    end_lng member_casual  \n",
       "0     -87.68  41.770000 -87.680000        member  \n",
       "1     -87.68  41.770000 -87.630000        member  \n",
       "2     -87.65  41.970000 -87.660000        member  \n",
       "3     -87.67  41.950000 -87.650000        member  \n",
       "4     -87.60  41.770000 -87.620000        member  \n",
       "5     -87.61  41.800000 -87.600000        member  \n",
       "6     -87.62  41.810000 -87.610000        member  \n",
       "7     -87.64  41.950874 -87.659146        member  \n",
       "8     -87.66  41.920000 -87.660000        member  \n",
       "9     -87.53  41.740000 -87.530000        member  "
      ]
     },
     "execution_count": 143,
     "metadata": {},
     "output_type": "execute_result"
    }
   ],
   "source": [
    "trips_2021_2022.head(10)"
   ]
  },
  {
   "cell_type": "code",
   "execution_count": 144,
   "metadata": {},
   "outputs": [],
   "source": [
    "#We add a new column called 'trip_duration', since this is an important feature we can look into by user type\n",
    "trips_2021_2022['trip_duration'] = trips_2021_2022['ended_at'] - trips_2021_2022['started_at']"
   ]
  },
  {
   "cell_type": "code",
   "execution_count": 145,
   "metadata": {},
   "outputs": [
    {
     "name": "stdout",
     "output_type": "stream",
     "text": [
      "<class 'pandas.core.frame.DataFrame'>\n",
      "Int64Index: 554 entries, 22721 to 753245\n",
      "Data columns (total 11 columns):\n",
      " #   Column              Non-Null Count  Dtype          \n",
      "---  ------              --------------  -----          \n",
      " 0   rideable_type       554 non-null    object         \n",
      " 1   started_at          554 non-null    datetime64[ns] \n",
      " 2   ended_at            554 non-null    datetime64[ns] \n",
      " 3   start_station_name  554 non-null    object         \n",
      " 4   end_station_name    514 non-null    object         \n",
      " 5   start_lat           554 non-null    float64        \n",
      " 6   start_lng           554 non-null    float64        \n",
      " 7   end_lat             554 non-null    float64        \n",
      " 8   end_lng             554 non-null    float64        \n",
      " 9   member_casual       554 non-null    object         \n",
      " 10  trip_duration       554 non-null    timedelta64[ns]\n",
      "dtypes: datetime64[ns](2), float64(4), object(4), timedelta64[ns](1)\n",
      "memory usage: 51.9+ KB\n"
     ]
    }
   ],
   "source": [
    "#We will check how many trips lasted more than 1 day and see if they're relevant for the data\n",
    "trips_2021_2022.loc[(trips_2021_2022['trip_duration'] > '24:00:00')].info()"
   ]
  },
  {
   "cell_type": "code",
   "execution_count": 146,
   "metadata": {},
   "outputs": [],
   "source": [
    "#There are only 554 trips that lasted more than 1 day, that is less than 0.0092% of the data.\n",
    "# So we will only keep data that lasted less or equal than a 1 day\n",
    "trips_2021_2022 = trips_2021_2022.loc[(trips_2021_2022['trip_duration'] <= '24:00:00')]"
   ]
  },
  {
   "cell_type": "code",
   "execution_count": 147,
   "metadata": {},
   "outputs": [],
   "source": [
    "#We will also filter the data by keeping trips that lasted more than 1 minute\n",
    "trips_2021_2022 = trips_2021_2022.loc[(trips_2021_2022['trip_duration'] > '00:01:00')]"
   ]
  },
  {
   "cell_type": "code",
   "execution_count": 148,
   "metadata": {},
   "outputs": [],
   "source": [
    "#We will transform the trip duration values to count the trip duration in minutes\n",
    "trips_2021_2022['trip_duration'] = trips_2021_2022['trip_duration'].dt.total_seconds()/60\n",
    "trips_2021_2022['trip_duration'] = trips_2021_2022['trip_duration'].round(2)"
   ]
  },
  {
   "cell_type": "code",
   "execution_count": 149,
   "metadata": {},
   "outputs": [],
   "source": [
    "#We add one more column to indicate the day of the week when the trip started.\n",
    "trips_2021_2022['day_of_the_week'] = trips_2021_2022['started_at'].dt.dayofweek"
   ]
  },
  {
   "cell_type": "code",
   "execution_count": 150,
   "metadata": {},
   "outputs": [
    {
     "name": "stdout",
     "output_type": "stream",
     "text": [
      "<class 'pandas.core.frame.DataFrame'>\n",
      "Int64Index: 5789725 entries, 0 to 823487\n",
      "Data columns (total 12 columns):\n",
      " #   Column              Non-Null Count    Dtype         \n",
      "---  ------              --------------    -----         \n",
      " 0   rideable_type       5789725 non-null  object        \n",
      " 1   started_at          5789725 non-null  datetime64[ns]\n",
      " 2   ended_at            5789725 non-null  datetime64[ns]\n",
      " 3   start_station_name  5409851 non-null  object        \n",
      " 4   end_station_name    5280873 non-null  object        \n",
      " 5   start_lat           5789725 non-null  float64       \n",
      " 6   start_lng           5789725 non-null  float64       \n",
      " 7   end_lat             5789725 non-null  float64       \n",
      " 8   end_lng             5789725 non-null  float64       \n",
      " 9   member_casual       5789725 non-null  object        \n",
      " 10  trip_duration       5789725 non-null  float64       \n",
      " 11  day_of_the_week     5789725 non-null  int64         \n",
      "dtypes: datetime64[ns](2), float64(5), int64(1), object(4)\n",
      "memory usage: 574.2+ MB\n"
     ]
    }
   ],
   "source": [
    "trips_2021_2022.info(verbose=True, show_counts=True)"
   ]
  },
  {
   "cell_type": "code",
   "execution_count": 151,
   "metadata": {},
   "outputs": [
    {
     "data": {
      "text/html": [
       "<div>\n",
       "<style scoped>\n",
       "    .dataframe tbody tr th:only-of-type {\n",
       "        vertical-align: middle;\n",
       "    }\n",
       "\n",
       "    .dataframe tbody tr th {\n",
       "        vertical-align: top;\n",
       "    }\n",
       "\n",
       "    .dataframe thead th {\n",
       "        text-align: right;\n",
       "    }\n",
       "</style>\n",
       "<table border=\"1\" class=\"dataframe\">\n",
       "  <thead>\n",
       "    <tr style=\"text-align: right;\">\n",
       "      <th></th>\n",
       "      <th>rideable_type</th>\n",
       "      <th>started_at</th>\n",
       "      <th>ended_at</th>\n",
       "      <th>start_station_name</th>\n",
       "      <th>end_station_name</th>\n",
       "      <th>start_lat</th>\n",
       "      <th>start_lng</th>\n",
       "      <th>end_lat</th>\n",
       "      <th>end_lng</th>\n",
       "      <th>member_casual</th>\n",
       "      <th>trip_duration</th>\n",
       "      <th>day_of_the_week</th>\n",
       "    </tr>\n",
       "  </thead>\n",
       "  <tbody>\n",
       "    <tr>\n",
       "      <th>0</th>\n",
       "      <td>electric_bike</td>\n",
       "      <td>2021-08-10 17:15:49</td>\n",
       "      <td>2021-08-10 17:22:44</td>\n",
       "      <td>None</td>\n",
       "      <td>None</td>\n",
       "      <td>41.77</td>\n",
       "      <td>-87.68</td>\n",
       "      <td>41.770000</td>\n",
       "      <td>-87.680000</td>\n",
       "      <td>member</td>\n",
       "      <td>6.92</td>\n",
       "      <td>1</td>\n",
       "    </tr>\n",
       "    <tr>\n",
       "      <th>1</th>\n",
       "      <td>electric_bike</td>\n",
       "      <td>2021-08-10 17:23:14</td>\n",
       "      <td>2021-08-10 17:39:24</td>\n",
       "      <td>None</td>\n",
       "      <td>None</td>\n",
       "      <td>41.77</td>\n",
       "      <td>-87.68</td>\n",
       "      <td>41.770000</td>\n",
       "      <td>-87.630000</td>\n",
       "      <td>member</td>\n",
       "      <td>16.17</td>\n",
       "      <td>1</td>\n",
       "    </tr>\n",
       "    <tr>\n",
       "      <th>2</th>\n",
       "      <td>electric_bike</td>\n",
       "      <td>2021-08-21 02:34:23</td>\n",
       "      <td>2021-08-21 02:50:36</td>\n",
       "      <td>None</td>\n",
       "      <td>None</td>\n",
       "      <td>41.95</td>\n",
       "      <td>-87.65</td>\n",
       "      <td>41.970000</td>\n",
       "      <td>-87.660000</td>\n",
       "      <td>member</td>\n",
       "      <td>16.22</td>\n",
       "      <td>5</td>\n",
       "    </tr>\n",
       "    <tr>\n",
       "      <th>3</th>\n",
       "      <td>electric_bike</td>\n",
       "      <td>2021-08-21 06:52:55</td>\n",
       "      <td>2021-08-21 07:08:13</td>\n",
       "      <td>None</td>\n",
       "      <td>None</td>\n",
       "      <td>41.97</td>\n",
       "      <td>-87.67</td>\n",
       "      <td>41.950000</td>\n",
       "      <td>-87.650000</td>\n",
       "      <td>member</td>\n",
       "      <td>15.30</td>\n",
       "      <td>5</td>\n",
       "    </tr>\n",
       "    <tr>\n",
       "      <th>4</th>\n",
       "      <td>electric_bike</td>\n",
       "      <td>2021-08-19 11:55:29</td>\n",
       "      <td>2021-08-19 12:04:11</td>\n",
       "      <td>Mulligan Ave &amp; Wellington Ave</td>\n",
       "      <td>Calumet Ave &amp; 71st St</td>\n",
       "      <td>41.79</td>\n",
       "      <td>-87.60</td>\n",
       "      <td>41.770000</td>\n",
       "      <td>-87.620000</td>\n",
       "      <td>member</td>\n",
       "      <td>8.70</td>\n",
       "      <td>3</td>\n",
       "    </tr>\n",
       "    <tr>\n",
       "      <th>5</th>\n",
       "      <td>electric_bike</td>\n",
       "      <td>2021-08-19 12:41:12</td>\n",
       "      <td>2021-08-19 12:47:47</td>\n",
       "      <td>Forrestville Ave &amp; 47th St</td>\n",
       "      <td>Mulligan Ave &amp; Wellington Ave</td>\n",
       "      <td>41.81</td>\n",
       "      <td>-87.61</td>\n",
       "      <td>41.800000</td>\n",
       "      <td>-87.600000</td>\n",
       "      <td>member</td>\n",
       "      <td>6.58</td>\n",
       "      <td>3</td>\n",
       "    </tr>\n",
       "    <tr>\n",
       "      <th>6</th>\n",
       "      <td>electric_bike</td>\n",
       "      <td>2021-08-19 12:21:50</td>\n",
       "      <td>2021-08-19 12:37:31</td>\n",
       "      <td>Calumet Ave &amp; 71st St</td>\n",
       "      <td>Forrestville Ave &amp; 47th St</td>\n",
       "      <td>41.77</td>\n",
       "      <td>-87.62</td>\n",
       "      <td>41.810000</td>\n",
       "      <td>-87.610000</td>\n",
       "      <td>member</td>\n",
       "      <td>15.68</td>\n",
       "      <td>3</td>\n",
       "    </tr>\n",
       "    <tr>\n",
       "      <th>7</th>\n",
       "      <td>electric_bike</td>\n",
       "      <td>2021-08-13 14:52:35</td>\n",
       "      <td>2021-08-13 14:58:16</td>\n",
       "      <td>W Oakdale Ave &amp; N Broadway</td>\n",
       "      <td>Clark St &amp; Grace St</td>\n",
       "      <td>41.94</td>\n",
       "      <td>-87.64</td>\n",
       "      <td>41.950874</td>\n",
       "      <td>-87.659146</td>\n",
       "      <td>member</td>\n",
       "      <td>5.68</td>\n",
       "      <td>4</td>\n",
       "    </tr>\n",
       "    <tr>\n",
       "      <th>9</th>\n",
       "      <td>electric_bike</td>\n",
       "      <td>2021-08-04 12:50:53</td>\n",
       "      <td>2021-08-04 13:08:20</td>\n",
       "      <td>Steelworkers Park</td>\n",
       "      <td>Steelworkers Park</td>\n",
       "      <td>41.74</td>\n",
       "      <td>-87.53</td>\n",
       "      <td>41.740000</td>\n",
       "      <td>-87.530000</td>\n",
       "      <td>member</td>\n",
       "      <td>17.45</td>\n",
       "      <td>2</td>\n",
       "    </tr>\n",
       "    <tr>\n",
       "      <th>10</th>\n",
       "      <td>electric_bike</td>\n",
       "      <td>2021-08-01 18:11:35</td>\n",
       "      <td>2021-08-01 18:17:05</td>\n",
       "      <td>Troy St &amp; Grace St</td>\n",
       "      <td>Kedzie Ave &amp; Argyle St</td>\n",
       "      <td>41.95</td>\n",
       "      <td>-87.71</td>\n",
       "      <td>41.970000</td>\n",
       "      <td>-87.710000</td>\n",
       "      <td>member</td>\n",
       "      <td>5.50</td>\n",
       "      <td>6</td>\n",
       "    </tr>\n",
       "  </tbody>\n",
       "</table>\n",
       "</div>"
      ],
      "text/plain": [
       "    rideable_type          started_at            ended_at  \\\n",
       "0   electric_bike 2021-08-10 17:15:49 2021-08-10 17:22:44   \n",
       "1   electric_bike 2021-08-10 17:23:14 2021-08-10 17:39:24   \n",
       "2   electric_bike 2021-08-21 02:34:23 2021-08-21 02:50:36   \n",
       "3   electric_bike 2021-08-21 06:52:55 2021-08-21 07:08:13   \n",
       "4   electric_bike 2021-08-19 11:55:29 2021-08-19 12:04:11   \n",
       "5   electric_bike 2021-08-19 12:41:12 2021-08-19 12:47:47   \n",
       "6   electric_bike 2021-08-19 12:21:50 2021-08-19 12:37:31   \n",
       "7   electric_bike 2021-08-13 14:52:35 2021-08-13 14:58:16   \n",
       "9   electric_bike 2021-08-04 12:50:53 2021-08-04 13:08:20   \n",
       "10  electric_bike 2021-08-01 18:11:35 2021-08-01 18:17:05   \n",
       "\n",
       "               start_station_name               end_station_name  start_lat  \\\n",
       "0                            None                           None      41.77   \n",
       "1                            None                           None      41.77   \n",
       "2                            None                           None      41.95   \n",
       "3                            None                           None      41.97   \n",
       "4   Mulligan Ave & Wellington Ave          Calumet Ave & 71st St      41.79   \n",
       "5      Forrestville Ave & 47th St  Mulligan Ave & Wellington Ave      41.81   \n",
       "6           Calumet Ave & 71st St     Forrestville Ave & 47th St      41.77   \n",
       "7      W Oakdale Ave & N Broadway            Clark St & Grace St      41.94   \n",
       "9               Steelworkers Park              Steelworkers Park      41.74   \n",
       "10             Troy St & Grace St         Kedzie Ave & Argyle St      41.95   \n",
       "\n",
       "    start_lng    end_lat    end_lng member_casual  trip_duration  \\\n",
       "0      -87.68  41.770000 -87.680000        member           6.92   \n",
       "1      -87.68  41.770000 -87.630000        member          16.17   \n",
       "2      -87.65  41.970000 -87.660000        member          16.22   \n",
       "3      -87.67  41.950000 -87.650000        member          15.30   \n",
       "4      -87.60  41.770000 -87.620000        member           8.70   \n",
       "5      -87.61  41.800000 -87.600000        member           6.58   \n",
       "6      -87.62  41.810000 -87.610000        member          15.68   \n",
       "7      -87.64  41.950874 -87.659146        member           5.68   \n",
       "9      -87.53  41.740000 -87.530000        member          17.45   \n",
       "10     -87.71  41.970000 -87.710000        member           5.50   \n",
       "\n",
       "    day_of_the_week  \n",
       "0                 1  \n",
       "1                 1  \n",
       "2                 5  \n",
       "3                 5  \n",
       "4                 3  \n",
       "5                 3  \n",
       "6                 3  \n",
       "7                 4  \n",
       "9                 2  \n",
       "10                6  "
      ]
     },
     "execution_count": 151,
     "metadata": {},
     "output_type": "execute_result"
    }
   ],
   "source": [
    "#Checking the new column\n",
    "trips_2021_2022.head(10)"
   ]
  },
  {
   "cell_type": "markdown",
   "metadata": {},
   "source": [
    "Saving the cleaned dataframe"
   ]
  },
  {
   "cell_type": "code",
   "execution_count": 152,
   "metadata": {},
   "outputs": [],
   "source": [
    "trips_2021_2022.to_csv('data/clean data/trips_2021_2022.csv')"
   ]
  },
  {
   "cell_type": "markdown",
   "metadata": {},
   "source": [
    "We initially had a little more of 6 millions rows of data (6005233).\n",
    "\n",
    "After cleaning, filtering and formatting the data we now are left with 5.79 million rows of data (5790279).\n",
    "\n",
    "That means we've kept 96.43% of the original data for the columns 'rideable_type', 'started_at', 'ended_at', 'start_lat', 'start_lng', 'end_lat', 'end_lng', and 'member_casual'.\n",
    "\n",
    "It's worth nothing that we were able to identify 282k rows of Start Station names (282218) and 213k rows of End Station names (213977), improving the data for those columns by 5.50% and 4.22% respectively."
   ]
  },
  {
   "cell_type": "markdown",
   "metadata": {},
   "source": [
    "# 4. Analyze the data"
   ]
  },
  {
   "cell_type": "markdown",
   "metadata": {},
   "source": [
    "If there is not enough memory, consider deleting all variables for the Analyze step."
   ]
  },
  {
   "cell_type": "code",
   "execution_count": 153,
   "metadata": {},
   "outputs": [],
   "source": [
    "%reset"
   ]
  },
  {
   "cell_type": "code",
   "execution_count": 3,
   "metadata": {},
   "outputs": [],
   "source": [
    "#Import the necessary libraries\n",
    "import numpy as np\n",
    "import pandas as pd\n",
    "import matplotlib.pyplot as plt"
   ]
  },
  {
   "cell_type": "code",
   "execution_count": 4,
   "metadata": {},
   "outputs": [],
   "source": [
    "#loading the data\n",
    "trips_2021_2022 = pd.read_csv('data/clean data/trips_2021_2022.csv')\n",
    "#We will have to change the data type of the start and end time, since we had to re load the cleaned data.\n",
    "trips_2021_2022['started_at'] = pd.to_datetime(trips_2021_2022['started_at'])\n",
    "trips_2021_2022['ended_at'] = pd.to_datetime(trips_2021_2022['ended_at'])"
   ]
  },
  {
   "cell_type": "code",
   "execution_count": 3,
   "metadata": {},
   "outputs": [
    {
     "name": "stdout",
     "output_type": "stream",
     "text": [
      "<class 'pandas.core.frame.DataFrame'>\n",
      "RangeIndex: 5789725 entries, 0 to 5789724\n",
      "Data columns (total 13 columns):\n",
      " #   Column              Non-Null Count    Dtype         \n",
      "---  ------              --------------    -----         \n",
      " 0   Unnamed: 0          5789725 non-null  int64         \n",
      " 1   rideable_type       5789725 non-null  object        \n",
      " 2   started_at          5789725 non-null  datetime64[ns]\n",
      " 3   ended_at            5789725 non-null  datetime64[ns]\n",
      " 4   start_station_name  5409851 non-null  object        \n",
      " 5   end_station_name    5280873 non-null  object        \n",
      " 6   start_lat           5789725 non-null  float64       \n",
      " 7   start_lng           5789725 non-null  float64       \n",
      " 8   end_lat             5789725 non-null  float64       \n",
      " 9   end_lng             5789725 non-null  float64       \n",
      " 10  member_casual       5789725 non-null  object        \n",
      " 11  trip_duration       5789725 non-null  float64       \n",
      " 12  day_of_the_week     5789725 non-null  int64         \n",
      "dtypes: datetime64[ns](2), float64(5), int64(2), object(4)\n",
      "memory usage: 574.2+ MB\n"
     ]
    }
   ],
   "source": [
    "trips_2021_2022.info(verbose=True, show_counts=True)"
   ]
  },
  {
   "cell_type": "code",
   "execution_count": 4,
   "metadata": {},
   "outputs": [
    {
     "data": {
      "text/plain": [
       "Text(0.5, 1.0, 'User distribution by user type')"
      ]
     },
     "execution_count": 4,
     "metadata": {},
     "output_type": "execute_result"
    },
    {
     "data": {
      "image/png": "[encoded data removed]",
      "text/plain": [
       "<Figure size 432x288 with 1 Axes>"
      ]
     },
     "metadata": {},
     "output_type": "display_data"
    }
   ],
   "source": [
    "#Percentage of users by user category\n",
    "ax = trips_2021_2022.groupby(['member_casual'])['member_casual'].count(\n",
    "                    ).plot(kind='pie', autopct='%1.1f%%', ylabel='')\n",
    "ax.set_title('User distribution by user type')"
   ]
  },
  {
   "cell_type": "code",
   "execution_count": 5,
   "metadata": {},
   "outputs": [],
   "source": [
    "trips_year_month_user = trips_2021_2022.groupby([trips_2021_2022['started_at'].dt.year,\n",
    "                        trips_2021_2022['started_at'].dt.month,\n",
    "                        'member_casual'])"
   ]
  },
  {
   "cell_type": "code",
   "execution_count": 6,
   "metadata": {},
   "outputs": [],
   "source": [
    "analysis1 = trips_2021_2022.groupby([trips_2021_2022['started_at'].dt.year,\n",
    "                        trips_2021_2022['started_at'].dt.month])['trip_duration'].agg(['sum', 'mean', 'median', 'min', 'max', 'std', 'var']).round(2)"
   ]
  },
  {
   "cell_type": "code",
   "execution_count": 7,
   "metadata": {},
   "outputs": [
    {
     "data": {
      "text/html": [
       "<div>\n",
       "<style scoped>\n",
       "    .dataframe tbody tr th:only-of-type {\n",
       "        vertical-align: middle;\n",
       "    }\n",
       "\n",
       "    .dataframe tbody tr th {\n",
       "        vertical-align: top;\n",
       "    }\n",
       "\n",
       "    .dataframe thead th {\n",
       "        text-align: right;\n",
       "    }\n",
       "</style>\n",
       "<table border=\"1\" class=\"dataframe\">\n",
       "  <thead>\n",
       "    <tr style=\"text-align: right;\">\n",
       "      <th></th>\n",
       "      <th></th>\n",
       "      <th>sum</th>\n",
       "      <th>mean</th>\n",
       "      <th>median</th>\n",
       "      <th>min</th>\n",
       "      <th>max</th>\n",
       "      <th>std</th>\n",
       "      <th>var</th>\n",
       "    </tr>\n",
       "    <tr>\n",
       "      <th>started_at</th>\n",
       "      <th>started_at</th>\n",
       "      <th></th>\n",
       "      <th></th>\n",
       "      <th></th>\n",
       "      <th></th>\n",
       "      <th></th>\n",
       "      <th></th>\n",
       "      <th></th>\n",
       "    </tr>\n",
       "  </thead>\n",
       "  <tbody>\n",
       "    <tr>\n",
       "      <th rowspan=\"5\" valign=\"top\">2021</th>\n",
       "      <th>8</th>\n",
       "      <td>16194931.91</td>\n",
       "      <td>20.45</td>\n",
       "      <td>12.98</td>\n",
       "      <td>1.02</td>\n",
       "      <td>1434.05</td>\n",
       "      <td>33.73</td>\n",
       "      <td>1137.66</td>\n",
       "    </tr>\n",
       "    <tr>\n",
       "      <th>9</th>\n",
       "      <td>14407611.91</td>\n",
       "      <td>19.36</td>\n",
       "      <td>12.32</td>\n",
       "      <td>1.02</td>\n",
       "      <td>1439.37</td>\n",
       "      <td>33.42</td>\n",
       "      <td>1117.16</td>\n",
       "    </tr>\n",
       "    <tr>\n",
       "      <th>10</th>\n",
       "      <td>10402291.32</td>\n",
       "      <td>16.76</td>\n",
       "      <td>10.55</td>\n",
       "      <td>1.02</td>\n",
       "      <td>1434.20</td>\n",
       "      <td>30.69</td>\n",
       "      <td>941.74</td>\n",
       "    </tr>\n",
       "    <tr>\n",
       "      <th>11</th>\n",
       "      <td>4773242.82</td>\n",
       "      <td>13.49</td>\n",
       "      <td>8.73</td>\n",
       "      <td>1.02</td>\n",
       "      <td>1439.85</td>\n",
       "      <td>26.42</td>\n",
       "      <td>697.97</td>\n",
       "    </tr>\n",
       "    <tr>\n",
       "      <th>12</th>\n",
       "      <td>3184529.05</td>\n",
       "      <td>13.08</td>\n",
       "      <td>8.57</td>\n",
       "      <td>1.02</td>\n",
       "      <td>1431.88</td>\n",
       "      <td>25.56</td>\n",
       "      <td>653.16</td>\n",
       "    </tr>\n",
       "    <tr>\n",
       "      <th rowspan=\"7\" valign=\"top\">2022</th>\n",
       "      <th>1</th>\n",
       "      <td>1303985.88</td>\n",
       "      <td>12.81</td>\n",
       "      <td>8.00</td>\n",
       "      <td>1.02</td>\n",
       "      <td>1380.00</td>\n",
       "      <td>34.39</td>\n",
       "      <td>1182.80</td>\n",
       "    </tr>\n",
       "    <tr>\n",
       "      <th>2</th>\n",
       "      <td>1454779.57</td>\n",
       "      <td>12.88</td>\n",
       "      <td>8.22</td>\n",
       "      <td>1.02</td>\n",
       "      <td>1387.55</td>\n",
       "      <td>27.49</td>\n",
       "      <td>755.44</td>\n",
       "    </tr>\n",
       "    <tr>\n",
       "      <th>3</th>\n",
       "      <td>4420087.97</td>\n",
       "      <td>15.87</td>\n",
       "      <td>9.65</td>\n",
       "      <td>1.02</td>\n",
       "      <td>1435.47</td>\n",
       "      <td>31.65</td>\n",
       "      <td>1001.65</td>\n",
       "    </tr>\n",
       "    <tr>\n",
       "      <th>4</th>\n",
       "      <td>5692067.24</td>\n",
       "      <td>15.66</td>\n",
       "      <td>9.65</td>\n",
       "      <td>1.02</td>\n",
       "      <td>1438.58</td>\n",
       "      <td>29.71</td>\n",
       "      <td>882.63</td>\n",
       "    </tr>\n",
       "    <tr>\n",
       "      <th>5</th>\n",
       "      <td>11733184.50</td>\n",
       "      <td>18.88</td>\n",
       "      <td>11.80</td>\n",
       "      <td>1.02</td>\n",
       "      <td>1437.70</td>\n",
       "      <td>32.45</td>\n",
       "      <td>1053.00</td>\n",
       "    </tr>\n",
       "    <tr>\n",
       "      <th>6</th>\n",
       "      <td>14034899.94</td>\n",
       "      <td>18.65</td>\n",
       "      <td>12.12</td>\n",
       "      <td>1.02</td>\n",
       "      <td>1438.82</td>\n",
       "      <td>30.61</td>\n",
       "      <td>936.81</td>\n",
       "    </tr>\n",
       "    <tr>\n",
       "      <th>7</th>\n",
       "      <td>14950875.73</td>\n",
       "      <td>18.58</td>\n",
       "      <td>11.95</td>\n",
       "      <td>1.02</td>\n",
       "      <td>1439.37</td>\n",
       "      <td>29.13</td>\n",
       "      <td>848.31</td>\n",
       "    </tr>\n",
       "  </tbody>\n",
       "</table>\n",
       "</div>"
      ],
      "text/plain": [
       "                               sum   mean  median   min      max    std  \\\n",
       "started_at started_at                                                     \n",
       "2021       8           16194931.91  20.45   12.98  1.02  1434.05  33.73   \n",
       "           9           14407611.91  19.36   12.32  1.02  1439.37  33.42   \n",
       "           10          10402291.32  16.76   10.55  1.02  1434.20  30.69   \n",
       "           11           4773242.82  13.49    8.73  1.02  1439.85  26.42   \n",
       "           12           3184529.05  13.08    8.57  1.02  1431.88  25.56   \n",
       "2022       1            1303985.88  12.81    8.00  1.02  1380.00  34.39   \n",
       "           2            1454779.57  12.88    8.22  1.02  1387.55  27.49   \n",
       "           3            4420087.97  15.87    9.65  1.02  1435.47  31.65   \n",
       "           4            5692067.24  15.66    9.65  1.02  1438.58  29.71   \n",
       "           5           11733184.50  18.88   11.80  1.02  1437.70  32.45   \n",
       "           6           14034899.94  18.65   12.12  1.02  1438.82  30.61   \n",
       "           7           14950875.73  18.58   11.95  1.02  1439.37  29.13   \n",
       "\n",
       "                           var  \n",
       "started_at started_at           \n",
       "2021       8           1137.66  \n",
       "           9           1117.16  \n",
       "           10           941.74  \n",
       "           11           697.97  \n",
       "           12           653.16  \n",
       "2022       1           1182.80  \n",
       "           2            755.44  \n",
       "           3           1001.65  \n",
       "           4            882.63  \n",
       "           5           1053.00  \n",
       "           6            936.81  \n",
       "           7            848.31  "
      ]
     },
     "execution_count": 7,
     "metadata": {},
     "output_type": "execute_result"
    }
   ],
   "source": [
    "analysis1"
   ]
  },
  {
   "cell_type": "code",
   "execution_count": 8,
   "metadata": {},
   "outputs": [
    {
     "data": {
      "text/plain": [
       "Text(0.5, 1.0, 'Total rides per month by type of user')"
      ]
     },
     "execution_count": 8,
     "metadata": {},
     "output_type": "execute_result"
    },
    {
     "data": {
      "image/png": "[encoded data removed]",
      "text/plain": [
       "<Figure size 432x288 with 1 Axes>"
      ]
     },
     "metadata": {
      "needs_background": "light"
     },
     "output_type": "display_data"
    }
   ],
   "source": [
    "#Plot total rides per month by user\n",
    "\n",
    "ax = trips_year_month_user['rideable_type'].count(\n",
    "                        ).unstack().plot(kind='bar', stacked=False)\n",
    "\n",
    "x_ticks = ['Aug 2021', 'Sep 2021', 'Oct 2021', 'Nov 2021', 'Dec 2021', \n",
    "            'Jan 2022', 'Feb 2022', 'Mar 2022', 'Apr 2022', 'May 2022', \n",
    "            'Jun 2022', 'Jul 2022']\n",
    "\n",
    "ax.set_xticklabels(x_ticks)\n",
    "ax.set_xlabel('Month and Year')\n",
    "ax.set_ylabel('Total rides')\n",
    "ax.set_title('Total rides per month by type of user')"
   ]
  },
  {
   "cell_type": "code",
   "execution_count": 9,
   "metadata": {},
   "outputs": [
    {
     "data": {
      "text/plain": [
       "Text(0.5, 1.0, 'Total minutes of trips per month by type of user')"
      ]
     },
     "execution_count": 9,
     "metadata": {},
     "output_type": "execute_result"
    },
    {
     "data": {
      "image/png": "[encoded data removed]",
      "text/plain": [
       "<Figure size 576x360 with 1 Axes>"
      ]
     },
     "metadata": {
      "needs_background": "light"
     },
     "output_type": "display_data"
    }
   ],
   "source": [
    "#Plot total minutes per month by user\n",
    "\n",
    "ax = trips_year_month_user['trip_duration'].sum(\n",
    "                        ).div(10**6).unstack().plot(kind='bar', stacked=False, figsize=(8,5))\n",
    "\n",
    "x_ticks = ['Aug 2021', 'Sep 2021', 'Oct 2021', 'Nov 2021', 'Dec 2021', \n",
    "            'Jan 2022', 'Feb 2022', 'Mar 2022', 'Apr 2022', 'May 2022', \n",
    "            'Jun 2022', 'Jul 2022']\n",
    "\n",
    "ax.set_xticklabels(x_ticks)\n",
    "ax.set_xlabel('Month and Year')\n",
    "ax.set_ylabel('Total minutes [Millions]')\n",
    "ax.set_title('Total minutes of trips per month by type of user')"
   ]
  },
  {
   "cell_type": "code",
   "execution_count": 10,
   "metadata": {},
   "outputs": [
    {
     "data": {
      "image/png": "[encoded data removed]",
      "text/plain": [
       "<Figure size 576x360 with 1 Axes>"
      ]
     },
     "metadata": {
      "needs_background": "light"
     },
     "output_type": "display_data"
    }
   ],
   "source": [
    "ax = trips_2021_2022.groupby(['day_of_the_week',\n",
    "                        'member_casual'])['rideable_type'].count(\n",
    "                        ).unstack().plot(kind='bar', stacked=False,\n",
    "                        figsize=(8,5))\n"
   ]
  },
  {
   "cell_type": "code",
   "execution_count": 11,
   "metadata": {},
   "outputs": [
    {
     "data": {
      "image/png": "[encoded data removed]",
      "text/plain": [
       "<Figure size 576x360 with 1 Axes>"
      ]
     },
     "metadata": {
      "needs_background": "light"
     },
     "output_type": "display_data"
    }
   ],
   "source": [
    "ax = trips_2021_2022.groupby(['day_of_the_week',\n",
    "                        'member_casual'])['trip_duration'].sum(\n",
    "                        ).div(10**6).unstack().plot(kind='bar', stacked=False,\n",
    "                        figsize=(8,5))\n"
   ]
  },
  {
   "cell_type": "markdown",
   "metadata": {},
   "source": [
    "We also want to know how the ride behaviours changes by user and hour of the day"
   ]
  },
  {
   "cell_type": "code",
   "execution_count": 12,
   "metadata": {},
   "outputs": [
    {
     "data": {
      "text/plain": [
       "[<matplotlib.axis.XTick at 0x1ed122595e0>,\n",
       " <matplotlib.axis.XTick at 0x1ed122595b0>,\n",
       " <matplotlib.axis.XTick at 0x1ed5af25b20>,\n",
       " <matplotlib.axis.XTick at 0x1ed54139280>,\n",
       " <matplotlib.axis.XTick at 0x1ed541399d0>,\n",
       " <matplotlib.axis.XTick at 0x1ed54133160>,\n",
       " <matplotlib.axis.XTick at 0x1ed541338b0>,\n",
       " <matplotlib.axis.XTick at 0x1ed289f95e0>,\n",
       " <matplotlib.axis.XTick at 0x1ed5415d040>,\n",
       " <matplotlib.axis.XTick at 0x1ed5415d700>,\n",
       " <matplotlib.axis.XTick at 0x1ed5415de50>,\n",
       " <matplotlib.axis.XTick at 0x1ed4c9405e0>,\n",
       " <matplotlib.axis.XTick at 0x1ed4c940d30>,\n",
       " <matplotlib.axis.XTick at 0x1ed4c940d90>,\n",
       " <matplotlib.axis.XTick at 0x1ed5415db50>,\n",
       " <matplotlib.axis.XTick at 0x1ed4c949070>,\n",
       " <matplotlib.axis.XTick at 0x1ed4c949b80>,\n",
       " <matplotlib.axis.XTick at 0x1ed4c953310>,\n",
       " <matplotlib.axis.XTick at 0x1ed4c953a60>,\n",
       " <matplotlib.axis.XTick at 0x1ed4c9561f0>,\n",
       " <matplotlib.axis.XTick at 0x1ed4c953ac0>,\n",
       " <matplotlib.axis.XTick at 0x1ed4c949700>,\n",
       " <matplotlib.axis.XTick at 0x1ed4c956190>,\n",
       " <matplotlib.axis.XTick at 0x1ed4c956e50>]"
      ]
     },
     "execution_count": 12,
     "metadata": {},
     "output_type": "execute_result"
    },
    {
     "data": {
      "image/png": "[encoded data removed]",
      "text/plain": [
       "<Figure size 432x288 with 1 Axes>"
      ]
     },
     "metadata": {
      "needs_background": "light"
     },
     "output_type": "display_data"
    }
   ],
   "source": [
    "\n",
    "ax1 = trips_2021_2022.loc[trips_2021_2022['member_casual']=='casual'].groupby(\n",
    "                                [trips_2021_2022['started_at'].dt.hour]).size(\n",
    "                                ).div(10**3).plot(kind='line', style='o-', legend=True)\n",
    "\n",
    "\n",
    "ax2 = trips_2021_2022.loc[trips_2021_2022['member_casual']=='member'].groupby(\n",
    "                                [trips_2021_2022['started_at'].dt.hour]).size(\n",
    "                                ).div(10**3).plot(kind='line', style='o-', grid=True)\n",
    "\n",
    "ax2.legend(['casual', 'member'], framealpha=0)\n",
    "ax2.set_title('Thousands of rides per user type in a day')\n",
    "ax2.set_xlabel('Hour of the day')\n",
    "ax2.set_ylabel('Number of rides [Thousands]')\n",
    "ax2.set_xticks(np.arange(0, 24, 1))\n",
    "\n",
    "\n"
   ]
  },
  {
   "cell_type": "markdown",
   "metadata": {},
   "source": [
    "Now we'll see how the type of bikes differ by user type"
   ]
  },
  {
   "cell_type": "code",
   "execution_count": 13,
   "metadata": {},
   "outputs": [
    {
     "data": {
      "image/png": "[encoded data removed]",
      "text/plain": [
       "<Figure size 720x360 with 2 Axes>"
      ]
     },
     "metadata": {},
     "output_type": "display_data"
    }
   ],
   "source": [
    "#Percentage of users by user type\n",
    "fig, axes = plt.subplots(1, 2, figsize=(10,5))\n",
    "fig.suptitle('Type of bikes used by user type', fontsize=15)\n",
    "\n",
    "\n",
    "ax1 = trips_2021_2022.loc[trips_2021_2022['member_casual']=='casual'].groupby(\n",
    "                    ['rideable_type'])['rideable_type'].size(\n",
    "                    ).plot(kind='pie', autopct='%1.1f%%', ylabel='', ax=axes[0],\n",
    "                     legend=True, labeldistance=None, title='Casual members')\n",
    "\n",
    "ax1.legend(bbox_to_anchor=(2.02, 1.1), loc='upper left')\n",
    "ax1.colors=['blue','green', 'orange']\n",
    "\n",
    "\n",
    "ax2 = trips_2021_2022.loc[trips_2021_2022['member_casual']=='member'].groupby(\n",
    "                    ['rideable_type'])['rideable_type'].size(\n",
    "                    ).plot(kind='pie', autopct='%1.1f%%', ylabel='', ax=axes[1], \n",
    "                    labeldistance=None, title='Annual members')\n",
    "ax2.colors=['blue','orange']\n",
    "\n"
   ]
  },
  {
   "cell_type": "markdown",
   "metadata": {},
   "source": [
    "Out of the named stations we we're able to indentify, we want to know which ones are the most as a start point used ones"
   ]
  },
  {
   "cell_type": "code",
   "execution_count": 14,
   "metadata": {},
   "outputs": [
    {
     "data": {
      "text/plain": [
       "Text(0.5, 0, 'Number of rides per station')"
      ]
     },
     "execution_count": 14,
     "metadata": {},
     "output_type": "execute_result"
    },
    {
     "data": {
      "image/png": "[encoded data removed]",
      "text/plain": [
       "<Figure size 576x360 with 1 Axes>"
      ]
     },
     "metadata": {
      "needs_background": "light"
     },
     "output_type": "display_data"
    }
   ],
   "source": [
    "#Since there are 1379 starting stations for more \n",
    "#   than over 5 million rides, we will only check the top 10 most used stations\n",
    "ax = trips_2021_2022.groupby(['start_station_name'])['start_station_name'].size(\n",
    "                                                    ).sort_values(ascending=False)[:10]\n",
    "ax = ax.plot(kind='barh', figsize=(8,5))\n",
    "ax.invert_yaxis()\n",
    "ax.set_title('Top start stations', fontsize=16)\n",
    "ax.set_ylabel('Start station name')\n",
    "ax.set_xlabel('Number of rides per station')"
   ]
  },
  {
   "cell_type": "markdown",
   "metadata": {},
   "source": [
    "Now we want to know which stations are the most used and whe're they're located.\n",
    "\n",
    "To do this we will use the geopandas library and a geojson of Chicago"
   ]
  },
  {
   "cell_type": "code",
   "execution_count": 5,
   "metadata": {},
   "outputs": [],
   "source": [
    "import geopandas as gpd\n",
    "from shapely.geometry import Point, Polygon"
   ]
  },
  {
   "cell_type": "code",
   "execution_count": 6,
   "metadata": {},
   "outputs": [
    {
     "name": "stderr",
     "output_type": "stream",
     "text": [
      "c:\\Program Files\\Python39\\lib\\site-packages\\pyproj\\crs\\crs.py:130: FutureWarning: '+init=<authority>:<code>' syntax is deprecated. '<authority>:<code>' is the preferred initialization method. When making the change, be mindful of axis order changes: https://pyproj4.github.io/pyproj/stable/gotchas.html#axis-order-changes-in-proj-6\n",
      "  in_crs_string = _prepare_from_proj_string(in_crs_string)\n"
     ]
    }
   ],
   "source": [
    "#We import the geojson file of the Chicago street lines\n",
    "chicago_map = gpd.read_file('Chicago_Street_Center_Lines.geojson')\n",
    "chicago_map.crs = {'init':\"epsg:4326\"}"
   ]
  },
  {
   "cell_type": "code",
   "execution_count": 51,
   "metadata": {},
   "outputs": [
    {
     "data": {
      "text/plain": [
       "Text(0.5, 1.0, 'Chicago street lines')"
      ]
     },
     "execution_count": 51,
     "metadata": {},
     "output_type": "execute_result"
    },
    {
     "data": {
      "image/png": "[encoded data removed]",
      "text/plain": [
       "<Figure size 792x792 with 1 Axes>"
      ]
     },
     "metadata": {
      "needs_background": "light"
     },
     "output_type": "display_data"
    }
   ],
   "source": [
    "fig, ax = plt.subplots(figsize=(11,11))\n",
    "chicago_map.plot(ax=ax)\n",
    "ax.set_title('Chicago street lines')"
   ]
  },
  {
   "cell_type": "code",
   "execution_count": 7,
   "metadata": {},
   "outputs": [
    {
     "data": {
      "text/plain": [
       "start_lat  start_lng \n",
       "41.892278  -87.612043    60628\n",
       "41.790000  -87.600000    51358\n",
       "41.911722  -87.626804    34480\n",
       "41.880958  -87.616743    32345\n",
       "41.926277  -87.630834    28878\n",
       "41.912133  -87.634656    27505\n",
       "41.900960  -87.623777    26179\n",
       "41.902973  -87.631280    25383\n",
       "41.800000  -87.590000    24639\n",
       "41.903222  -87.634324    23766\n",
       "dtype: int64"
      ]
     },
     "execution_count": 7,
     "metadata": {},
     "output_type": "execute_result"
    }
   ],
   "source": [
    "#We can see that the top Starting Stations by coordinates don't match the number of trips\n",
    "# of the ones we sorted by station name. \n",
    "# Earlies we discovered that by name 'Streeter Dr & Grand Ave' is the most used station as a start point.\n",
    "# This difference in the data could be due to the missing names we've got in the 'start_station_name' column\n",
    "# as well as some issues in the decimal points of the lat and long values.\n",
    "trips_2021_2022.groupby(['start_lat', 'start_lng']).size().sort_values(ascending=False)[:10]"
   ]
  },
  {
   "cell_type": "code",
   "execution_count": 108,
   "metadata": {},
   "outputs": [
    {
     "name": "stdout",
     "output_type": "stream",
     "text": [
      "<class 'pandas.core.frame.DataFrame'>\n",
      "RangeIndex: 11579450 entries, 0 to 11579449\n",
      "Data columns (total 4 columns):\n",
      " #   Column         Non-Null Count     Dtype  \n",
      "---  ------         --------------     -----  \n",
      " 0   station_name   10690724 non-null  object \n",
      " 1   station_lat    11579450 non-null  float64\n",
      " 2   station_lng    11579450 non-null  float64\n",
      " 3   member_casual  11579450 non-null  object \n",
      "dtypes: float64(2), object(2)\n",
      "memory usage: 353.4+ MB\n"
     ]
    }
   ],
   "source": [
    "#To make the analysis of the most used stations we will analyze them all together.\n",
    "# To do that we'll create a new data file and we'll merge the 'start_long' and 'end_long' columns into 1 column.\n",
    "# We'll also merge the 'start_lat' and 'end_lat' into a single column as well.\n",
    "data_coordinates = {'station_name':pd.concat([trips_2021_2022['start_station_name'], trips_2021_2022['end_station_name']], ignore_index=True),\n",
    "                    'station_lat':pd.concat([trips_2021_2022['start_lat'], trips_2021_2022['end_lat']], ignore_index=True),\n",
    "                    'station_lng':pd.concat([trips_2021_2022['start_lng'], trips_2021_2022['end_lng']], ignore_index=True),\n",
    "                    'member_casual':pd.concat([trips_2021_2022['member_casual'], trips_2021_2022['member_casual']], ignore_index=True)}\n",
    "df_coordinates = pd.DataFrame(data=data_coordinates) #This is the dataframe we'll transform to use the coordinates\n",
    "df_coordinates.info(show_counts=True)"
   ]
  },
  {
   "cell_type": "markdown",
   "metadata": {},
   "source": [
    "df['store'] = df['store'].fillna(df.groupby(['long','lat'])['store'].transform('first'))\n",
    "\n",
    "df.loc[df.cherry == 'bad', ['apple', 'banana']] = np.nan\n"
   ]
  },
  {
   "cell_type": "code",
   "execution_count": null,
   "metadata": {},
   "outputs": [],
   "source": [
    "df_coordinates.loc[]"
   ]
  },
  {
   "cell_type": "code",
   "execution_count": 23,
   "metadata": {},
   "outputs": [
    {
     "data": {
      "text/html": [
       "<div>\n",
       "<style scoped>\n",
       "    .dataframe tbody tr th:only-of-type {\n",
       "        vertical-align: middle;\n",
       "    }\n",
       "\n",
       "    .dataframe tbody tr th {\n",
       "        vertical-align: top;\n",
       "    }\n",
       "\n",
       "    .dataframe thead th {\n",
       "        text-align: right;\n",
       "    }\n",
       "</style>\n",
       "<table border=\"1\" class=\"dataframe\">\n",
       "  <thead>\n",
       "    <tr style=\"text-align: right;\">\n",
       "      <th></th>\n",
       "      <th>station_name</th>\n",
       "      <th>station_lat</th>\n",
       "      <th>station_lng</th>\n",
       "      <th>member_casual</th>\n",
       "    </tr>\n",
       "  </thead>\n",
       "  <tbody>\n",
       "    <tr>\n",
       "      <th>0</th>\n",
       "      <td>NaN</td>\n",
       "      <td>41.77</td>\n",
       "      <td>-87.68</td>\n",
       "      <td>member</td>\n",
       "    </tr>\n",
       "    <tr>\n",
       "      <th>1</th>\n",
       "      <td>NaN</td>\n",
       "      <td>41.77</td>\n",
       "      <td>-87.68</td>\n",
       "      <td>member</td>\n",
       "    </tr>\n",
       "    <tr>\n",
       "      <th>2</th>\n",
       "      <td>NaN</td>\n",
       "      <td>41.95</td>\n",
       "      <td>-87.65</td>\n",
       "      <td>member</td>\n",
       "    </tr>\n",
       "    <tr>\n",
       "      <th>3</th>\n",
       "      <td>NaN</td>\n",
       "      <td>41.97</td>\n",
       "      <td>-87.67</td>\n",
       "      <td>member</td>\n",
       "    </tr>\n",
       "    <tr>\n",
       "      <th>4</th>\n",
       "      <td>Mulligan Ave &amp; Wellington Ave</td>\n",
       "      <td>41.79</td>\n",
       "      <td>-87.60</td>\n",
       "      <td>member</td>\n",
       "    </tr>\n",
       "  </tbody>\n",
       "</table>\n",
       "</div>"
      ],
      "text/plain": [
       "                    station_name  station_lat  station_lng member_casual\n",
       "0                            NaN        41.77       -87.68        member\n",
       "1                            NaN        41.77       -87.68        member\n",
       "2                            NaN        41.95       -87.65        member\n",
       "3                            NaN        41.97       -87.67        member\n",
       "4  Mulligan Ave & Wellington Ave        41.79       -87.60        member"
      ]
     },
     "execution_count": 23,
     "metadata": {},
     "output_type": "execute_result"
    }
   ],
   "source": [
    "crs = {'init': 'epsg:4326'} #coordinate reference system we'll use to plot\n",
    "df_coordinates.head()"
   ]
  },
  {
   "cell_type": "code",
   "execution_count": 82,
   "metadata": {},
   "outputs": [],
   "source": [
    "xxxx = df_coordinates.groupby(['station_name','member_casual'])"
   ]
  },
  {
   "cell_type": "code",
   "execution_count": 61,
   "metadata": {},
   "outputs": [
    {
     "data": {
      "text/plain": [
       "station_name                         member_casual\n",
       "Public Rack - Perry Ave & 111th St   member                1\n",
       "Halsted St & 94th St                 member                1\n",
       "May St & 78th St                     casual                1\n",
       "                                     member                1\n",
       "Public Rack - Western Ave & 98th St  casual                1\n",
       "                                                       ...  \n",
       "DuSable Lake Shore Dr & North Blvd   casual            57463\n",
       "Millennium Park                      casual            58447\n",
       "Mulligan Ave & Wellington Ave        member            58720\n",
       "DuSable Lake Shore Dr & Monroe St    casual            62927\n",
       "Streeter Dr & Grand Ave              casual           125812\n",
       "Length: 2710, dtype: int64"
      ]
     },
     "execution_count": 61,
     "metadata": {},
     "output_type": "execute_result"
    }
   ],
   "source": [
    "xxxx.size().sort_values()"
   ]
  },
  {
   "cell_type": "code",
   "execution_count": 90,
   "metadata": {},
   "outputs": [],
   "source": [
    "#df_coordinates.dropna(axis=0, subset=['station_name'],inplace=True)"
   ]
  },
  {
   "cell_type": "code",
   "execution_count": 95,
   "metadata": {},
   "outputs": [
    {
     "data": {
      "text/html": [
       "<div>\n",
       "<style scoped>\n",
       "    .dataframe tbody tr th:only-of-type {\n",
       "        vertical-align: middle;\n",
       "    }\n",
       "\n",
       "    .dataframe tbody tr th {\n",
       "        vertical-align: top;\n",
       "    }\n",
       "\n",
       "    .dataframe thead th {\n",
       "        text-align: right;\n",
       "    }\n",
       "</style>\n",
       "<table border=\"1\" class=\"dataframe\">\n",
       "  <thead>\n",
       "    <tr style=\"text-align: right;\">\n",
       "      <th></th>\n",
       "      <th>station_name</th>\n",
       "      <th>station_lat</th>\n",
       "      <th>station_lng</th>\n",
       "      <th>member_casual</th>\n",
       "    </tr>\n",
       "  </thead>\n",
       "  <tbody>\n",
       "    <tr>\n",
       "      <th>0</th>\n",
       "      <td>NaN</td>\n",
       "      <td>41.77</td>\n",
       "      <td>-87.68</td>\n",
       "      <td>member</td>\n",
       "    </tr>\n",
       "    <tr>\n",
       "      <th>1</th>\n",
       "      <td>NaN</td>\n",
       "      <td>41.77</td>\n",
       "      <td>-87.68</td>\n",
       "      <td>member</td>\n",
       "    </tr>\n",
       "    <tr>\n",
       "      <th>2</th>\n",
       "      <td>NaN</td>\n",
       "      <td>41.95</td>\n",
       "      <td>-87.65</td>\n",
       "      <td>member</td>\n",
       "    </tr>\n",
       "    <tr>\n",
       "      <th>3</th>\n",
       "      <td>NaN</td>\n",
       "      <td>41.97</td>\n",
       "      <td>-87.67</td>\n",
       "      <td>member</td>\n",
       "    </tr>\n",
       "    <tr>\n",
       "      <th>4</th>\n",
       "      <td>Mulligan Ave &amp; Wellington Ave</td>\n",
       "      <td>41.79</td>\n",
       "      <td>-87.60</td>\n",
       "      <td>member</td>\n",
       "    </tr>\n",
       "  </tbody>\n",
       "</table>\n",
       "</div>"
      ],
      "text/plain": [
       "                    station_name  station_lat  station_lng member_casual\n",
       "0                            NaN        41.77       -87.68        member\n",
       "1                            NaN        41.77       -87.68        member\n",
       "2                            NaN        41.95       -87.65        member\n",
       "3                            NaN        41.97       -87.67        member\n",
       "4  Mulligan Ave & Wellington Ave        41.79       -87.60        member"
      ]
     },
     "execution_count": 95,
     "metadata": {},
     "output_type": "execute_result"
    }
   ],
   "source": [
    "only_first_coordinates.head()"
   ]
  },
  {
   "cell_type": "code",
   "execution_count": null,
   "metadata": {},
   "outputs": [],
   "source": []
  },
  {
   "cell_type": "code",
   "execution_count": 17,
   "metadata": {},
   "outputs": [
    {
     "name": "stderr",
     "output_type": "stream",
     "text": [
      "c:\\Program Files\\Python39\\lib\\site-packages\\pyproj\\crs\\crs.py:130: FutureWarning: '+init=<authority>:<code>' syntax is deprecated. '<authority>:<code>' is the preferred initialization method. When making the change, be mindful of axis order changes: https://pyproj4.github.io/pyproj/stable/gotchas.html#axis-order-changes-in-proj-6\n",
      "  in_crs_string = _prepare_from_proj_string(in_crs_string)\n"
     ]
    }
   ],
   "source": [
    "geometry = [Point(xy) for xy in zip(df_coordinates['station_lng'], df_coordinates['station_lat'])]\n",
    "gdf = gpd.GeoDataFrame(df_coordinates, crs=crs, geometry=geometry)"
   ]
  },
  {
   "cell_type": "code",
   "execution_count": 18,
   "metadata": {},
   "outputs": [
    {
     "name": "stdout",
     "output_type": "stream",
     "text": [
      "<class 'geopandas.geodataframe.GeoDataFrame'>\n",
      "RangeIndex: 11579450 entries, 0 to 11579449\n",
      "Data columns (total 4 columns):\n",
      " #   Column        Dtype   \n",
      "---  ------        -----   \n",
      " 0   station_name  object  \n",
      " 1   station_lat   float64 \n",
      " 2   station_lng   float64 \n",
      " 3   geometry      geometry\n",
      "dtypes: float64(2), geometry(1), object(1)\n",
      "memory usage: 353.4+ MB\n"
     ]
    }
   ],
   "source": [
    "gdf.info()"
   ]
  },
  {
   "cell_type": "code",
   "execution_count": 25,
   "metadata": {},
   "outputs": [
    {
     "data": {
      "text/plain": [
       "station_lng  station_lat  station_name                      \n",
       "-87.612043   41.892278    Streeter Dr & Grand Ave               134286\n",
       "-87.626804   41.911722    DuSable Lake Shore Dr & North Blvd     79434\n",
       "-87.616743   41.880958    DuSable Lake Shore Dr & Monroe St      70542\n",
       "-87.634656   41.912133    Wells St & Concord Ln                  63440\n",
       "-87.630834   41.926277    Theater on the Lake                    62664\n",
       "-87.623777   41.900960    Michigan Ave & Oak St                  59784\n",
       "-87.631280   41.902973    Clark St & Elm St                      57722\n",
       "-87.634324   41.903222    Wells St & Elm St                      53614\n",
       "-87.638506   41.889177    Kingsbury St & Kinzie St               51699\n",
       "-87.600000   41.790000    Mulligan Ave & Wellington Ave          51358\n",
       "dtype: int64"
      ]
     },
     "execution_count": 25,
     "metadata": {},
     "output_type": "execute_result"
    }
   ],
   "source": [
    "#Now we can see the top 10 stations with the most traffic\n",
    "gdf.groupby(['station_lng', 'station_lat', 'station_name']).size().sort_values(ascending=False)[:10]"
   ]
  },
  {
   "cell_type": "markdown",
   "metadata": {},
   "source": [
    "df['store'] = df['store'].fillna(df.groupby(['long','lat'])['store'].transform('first'))\n",
    "\n",
    "\n",
    "station_traffic.groupby('station_name','station_lng','station_lat')[['station_lng','station_lat']]"
   ]
  },
  {
   "cell_type": "code",
   "execution_count": 120,
   "metadata": {},
   "outputs": [
    {
     "name": "stdout",
     "output_type": "stream",
     "text": [
      "<class 'pandas.core.frame.DataFrame'>\n",
      "RangeIndex: 11579450 entries, 0 to 11579449\n",
      "Data columns (total 4 columns):\n",
      " #   Column         Non-Null Count     Dtype  \n",
      "---  ------         --------------     -----  \n",
      " 0   station_name   10690724 non-null  object \n",
      " 1   station_lat    11579450 non-null  float64\n",
      " 2   station_lng    11579450 non-null  float64\n",
      " 3   member_casual  11579450 non-null  object \n",
      "dtypes: float64(2), object(2)\n",
      "memory usage: 353.4+ MB\n"
     ]
    }
   ],
   "source": [
    "#To make the analysis of the most used stations we will analyze them all together.\n",
    "# To do that we'll create a new data file and we'll merge the 'start_long' and 'end_long' columns into 1 column.\n",
    "# We'll also merge the 'start_lat' and 'end_lat' into a single column as well.\n",
    "data_coordinates = {'station_name':pd.concat([trips_2021_2022['start_station_name'], trips_2021_2022['end_station_name']], ignore_index=True),\n",
    "                    'station_lat':pd.concat([trips_2021_2022['start_lat'], trips_2021_2022['end_lat']], ignore_index=True),\n",
    "                    'station_lng':pd.concat([trips_2021_2022['start_lng'], trips_2021_2022['end_lng']], ignore_index=True),\n",
    "                    'member_casual':pd.concat([trips_2021_2022['member_casual'], trips_2021_2022['member_casual']], ignore_index=True)}\n",
    "df_coordinates = pd.DataFrame(data=data_coordinates) #This is the dataframe we'll transform to use the coordinates\n",
    "df_coordinates.info(show_counts=True)"
   ]
  },
  {
   "cell_type": "code",
   "execution_count": 121,
   "metadata": {},
   "outputs": [
    {
     "name": "stderr",
     "output_type": "stream",
     "text": [
      "C:\\Users\\ALVARO\\AppData\\Local\\Temp/ipykernel_15552/3644348615.py:2: FutureWarning: Indexing with multiple keys (implicitly converted to a tuple of keys) will be deprecated, use a list instead.\n",
      "  ['station_lng', 'station_lat']] = df_coordinates.loc[df_coordinates.duplicated('station_name')==True].groupby(['station_name', 'station_lng','station_lat']\n"
     ]
    }
   ],
   "source": [
    "df_coordinates.loc[df_coordinates.duplicated('station_name')==True,\n",
    "                    ['station_lng', 'station_lat']] = df_coordinates.loc[df_coordinates.duplicated('station_name')==True].groupby(['station_name', 'station_lng','station_lat']\n",
    "                    )['station_lng', 'station_lat'].transform('first')"
   ]
  },
  {
   "cell_type": "code",
   "execution_count": 122,
   "metadata": {},
   "outputs": [],
   "source": [
    "station_traffic = df_coordinates.groupby(['member_casual', 'station_name','station_lng','station_lat']).size(\n",
    "                                            ).sort_values(ascending=False).reset_index(name='Number of rides')\n"
   ]
  },
  {
   "cell_type": "code",
   "execution_count": 123,
   "metadata": {},
   "outputs": [
    {
     "data": {
      "text/html": [
       "<div>\n",
       "<style scoped>\n",
       "    .dataframe tbody tr th:only-of-type {\n",
       "        vertical-align: middle;\n",
       "    }\n",
       "\n",
       "    .dataframe tbody tr th {\n",
       "        vertical-align: top;\n",
       "    }\n",
       "\n",
       "    .dataframe thead th {\n",
       "        text-align: right;\n",
       "    }\n",
       "</style>\n",
       "<table border=\"1\" class=\"dataframe\">\n",
       "  <thead>\n",
       "    <tr style=\"text-align: right;\">\n",
       "      <th></th>\n",
       "      <th>member_casual</th>\n",
       "      <th>station_name</th>\n",
       "      <th>station_lng</th>\n",
       "      <th>station_lat</th>\n",
       "      <th>Number of rides</th>\n",
       "    </tr>\n",
       "  </thead>\n",
       "  <tbody>\n",
       "    <tr>\n",
       "      <th>3</th>\n",
       "      <td>member</td>\n",
       "      <td>Mulligan Ave &amp; Wellington Ave</td>\n",
       "      <td>-87.600000</td>\n",
       "      <td>41.790000</td>\n",
       "      <td>44870</td>\n",
       "    </tr>\n",
       "    <tr>\n",
       "      <th>194</th>\n",
       "      <td>member</td>\n",
       "      <td>Mulligan Ave &amp; Wellington Ave</td>\n",
       "      <td>-87.600000</td>\n",
       "      <td>41.800000</td>\n",
       "      <td>11920</td>\n",
       "    </tr>\n",
       "    <tr>\n",
       "      <th>434</th>\n",
       "      <td>casual</td>\n",
       "      <td>Mulligan Ave &amp; Wellington Ave</td>\n",
       "      <td>-87.600000</td>\n",
       "      <td>41.790000</td>\n",
       "      <td>6488</td>\n",
       "    </tr>\n",
       "    <tr>\n",
       "      <th>717</th>\n",
       "      <td>casual</td>\n",
       "      <td>Mulligan Ave &amp; Wellington Ave</td>\n",
       "      <td>-87.600000</td>\n",
       "      <td>41.800000</td>\n",
       "      <td>3125</td>\n",
       "    </tr>\n",
       "    <tr>\n",
       "      <th>976</th>\n",
       "      <td>casual</td>\n",
       "      <td>Mulligan Ave &amp; Wellington Ave</td>\n",
       "      <td>-87.720000</td>\n",
       "      <td>41.910000</td>\n",
       "      <td>1483</td>\n",
       "    </tr>\n",
       "    <tr>\n",
       "      <th>1093</th>\n",
       "      <td>casual</td>\n",
       "      <td>Mulligan Ave &amp; Wellington Ave</td>\n",
       "      <td>-87.780000</td>\n",
       "      <td>41.930000</td>\n",
       "      <td>1073</td>\n",
       "    </tr>\n",
       "    <tr>\n",
       "      <th>1098</th>\n",
       "      <td>member</td>\n",
       "      <td>Mulligan Ave &amp; Wellington Ave</td>\n",
       "      <td>-87.780000</td>\n",
       "      <td>41.930000</td>\n",
       "      <td>1064</td>\n",
       "    </tr>\n",
       "    <tr>\n",
       "      <th>1180</th>\n",
       "      <td>member</td>\n",
       "      <td>Mulligan Ave &amp; Wellington Ave</td>\n",
       "      <td>-87.720000</td>\n",
       "      <td>41.910000</td>\n",
       "      <td>859</td>\n",
       "    </tr>\n",
       "    <tr>\n",
       "      <th>4313</th>\n",
       "      <td>casual</td>\n",
       "      <td>Mulligan Ave &amp; Wellington Ave</td>\n",
       "      <td>-87.750000</td>\n",
       "      <td>41.810000</td>\n",
       "      <td>2</td>\n",
       "    </tr>\n",
       "    <tr>\n",
       "      <th>1106232</th>\n",
       "      <td>member</td>\n",
       "      <td>Mulligan Ave &amp; Wellington Ave</td>\n",
       "      <td>-87.710000</td>\n",
       "      <td>41.940000</td>\n",
       "      <td>1</td>\n",
       "    </tr>\n",
       "    <tr>\n",
       "      <th>1106303</th>\n",
       "      <td>member</td>\n",
       "      <td>Mulligan Ave &amp; Wellington Ave</td>\n",
       "      <td>-87.667258</td>\n",
       "      <td>41.907056</td>\n",
       "      <td>1</td>\n",
       "    </tr>\n",
       "    <tr>\n",
       "      <th>1106331</th>\n",
       "      <td>member</td>\n",
       "      <td>Mulligan Ave &amp; Wellington Ave</td>\n",
       "      <td>-87.627746</td>\n",
       "      <td>41.902453</td>\n",
       "      <td>1</td>\n",
       "    </tr>\n",
       "    <tr>\n",
       "      <th>1106332</th>\n",
       "      <td>member</td>\n",
       "      <td>Mulligan Ave &amp; Wellington Ave</td>\n",
       "      <td>-87.638258</td>\n",
       "      <td>41.894634</td>\n",
       "      <td>1</td>\n",
       "    </tr>\n",
       "    <tr>\n",
       "      <th>1106333</th>\n",
       "      <td>member</td>\n",
       "      <td>Mulligan Ave &amp; Wellington Ave</td>\n",
       "      <td>-87.639530</td>\n",
       "      <td>41.881690</td>\n",
       "      <td>1</td>\n",
       "    </tr>\n",
       "    <tr>\n",
       "      <th>1106334</th>\n",
       "      <td>member</td>\n",
       "      <td>Mulligan Ave &amp; Wellington Ave</td>\n",
       "      <td>-87.641266</td>\n",
       "      <td>41.881863</td>\n",
       "      <td>1</td>\n",
       "    </tr>\n",
       "    <tr>\n",
       "      <th>1106335</th>\n",
       "      <td>member</td>\n",
       "      <td>Mulligan Ave &amp; Wellington Ave</td>\n",
       "      <td>-87.666036</td>\n",
       "      <td>41.961588</td>\n",
       "      <td>1</td>\n",
       "    </tr>\n",
       "    <tr>\n",
       "      <th>2027974</th>\n",
       "      <td>casual</td>\n",
       "      <td>Mulligan Ave &amp; Wellington Ave</td>\n",
       "      <td>-87.647539</td>\n",
       "      <td>41.936497</td>\n",
       "      <td>1</td>\n",
       "    </tr>\n",
       "    <tr>\n",
       "      <th>2027977</th>\n",
       "      <td>casual</td>\n",
       "      <td>Mulligan Ave &amp; Wellington Ave</td>\n",
       "      <td>-87.668385</td>\n",
       "      <td>41.939365</td>\n",
       "      <td>1</td>\n",
       "    </tr>\n",
       "    <tr>\n",
       "      <th>2027978</th>\n",
       "      <td>casual</td>\n",
       "      <td>Mulligan Ave &amp; Wellington Ave</td>\n",
       "      <td>-87.668084</td>\n",
       "      <td>41.978037</td>\n",
       "      <td>1</td>\n",
       "    </tr>\n",
       "    <tr>\n",
       "      <th>2027979</th>\n",
       "      <td>casual</td>\n",
       "      <td>Mulligan Ave &amp; Wellington Ave</td>\n",
       "      <td>-87.653113</td>\n",
       "      <td>41.910633</td>\n",
       "      <td>1</td>\n",
       "    </tr>\n",
       "    <tr>\n",
       "      <th>2027980</th>\n",
       "      <td>casual</td>\n",
       "      <td>Mulligan Ave &amp; Wellington Ave</td>\n",
       "      <td>-87.648128</td>\n",
       "      <td>41.909668</td>\n",
       "      <td>1</td>\n",
       "    </tr>\n",
       "    <tr>\n",
       "      <th>2027981</th>\n",
       "      <td>casual</td>\n",
       "      <td>Mulligan Ave &amp; Wellington Ave</td>\n",
       "      <td>-87.641170</td>\n",
       "      <td>41.883380</td>\n",
       "      <td>1</td>\n",
       "    </tr>\n",
       "    <tr>\n",
       "      <th>2027983</th>\n",
       "      <td>casual</td>\n",
       "      <td>Mulligan Ave &amp; Wellington Ave</td>\n",
       "      <td>-87.638888</td>\n",
       "      <td>41.922167</td>\n",
       "      <td>1</td>\n",
       "    </tr>\n",
       "    <tr>\n",
       "      <th>2027984</th>\n",
       "      <td>casual</td>\n",
       "      <td>Mulligan Ave &amp; Wellington Ave</td>\n",
       "      <td>-87.617854</td>\n",
       "      <td>41.894503</td>\n",
       "      <td>1</td>\n",
       "    </tr>\n",
       "    <tr>\n",
       "      <th>2027990</th>\n",
       "      <td>casual</td>\n",
       "      <td>Mulligan Ave &amp; Wellington Ave</td>\n",
       "      <td>-87.790000</td>\n",
       "      <td>41.940000</td>\n",
       "      <td>1</td>\n",
       "    </tr>\n",
       "  </tbody>\n",
       "</table>\n",
       "</div>"
      ],
      "text/plain": [
       "        member_casual                   station_name  station_lng  \\\n",
       "3              member  Mulligan Ave & Wellington Ave   -87.600000   \n",
       "194            member  Mulligan Ave & Wellington Ave   -87.600000   \n",
       "434            casual  Mulligan Ave & Wellington Ave   -87.600000   \n",
       "717            casual  Mulligan Ave & Wellington Ave   -87.600000   \n",
       "976            casual  Mulligan Ave & Wellington Ave   -87.720000   \n",
       "1093           casual  Mulligan Ave & Wellington Ave   -87.780000   \n",
       "1098           member  Mulligan Ave & Wellington Ave   -87.780000   \n",
       "1180           member  Mulligan Ave & Wellington Ave   -87.720000   \n",
       "4313           casual  Mulligan Ave & Wellington Ave   -87.750000   \n",
       "1106232        member  Mulligan Ave & Wellington Ave   -87.710000   \n",
       "1106303        member  Mulligan Ave & Wellington Ave   -87.667258   \n",
       "1106331        member  Mulligan Ave & Wellington Ave   -87.627746   \n",
       "1106332        member  Mulligan Ave & Wellington Ave   -87.638258   \n",
       "1106333        member  Mulligan Ave & Wellington Ave   -87.639530   \n",
       "1106334        member  Mulligan Ave & Wellington Ave   -87.641266   \n",
       "1106335        member  Mulligan Ave & Wellington Ave   -87.666036   \n",
       "2027974        casual  Mulligan Ave & Wellington Ave   -87.647539   \n",
       "2027977        casual  Mulligan Ave & Wellington Ave   -87.668385   \n",
       "2027978        casual  Mulligan Ave & Wellington Ave   -87.668084   \n",
       "2027979        casual  Mulligan Ave & Wellington Ave   -87.653113   \n",
       "2027980        casual  Mulligan Ave & Wellington Ave   -87.648128   \n",
       "2027981        casual  Mulligan Ave & Wellington Ave   -87.641170   \n",
       "2027983        casual  Mulligan Ave & Wellington Ave   -87.638888   \n",
       "2027984        casual  Mulligan Ave & Wellington Ave   -87.617854   \n",
       "2027990        casual  Mulligan Ave & Wellington Ave   -87.790000   \n",
       "\n",
       "         station_lat  Number of rides  \n",
       "3          41.790000            44870  \n",
       "194        41.800000            11920  \n",
       "434        41.790000             6488  \n",
       "717        41.800000             3125  \n",
       "976        41.910000             1483  \n",
       "1093       41.930000             1073  \n",
       "1098       41.930000             1064  \n",
       "1180       41.910000              859  \n",
       "4313       41.810000                2  \n",
       "1106232    41.940000                1  \n",
       "1106303    41.907056                1  \n",
       "1106331    41.902453                1  \n",
       "1106332    41.894634                1  \n",
       "1106333    41.881690                1  \n",
       "1106334    41.881863                1  \n",
       "1106335    41.961588                1  \n",
       "2027974    41.936497                1  \n",
       "2027977    41.939365                1  \n",
       "2027978    41.978037                1  \n",
       "2027979    41.910633                1  \n",
       "2027980    41.909668                1  \n",
       "2027981    41.883380                1  \n",
       "2027983    41.922167                1  \n",
       "2027984    41.894503                1  \n",
       "2027990    41.940000                1  "
      ]
     },
     "execution_count": 123,
     "metadata": {},
     "output_type": "execute_result"
    }
   ],
   "source": [
    "station_traffic.loc[station_traffic['station_name'] == 'Mulligan Ave & Wellington Ave']"
   ]
  },
  {
   "cell_type": "code",
   "execution_count": 106,
   "metadata": {},
   "outputs": [
    {
     "data": {
      "text/html": [
       "<div>\n",
       "<style scoped>\n",
       "    .dataframe tbody tr th:only-of-type {\n",
       "        vertical-align: middle;\n",
       "    }\n",
       "\n",
       "    .dataframe tbody tr th {\n",
       "        vertical-align: top;\n",
       "    }\n",
       "\n",
       "    .dataframe thead th {\n",
       "        text-align: right;\n",
       "    }\n",
       "</style>\n",
       "<table border=\"1\" class=\"dataframe\">\n",
       "  <thead>\n",
       "    <tr style=\"text-align: right;\">\n",
       "      <th></th>\n",
       "      <th>member_casual</th>\n",
       "      <th>station_name</th>\n",
       "      <th>station_lng</th>\n",
       "      <th>station_lat</th>\n",
       "      <th>Number of rides</th>\n",
       "    </tr>\n",
       "  </thead>\n",
       "  <tbody>\n",
       "    <tr>\n",
       "      <th>0</th>\n",
       "      <td>casual</td>\n",
       "      <td>Streeter Dr &amp; Grand Ave</td>\n",
       "      <td>-87.612043</td>\n",
       "      <td>41.892278</td>\n",
       "      <td>107287</td>\n",
       "    </tr>\n",
       "    <tr>\n",
       "      <th>1</th>\n",
       "      <td>casual</td>\n",
       "      <td>DuSable Lake Shore Dr &amp; Monroe St</td>\n",
       "      <td>-87.616743</td>\n",
       "      <td>41.880958</td>\n",
       "      <td>52833</td>\n",
       "    </tr>\n",
       "    <tr>\n",
       "      <th>2</th>\n",
       "      <td>casual</td>\n",
       "      <td>DuSable Lake Shore Dr &amp; North Blvd</td>\n",
       "      <td>-87.626804</td>\n",
       "      <td>41.911722</td>\n",
       "      <td>48960</td>\n",
       "    </tr>\n",
       "    <tr>\n",
       "      <th>3</th>\n",
       "      <td>member</td>\n",
       "      <td>Mulligan Ave &amp; Wellington Ave</td>\n",
       "      <td>-87.600000</td>\n",
       "      <td>41.790000</td>\n",
       "      <td>44870</td>\n",
       "    </tr>\n",
       "    <tr>\n",
       "      <th>4</th>\n",
       "      <td>member</td>\n",
       "      <td>Kingsbury St &amp; Kinzie St</td>\n",
       "      <td>-87.638506</td>\n",
       "      <td>41.889177</td>\n",
       "      <td>39783</td>\n",
       "    </tr>\n",
       "    <tr>\n",
       "      <th>...</th>\n",
       "      <td>...</td>\n",
       "      <td>...</td>\n",
       "      <td>...</td>\n",
       "      <td>...</td>\n",
       "      <td>...</td>\n",
       "    </tr>\n",
       "    <tr>\n",
       "      <th>2297712</th>\n",
       "      <td>casual</td>\n",
       "      <td>Sedgwick St &amp; Webster Ave</td>\n",
       "      <td>-87.638923</td>\n",
       "      <td>41.922101</td>\n",
       "      <td>1</td>\n",
       "    </tr>\n",
       "    <tr>\n",
       "      <th>2297713</th>\n",
       "      <td>casual</td>\n",
       "      <td>Sedgwick St &amp; Webster Ave</td>\n",
       "      <td>-87.638923</td>\n",
       "      <td>41.922268</td>\n",
       "      <td>1</td>\n",
       "    </tr>\n",
       "    <tr>\n",
       "      <th>2297714</th>\n",
       "      <td>casual</td>\n",
       "      <td>Sedgwick St &amp; Webster Ave</td>\n",
       "      <td>-87.638924</td>\n",
       "      <td>41.922242</td>\n",
       "      <td>1</td>\n",
       "    </tr>\n",
       "    <tr>\n",
       "      <th>2297715</th>\n",
       "      <td>casual</td>\n",
       "      <td>Sedgwick St &amp; Webster Ave</td>\n",
       "      <td>-87.638924</td>\n",
       "      <td>41.922212</td>\n",
       "      <td>1</td>\n",
       "    </tr>\n",
       "    <tr>\n",
       "      <th>2297716</th>\n",
       "      <td>member</td>\n",
       "      <td>California Ave &amp; Lake St</td>\n",
       "      <td>-87.696215</td>\n",
       "      <td>41.884454</td>\n",
       "      <td>1</td>\n",
       "    </tr>\n",
       "  </tbody>\n",
       "</table>\n",
       "<p>2297717 rows × 5 columns</p>\n",
       "</div>"
      ],
      "text/plain": [
       "        member_casual                        station_name  station_lng  \\\n",
       "0              casual             Streeter Dr & Grand Ave   -87.612043   \n",
       "1              casual   DuSable Lake Shore Dr & Monroe St   -87.616743   \n",
       "2              casual  DuSable Lake Shore Dr & North Blvd   -87.626804   \n",
       "3              member       Mulligan Ave & Wellington Ave   -87.600000   \n",
       "4              member            Kingsbury St & Kinzie St   -87.638506   \n",
       "...               ...                                 ...          ...   \n",
       "2297712        casual           Sedgwick St & Webster Ave   -87.638923   \n",
       "2297713        casual           Sedgwick St & Webster Ave   -87.638923   \n",
       "2297714        casual           Sedgwick St & Webster Ave   -87.638924   \n",
       "2297715        casual           Sedgwick St & Webster Ave   -87.638924   \n",
       "2297716        member            California Ave & Lake St   -87.696215   \n",
       "\n",
       "         station_lat  Number of rides  \n",
       "0          41.892278           107287  \n",
       "1          41.880958            52833  \n",
       "2          41.911722            48960  \n",
       "3          41.790000            44870  \n",
       "4          41.889177            39783  \n",
       "...              ...              ...  \n",
       "2297712    41.922101                1  \n",
       "2297713    41.922268                1  \n",
       "2297714    41.922242                1  \n",
       "2297715    41.922212                1  \n",
       "2297716    41.884454                1  \n",
       "\n",
       "[2297717 rows x 5 columns]"
      ]
     },
     "execution_count": 106,
     "metadata": {},
     "output_type": "execute_result"
    }
   ],
   "source": [
    "station_traffic.groupby(['member_casual', 'station_name','station_lng','station_lat']).head()"
   ]
  },
  {
   "cell_type": "code",
   "execution_count": 67,
   "metadata": {},
   "outputs": [
    {
     "data": {
      "text/html": [
       "<div>\n",
       "<style scoped>\n",
       "    .dataframe tbody tr th:only-of-type {\n",
       "        vertical-align: middle;\n",
       "    }\n",
       "\n",
       "    .dataframe tbody tr th {\n",
       "        vertical-align: top;\n",
       "    }\n",
       "\n",
       "    .dataframe thead th {\n",
       "        text-align: right;\n",
       "    }\n",
       "</style>\n",
       "<table border=\"1\" class=\"dataframe\">\n",
       "  <thead>\n",
       "    <tr style=\"text-align: right;\">\n",
       "      <th></th>\n",
       "      <th>member_casual</th>\n",
       "      <th>station_name</th>\n",
       "      <th>station_lng</th>\n",
       "      <th>station_lat</th>\n",
       "      <th>Number of rides</th>\n",
       "    </tr>\n",
       "  </thead>\n",
       "  <tbody>\n",
       "    <tr>\n",
       "      <th>3</th>\n",
       "      <td>member</td>\n",
       "      <td>Mulligan Ave &amp; Wellington Ave</td>\n",
       "      <td>-87.600000</td>\n",
       "      <td>41.790000</td>\n",
       "      <td>44870</td>\n",
       "    </tr>\n",
       "    <tr>\n",
       "      <th>194</th>\n",
       "      <td>member</td>\n",
       "      <td>Mulligan Ave &amp; Wellington Ave</td>\n",
       "      <td>-87.600000</td>\n",
       "      <td>41.800000</td>\n",
       "      <td>11920</td>\n",
       "    </tr>\n",
       "    <tr>\n",
       "      <th>434</th>\n",
       "      <td>casual</td>\n",
       "      <td>Mulligan Ave &amp; Wellington Ave</td>\n",
       "      <td>-87.600000</td>\n",
       "      <td>41.790000</td>\n",
       "      <td>6488</td>\n",
       "    </tr>\n",
       "    <tr>\n",
       "      <th>717</th>\n",
       "      <td>casual</td>\n",
       "      <td>Mulligan Ave &amp; Wellington Ave</td>\n",
       "      <td>-87.600000</td>\n",
       "      <td>41.800000</td>\n",
       "      <td>3125</td>\n",
       "    </tr>\n",
       "    <tr>\n",
       "      <th>976</th>\n",
       "      <td>casual</td>\n",
       "      <td>Mulligan Ave &amp; Wellington Ave</td>\n",
       "      <td>-87.720000</td>\n",
       "      <td>41.910000</td>\n",
       "      <td>1483</td>\n",
       "    </tr>\n",
       "    <tr>\n",
       "      <th>1093</th>\n",
       "      <td>casual</td>\n",
       "      <td>Mulligan Ave &amp; Wellington Ave</td>\n",
       "      <td>-87.780000</td>\n",
       "      <td>41.930000</td>\n",
       "      <td>1073</td>\n",
       "    </tr>\n",
       "    <tr>\n",
       "      <th>1098</th>\n",
       "      <td>member</td>\n",
       "      <td>Mulligan Ave &amp; Wellington Ave</td>\n",
       "      <td>-87.780000</td>\n",
       "      <td>41.930000</td>\n",
       "      <td>1064</td>\n",
       "    </tr>\n",
       "    <tr>\n",
       "      <th>1180</th>\n",
       "      <td>member</td>\n",
       "      <td>Mulligan Ave &amp; Wellington Ave</td>\n",
       "      <td>-87.720000</td>\n",
       "      <td>41.910000</td>\n",
       "      <td>859</td>\n",
       "    </tr>\n",
       "    <tr>\n",
       "      <th>4313</th>\n",
       "      <td>casual</td>\n",
       "      <td>Mulligan Ave &amp; Wellington Ave</td>\n",
       "      <td>-87.750000</td>\n",
       "      <td>41.810000</td>\n",
       "      <td>2</td>\n",
       "    </tr>\n",
       "    <tr>\n",
       "      <th>1106232</th>\n",
       "      <td>member</td>\n",
       "      <td>Mulligan Ave &amp; Wellington Ave</td>\n",
       "      <td>-87.710000</td>\n",
       "      <td>41.940000</td>\n",
       "      <td>1</td>\n",
       "    </tr>\n",
       "    <tr>\n",
       "      <th>1106303</th>\n",
       "      <td>member</td>\n",
       "      <td>Mulligan Ave &amp; Wellington Ave</td>\n",
       "      <td>-87.667258</td>\n",
       "      <td>41.907056</td>\n",
       "      <td>1</td>\n",
       "    </tr>\n",
       "    <tr>\n",
       "      <th>1106331</th>\n",
       "      <td>member</td>\n",
       "      <td>Mulligan Ave &amp; Wellington Ave</td>\n",
       "      <td>-87.627746</td>\n",
       "      <td>41.902453</td>\n",
       "      <td>1</td>\n",
       "    </tr>\n",
       "    <tr>\n",
       "      <th>1106332</th>\n",
       "      <td>member</td>\n",
       "      <td>Mulligan Ave &amp; Wellington Ave</td>\n",
       "      <td>-87.638258</td>\n",
       "      <td>41.894634</td>\n",
       "      <td>1</td>\n",
       "    </tr>\n",
       "    <tr>\n",
       "      <th>1106333</th>\n",
       "      <td>member</td>\n",
       "      <td>Mulligan Ave &amp; Wellington Ave</td>\n",
       "      <td>-87.639530</td>\n",
       "      <td>41.881690</td>\n",
       "      <td>1</td>\n",
       "    </tr>\n",
       "    <tr>\n",
       "      <th>1106334</th>\n",
       "      <td>member</td>\n",
       "      <td>Mulligan Ave &amp; Wellington Ave</td>\n",
       "      <td>-87.641266</td>\n",
       "      <td>41.881863</td>\n",
       "      <td>1</td>\n",
       "    </tr>\n",
       "    <tr>\n",
       "      <th>1106335</th>\n",
       "      <td>member</td>\n",
       "      <td>Mulligan Ave &amp; Wellington Ave</td>\n",
       "      <td>-87.666036</td>\n",
       "      <td>41.961588</td>\n",
       "      <td>1</td>\n",
       "    </tr>\n",
       "    <tr>\n",
       "      <th>2027974</th>\n",
       "      <td>casual</td>\n",
       "      <td>Mulligan Ave &amp; Wellington Ave</td>\n",
       "      <td>-87.647539</td>\n",
       "      <td>41.936497</td>\n",
       "      <td>1</td>\n",
       "    </tr>\n",
       "    <tr>\n",
       "      <th>2027977</th>\n",
       "      <td>casual</td>\n",
       "      <td>Mulligan Ave &amp; Wellington Ave</td>\n",
       "      <td>-87.668385</td>\n",
       "      <td>41.939365</td>\n",
       "      <td>1</td>\n",
       "    </tr>\n",
       "    <tr>\n",
       "      <th>2027978</th>\n",
       "      <td>casual</td>\n",
       "      <td>Mulligan Ave &amp; Wellington Ave</td>\n",
       "      <td>-87.668084</td>\n",
       "      <td>41.978037</td>\n",
       "      <td>1</td>\n",
       "    </tr>\n",
       "    <tr>\n",
       "      <th>2027979</th>\n",
       "      <td>casual</td>\n",
       "      <td>Mulligan Ave &amp; Wellington Ave</td>\n",
       "      <td>-87.653113</td>\n",
       "      <td>41.910633</td>\n",
       "      <td>1</td>\n",
       "    </tr>\n",
       "    <tr>\n",
       "      <th>2027980</th>\n",
       "      <td>casual</td>\n",
       "      <td>Mulligan Ave &amp; Wellington Ave</td>\n",
       "      <td>-87.648128</td>\n",
       "      <td>41.909668</td>\n",
       "      <td>1</td>\n",
       "    </tr>\n",
       "    <tr>\n",
       "      <th>2027981</th>\n",
       "      <td>casual</td>\n",
       "      <td>Mulligan Ave &amp; Wellington Ave</td>\n",
       "      <td>-87.641170</td>\n",
       "      <td>41.883380</td>\n",
       "      <td>1</td>\n",
       "    </tr>\n",
       "    <tr>\n",
       "      <th>2027983</th>\n",
       "      <td>casual</td>\n",
       "      <td>Mulligan Ave &amp; Wellington Ave</td>\n",
       "      <td>-87.638888</td>\n",
       "      <td>41.922167</td>\n",
       "      <td>1</td>\n",
       "    </tr>\n",
       "    <tr>\n",
       "      <th>2027984</th>\n",
       "      <td>casual</td>\n",
       "      <td>Mulligan Ave &amp; Wellington Ave</td>\n",
       "      <td>-87.617854</td>\n",
       "      <td>41.894503</td>\n",
       "      <td>1</td>\n",
       "    </tr>\n",
       "    <tr>\n",
       "      <th>2027990</th>\n",
       "      <td>casual</td>\n",
       "      <td>Mulligan Ave &amp; Wellington Ave</td>\n",
       "      <td>-87.790000</td>\n",
       "      <td>41.940000</td>\n",
       "      <td>1</td>\n",
       "    </tr>\n",
       "  </tbody>\n",
       "</table>\n",
       "</div>"
      ],
      "text/plain": [
       "        member_casual                   station_name  station_lng  \\\n",
       "3              member  Mulligan Ave & Wellington Ave   -87.600000   \n",
       "194            member  Mulligan Ave & Wellington Ave   -87.600000   \n",
       "434            casual  Mulligan Ave & Wellington Ave   -87.600000   \n",
       "717            casual  Mulligan Ave & Wellington Ave   -87.600000   \n",
       "976            casual  Mulligan Ave & Wellington Ave   -87.720000   \n",
       "1093           casual  Mulligan Ave & Wellington Ave   -87.780000   \n",
       "1098           member  Mulligan Ave & Wellington Ave   -87.780000   \n",
       "1180           member  Mulligan Ave & Wellington Ave   -87.720000   \n",
       "4313           casual  Mulligan Ave & Wellington Ave   -87.750000   \n",
       "1106232        member  Mulligan Ave & Wellington Ave   -87.710000   \n",
       "1106303        member  Mulligan Ave & Wellington Ave   -87.667258   \n",
       "1106331        member  Mulligan Ave & Wellington Ave   -87.627746   \n",
       "1106332        member  Mulligan Ave & Wellington Ave   -87.638258   \n",
       "1106333        member  Mulligan Ave & Wellington Ave   -87.639530   \n",
       "1106334        member  Mulligan Ave & Wellington Ave   -87.641266   \n",
       "1106335        member  Mulligan Ave & Wellington Ave   -87.666036   \n",
       "2027974        casual  Mulligan Ave & Wellington Ave   -87.647539   \n",
       "2027977        casual  Mulligan Ave & Wellington Ave   -87.668385   \n",
       "2027978        casual  Mulligan Ave & Wellington Ave   -87.668084   \n",
       "2027979        casual  Mulligan Ave & Wellington Ave   -87.653113   \n",
       "2027980        casual  Mulligan Ave & Wellington Ave   -87.648128   \n",
       "2027981        casual  Mulligan Ave & Wellington Ave   -87.641170   \n",
       "2027983        casual  Mulligan Ave & Wellington Ave   -87.638888   \n",
       "2027984        casual  Mulligan Ave & Wellington Ave   -87.617854   \n",
       "2027990        casual  Mulligan Ave & Wellington Ave   -87.790000   \n",
       "\n",
       "         station_lat  Number of rides  \n",
       "3          41.790000            44870  \n",
       "194        41.800000            11920  \n",
       "434        41.790000             6488  \n",
       "717        41.800000             3125  \n",
       "976        41.910000             1483  \n",
       "1093       41.930000             1073  \n",
       "1098       41.930000             1064  \n",
       "1180       41.910000              859  \n",
       "4313       41.810000                2  \n",
       "1106232    41.940000                1  \n",
       "1106303    41.907056                1  \n",
       "1106331    41.902453                1  \n",
       "1106332    41.894634                1  \n",
       "1106333    41.881690                1  \n",
       "1106334    41.881863                1  \n",
       "1106335    41.961588                1  \n",
       "2027974    41.936497                1  \n",
       "2027977    41.939365                1  \n",
       "2027978    41.978037                1  \n",
       "2027979    41.910633                1  \n",
       "2027980    41.909668                1  \n",
       "2027981    41.883380                1  \n",
       "2027983    41.922167                1  \n",
       "2027984    41.894503                1  \n",
       "2027990    41.940000                1  "
      ]
     },
     "execution_count": 67,
     "metadata": {},
     "output_type": "execute_result"
    }
   ],
   "source": [
    "station_traffic.loc[station_traffic['station_name'] == 'Mulligan Ave & Wellington Ave']"
   ]
  },
  {
   "cell_type": "code",
   "execution_count": 72,
   "metadata": {},
   "outputs": [
    {
     "data": {
      "text/plain": [
       "station_lng  station_lat\n",
       "-87.652183   41.918296      21\n",
       "-87.710000   41.980000      19\n",
       "-87.730000   41.840000      19\n",
       "-87.710000   41.970000      16\n",
       "-87.730000   41.950000      16\n",
       "                            ..\n",
       "-87.654368   41.884087       1\n",
       "             41.884015       1\n",
       "             41.961617       1\n",
       "             41.954206       1\n",
       "-73.796477   45.635034       1\n",
       "Length: 2293975, dtype: int64"
      ]
     },
     "execution_count": 72,
     "metadata": {},
     "output_type": "execute_result"
    }
   ],
   "source": [
    "station_traffic.groupby(['station_lng','station_lat']).size().sort_values(ascending=False)"
   ]
  },
  {
   "cell_type": "code",
   "execution_count": 53,
   "metadata": {},
   "outputs": [
    {
     "ename": "ValueError",
     "evalue": "Can only compare identically-labeled Series objects",
     "output_type": "error",
     "traceback": [
      "\u001b[1;31m---------------------------------------------------------------------------\u001b[0m",
      "\u001b[1;31mValueError\u001b[0m                                Traceback (most recent call last)",
      "\u001b[1;32m~\\AppData\\Local\\Temp/ipykernel_15552/3447833040.py\u001b[0m in \u001b[0;36m<module>\u001b[1;34m\u001b[0m\n\u001b[1;32m----> 1\u001b[1;33m \u001b[0mstation_traffic\u001b[0m\u001b[1;33m[\u001b[0m\u001b[1;34m'station_lng'\u001b[0m\u001b[1;33m]\u001b[0m \u001b[1;33m=\u001b[0m \u001b[0mdf_coordinates\u001b[0m\u001b[1;33m[\u001b[0m\u001b[1;34m'station_lng'\u001b[0m\u001b[1;33m]\u001b[0m\u001b[1;33m.\u001b[0m\u001b[0mwhere\u001b[0m\u001b[1;33m(\u001b[0m\u001b[0mdf_coordinates\u001b[0m\u001b[1;33m[\u001b[0m\u001b[1;34m'station_name'\u001b[0m\u001b[1;33m]\u001b[0m\u001b[1;33m==\u001b[0m\u001b[0mstation_traffic\u001b[0m\u001b[1;33m[\u001b[0m\u001b[1;34m'station_name'\u001b[0m\u001b[1;33m]\u001b[0m\u001b[1;33m)\u001b[0m\u001b[1;33m\u001b[0m\u001b[1;33m\u001b[0m\u001b[0m\n\u001b[0m\u001b[0;32m      2\u001b[0m \u001b[0mdf_coordinates\u001b[0m\u001b[1;33m[\u001b[0m\u001b[1;34m'station_name'\u001b[0m\u001b[1;33m]\u001b[0m\u001b[1;33m==\u001b[0m\u001b[0mstation_traffic\u001b[0m\u001b[1;33m[\u001b[0m\u001b[1;34m'station_name'\u001b[0m\u001b[1;33m]\u001b[0m\u001b[1;33m\u001b[0m\u001b[1;33m\u001b[0m\u001b[0m\n\u001b[0;32m      3\u001b[0m \u001b[0mreset_index\u001b[0m\u001b[1;33m(\u001b[0m\u001b[0mdrop\u001b[0m\u001b[1;33m=\u001b[0m\u001b[1;32mTrue\u001b[0m\u001b[1;33m)\u001b[0m\u001b[1;33m\u001b[0m\u001b[1;33m\u001b[0m\u001b[0m\n",
      "\u001b[1;32mc:\\Program Files\\Python39\\lib\\site-packages\\pandas\\core\\ops\\common.py\u001b[0m in \u001b[0;36mnew_method\u001b[1;34m(self, other)\u001b[0m\n\u001b[0;32m     68\u001b[0m         \u001b[0mother\u001b[0m \u001b[1;33m=\u001b[0m \u001b[0mitem_from_zerodim\u001b[0m\u001b[1;33m(\u001b[0m\u001b[0mother\u001b[0m\u001b[1;33m)\u001b[0m\u001b[1;33m\u001b[0m\u001b[1;33m\u001b[0m\u001b[0m\n\u001b[0;32m     69\u001b[0m \u001b[1;33m\u001b[0m\u001b[0m\n\u001b[1;32m---> 70\u001b[1;33m         \u001b[1;32mreturn\u001b[0m \u001b[0mmethod\u001b[0m\u001b[1;33m(\u001b[0m\u001b[0mself\u001b[0m\u001b[1;33m,\u001b[0m \u001b[0mother\u001b[0m\u001b[1;33m)\u001b[0m\u001b[1;33m\u001b[0m\u001b[1;33m\u001b[0m\u001b[0m\n\u001b[0m\u001b[0;32m     71\u001b[0m \u001b[1;33m\u001b[0m\u001b[0m\n\u001b[0;32m     72\u001b[0m     \u001b[1;32mreturn\u001b[0m \u001b[0mnew_method\u001b[0m\u001b[1;33m\u001b[0m\u001b[1;33m\u001b[0m\u001b[0m\n",
      "\u001b[1;32mc:\\Program Files\\Python39\\lib\\site-packages\\pandas\\core\\arraylike.py\u001b[0m in \u001b[0;36m__eq__\u001b[1;34m(self, other)\u001b[0m\n\u001b[0;32m     38\u001b[0m     \u001b[1;33m@\u001b[0m\u001b[0munpack_zerodim_and_defer\u001b[0m\u001b[1;33m(\u001b[0m\u001b[1;34m\"__eq__\"\u001b[0m\u001b[1;33m)\u001b[0m\u001b[1;33m\u001b[0m\u001b[1;33m\u001b[0m\u001b[0m\n\u001b[0;32m     39\u001b[0m     \u001b[1;32mdef\u001b[0m \u001b[0m__eq__\u001b[0m\u001b[1;33m(\u001b[0m\u001b[0mself\u001b[0m\u001b[1;33m,\u001b[0m \u001b[0mother\u001b[0m\u001b[1;33m)\u001b[0m\u001b[1;33m:\u001b[0m\u001b[1;33m\u001b[0m\u001b[1;33m\u001b[0m\u001b[0m\n\u001b[1;32m---> 40\u001b[1;33m         \u001b[1;32mreturn\u001b[0m \u001b[0mself\u001b[0m\u001b[1;33m.\u001b[0m\u001b[0m_cmp_method\u001b[0m\u001b[1;33m(\u001b[0m\u001b[0mother\u001b[0m\u001b[1;33m,\u001b[0m \u001b[0moperator\u001b[0m\u001b[1;33m.\u001b[0m\u001b[0meq\u001b[0m\u001b[1;33m)\u001b[0m\u001b[1;33m\u001b[0m\u001b[1;33m\u001b[0m\u001b[0m\n\u001b[0m\u001b[0;32m     41\u001b[0m \u001b[1;33m\u001b[0m\u001b[0m\n\u001b[0;32m     42\u001b[0m     \u001b[1;33m@\u001b[0m\u001b[0munpack_zerodim_and_defer\u001b[0m\u001b[1;33m(\u001b[0m\u001b[1;34m\"__ne__\"\u001b[0m\u001b[1;33m)\u001b[0m\u001b[1;33m\u001b[0m\u001b[1;33m\u001b[0m\u001b[0m\n",
      "\u001b[1;32mc:\\Program Files\\Python39\\lib\\site-packages\\pandas\\core\\series.py\u001b[0m in \u001b[0;36m_cmp_method\u001b[1;34m(self, other, op)\u001b[0m\n\u001b[0;32m   5615\u001b[0m \u001b[1;33m\u001b[0m\u001b[0m\n\u001b[0;32m   5616\u001b[0m         \u001b[1;32mif\u001b[0m \u001b[0misinstance\u001b[0m\u001b[1;33m(\u001b[0m\u001b[0mother\u001b[0m\u001b[1;33m,\u001b[0m \u001b[0mSeries\u001b[0m\u001b[1;33m)\u001b[0m \u001b[1;32mand\u001b[0m \u001b[1;32mnot\u001b[0m \u001b[0mself\u001b[0m\u001b[1;33m.\u001b[0m\u001b[0m_indexed_same\u001b[0m\u001b[1;33m(\u001b[0m\u001b[0mother\u001b[0m\u001b[1;33m)\u001b[0m\u001b[1;33m:\u001b[0m\u001b[1;33m\u001b[0m\u001b[1;33m\u001b[0m\u001b[0m\n\u001b[1;32m-> 5617\u001b[1;33m             \u001b[1;32mraise\u001b[0m \u001b[0mValueError\u001b[0m\u001b[1;33m(\u001b[0m\u001b[1;34m\"Can only compare identically-labeled Series objects\"\u001b[0m\u001b[1;33m)\u001b[0m\u001b[1;33m\u001b[0m\u001b[1;33m\u001b[0m\u001b[0m\n\u001b[0m\u001b[0;32m   5618\u001b[0m \u001b[1;33m\u001b[0m\u001b[0m\n\u001b[0;32m   5619\u001b[0m         \u001b[0mlvalues\u001b[0m \u001b[1;33m=\u001b[0m \u001b[0mself\u001b[0m\u001b[1;33m.\u001b[0m\u001b[0m_values\u001b[0m\u001b[1;33m\u001b[0m\u001b[1;33m\u001b[0m\u001b[0m\n",
      "\u001b[1;31mValueError\u001b[0m: Can only compare identically-labeled Series objects"
     ]
    }
   ],
   "source": [
    "station_traffic['station_lng'] = df_coordinates['station_lng'].where(df_coordinates['station_name']==station_traffic['station_name'])\n",
    "df_coordinates['station_name']==station_traffic['station_name']\n",
    "reset_index(drop=True)"
   ]
  },
  {
   "cell_type": "code",
   "execution_count": 48,
   "metadata": {},
   "outputs": [],
   "source": [
    "df_coordinates['station_rides'] = df_coordinates.groupby(['member_casual','station_name'])['station_name'].transform('size')"
   ]
  },
  {
   "cell_type": "code",
   "execution_count": 49,
   "metadata": {},
   "outputs": [
    {
     "data": {
      "text/html": [
       "<div>\n",
       "<style scoped>\n",
       "    .dataframe tbody tr th:only-of-type {\n",
       "        vertical-align: middle;\n",
       "    }\n",
       "\n",
       "    .dataframe tbody tr th {\n",
       "        vertical-align: top;\n",
       "    }\n",
       "\n",
       "    .dataframe thead th {\n",
       "        text-align: right;\n",
       "    }\n",
       "</style>\n",
       "<table border=\"1\" class=\"dataframe\">\n",
       "  <thead>\n",
       "    <tr style=\"text-align: right;\">\n",
       "      <th></th>\n",
       "      <th>station_name</th>\n",
       "      <th>station_lat</th>\n",
       "      <th>station_lng</th>\n",
       "      <th>member_casual</th>\n",
       "      <th>station_rides</th>\n",
       "    </tr>\n",
       "  </thead>\n",
       "  <tbody>\n",
       "    <tr>\n",
       "      <th>0</th>\n",
       "      <td>NaN</td>\n",
       "      <td>41.77</td>\n",
       "      <td>-87.68</td>\n",
       "      <td>member</td>\n",
       "      <td>NaN</td>\n",
       "    </tr>\n",
       "    <tr>\n",
       "      <th>1</th>\n",
       "      <td>NaN</td>\n",
       "      <td>41.77</td>\n",
       "      <td>-87.68</td>\n",
       "      <td>member</td>\n",
       "      <td>NaN</td>\n",
       "    </tr>\n",
       "    <tr>\n",
       "      <th>2</th>\n",
       "      <td>NaN</td>\n",
       "      <td>41.95</td>\n",
       "      <td>-87.65</td>\n",
       "      <td>member</td>\n",
       "      <td>NaN</td>\n",
       "    </tr>\n",
       "    <tr>\n",
       "      <th>3</th>\n",
       "      <td>NaN</td>\n",
       "      <td>41.97</td>\n",
       "      <td>-87.67</td>\n",
       "      <td>member</td>\n",
       "      <td>NaN</td>\n",
       "    </tr>\n",
       "    <tr>\n",
       "      <th>4</th>\n",
       "      <td>Mulligan Ave &amp; Wellington Ave</td>\n",
       "      <td>41.79</td>\n",
       "      <td>-87.60</td>\n",
       "      <td>member</td>\n",
       "      <td>58720.0</td>\n",
       "    </tr>\n",
       "  </tbody>\n",
       "</table>\n",
       "</div>"
      ],
      "text/plain": [
       "                    station_name  station_lat  station_lng member_casual  \\\n",
       "0                            NaN        41.77       -87.68        member   \n",
       "1                            NaN        41.77       -87.68        member   \n",
       "2                            NaN        41.95       -87.65        member   \n",
       "3                            NaN        41.97       -87.67        member   \n",
       "4  Mulligan Ave & Wellington Ave        41.79       -87.60        member   \n",
       "\n",
       "   station_rides  \n",
       "0            NaN  \n",
       "1            NaN  \n",
       "2            NaN  \n",
       "3            NaN  \n",
       "4        58720.0  "
      ]
     },
     "execution_count": 49,
     "metadata": {},
     "output_type": "execute_result"
    }
   ],
   "source": [
    "df_coordinates.head()"
   ]
  },
  {
   "cell_type": "code",
   "execution_count": null,
   "metadata": {},
   "outputs": [],
   "source": [
    "# Plotting our Impact Energy data with a color map\n",
    "x = df_coordinates['station_lng']\n",
    "y = df_coordinates['station_lat']\n",
    "z = df_coordinates['station_lng']\n",
    "plt.scatter(x, y, s=20*z, c=z, alpha=0.6, vmin=0, vmax=threshold,\n",
    "            cmap='autumn')"
   ]
  },
  {
   "cell_type": "code",
   "execution_count": 10,
   "metadata": {},
   "outputs": [
    {
     "data": {
      "text/plain": [
       "Text(0.5, 1.0, 'Stations with the most traffic')"
      ]
     },
     "execution_count": 10,
     "metadata": {},
     "output_type": "execute_result"
    },
    {
     "data": {
      "image/png": "[encoded data removed]",
      "text/plain": [
       "<Figure size 1080x1080 with 1 Axes>"
      ]
     },
     "metadata": {
      "needs_background": "light"
     },
     "output_type": "display_data"
    }
   ],
   "source": [
    "fig, ax = plt.subplots(figsize=(15,15))\n",
    "chicago_map.plot(ax=ax, alpha=0.7, color='grey')\n",
    "df_coordinates.groupby(['station_lng','station_lat'])['station_lng','station_lat'].size().sort_values(ascending=False)[:20].plot(ax=ax, color='blue')\n",
    "ax.set_title('Stations with the most traffic')"
   ]
  },
  {
   "cell_type": "code",
   "execution_count": 57,
   "metadata": {},
   "outputs": [
    {
     "data": {
      "text/plain": [
       "pandas.core.series.Series"
      ]
     },
     "execution_count": 57,
     "metadata": {},
     "output_type": "execute_result"
    }
   ],
   "source": [
    "type(gdf.groupby(['station_lng', 'station_lat']).size())"
   ]
  }
 ],
 "metadata": {
  "kernelspec": {
   "display_name": "Python 3.9.6 64-bit",
   "language": "python",
   "name": "python3"
  },
  "language_info": {
   "codemirror_mode": {
    "name": "ipython",
    "version": 3
   },
   "file_extension": ".py",
   "mimetype": "text/x-python",
   "name": "python",
   "nbconvert_exporter": "python",
   "pygments_lexer": "ipython3",
   "version": "3.9.6"
  },
  "orig_nbformat": 4,
  "vscode": {
   "interpreter": {
    "hash": "11938c6bc6919ae2720b4d5011047913343b08a43b18698fd82dedb0d4417594"
   }
  }
 },
 "nbformat": 4,
 "nbformat_minor": 2
}
