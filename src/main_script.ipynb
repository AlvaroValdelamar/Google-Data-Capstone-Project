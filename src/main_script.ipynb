{
 "cells": [
  {
   "cell_type": "markdown",
   "metadata": {},
   "source": [
    "# 1. Business Task\n",
    "Cyclistic is a company looking for how to keep growing in the future. Their business is based on different bike rental plans:\n",
    "\n",
    "-Single-ride pass.\n",
    "\n",
    "-Full-day pass.\n",
    "\n",
    "-Annual membership.\n",
    "\n",
    "We are going to analyse how annual members (Annual membership) differ from casual riders (Single pass and Full-day pass) using Cyclistic, in order to help the organization design marketing strategies aimed at converting casual riders into annual members. \n",
    "\n",
    "Annual members are more profitable than casual riders, so stakeholders believe that increasing the amount of annual riders is key for Cyclistic's growth in the future."
   ]
  },
  {
   "cell_type": "markdown",
   "metadata": {},
   "source": [
    "# 2. Data Preparation\n",
    "\n",
    "The data used is internally collected monthly data from 2013 to 2022 by Cyclistic from their users. The data is stored by the company on AWS' S3 cloud object storaged solution in dot zip files.\n",
    "\n",
    "https://divvy-tripdata.s3.amazonaws.com/index.html\n",
    "\n",
    "In general the data contains anonymous user information regarding:\n",
    "\n",
    "-ride ID\n",
    "\n",
    "-starting station\n",
    "\n",
    "-ending station\n",
    "\n",
    "-user type (casual rider or annual member)\n",
    "\n",
    "It's stored in the structured data format. However, data was not saved the same throught the years.\n",
    "\n",
    "\n",
    "\n",
    "\n",
    "\n",
    "\n",
    "\n",
    "\n"
   ]
  },
  {
   "cell_type": "markdown",
   "metadata": {},
   "source": [
    "#### Storing the data\n",
    "1. The zip files were uncompressed, in an individual carpet for each time period, in the 'csv files' folder.\n",
    "\n",
    "2. The csv files containg information about the Byke Trips were copied to the 'raw data' folder.\n",
    "\n"
   ]
  },
  {
   "cell_type": "markdown",
   "metadata": {},
   "source": [
    "### Cleaning the data\n",
    "There's some cleaning and formatting that needs to be done to the data because of the following issues:\n",
    "\n",
    "-There's columns missing from one time period to the other, such as: \n",
    "\n",
    "###### user gender, birthyear, start_lat, start_lng, end_lat, end_lng, rideable_type, bikeid, tripduration.\n",
    "\n",
    "-The following columns are the same although they have different names:\n",
    "\n",
    "###### trip_id == 01 - Rental Details Rental ID == ride_id\n",
    "\n",
    "###### starttime == 01 - Rental Details Local Start Time == started_at\n",
    "\n",
    "###### stoptime == 01 - Rental Details Local End Time  == ended_at\n",
    "\n",
    "###### from_station_name == 03 - Rental Start Station Name == start_station_name\n",
    "\n",
    "###### to_station_name == 02 - Rental End Station Name == end_station_name\n",
    "\n",
    "###### from_station_id == start_station_id == 03 - Rental Start Station ID\n",
    "\n",
    "###### to_station_id == 02 - Rental End Station ID == end_station_id\n",
    "\n",
    "###### usertype == User Type == member_casual\n",
    "\n",
    "###### tripduration == 01 - Rental Details Duration In Seconds Uncapped\n",
    "\n",
    "###### bikeid = 01 - Rental Details Bike ID\n",
    "\n",
    "###### gender\t== Member Gender\n",
    "\n",
    "###### birthyear == 05 - Member Details Member Birthday Year\n",
    "\n"
   ]
  },
  {
   "cell_type": "markdown",
   "metadata": {},
   "source": [
    "#### Understanding the data\n",
    "- From 2013 until April 2020 the \"Trips\" table only contained the following columns:\n",
    "\n",
    "###### trip_id\tstarttime,\tstoptime,\tbikeid,\ttripduration\tfrom_station_id\tfrom_station_name,\tto_station_id,\tto_station_name\tusertype,\tgender,\tbirthyear\n",
    "\n",
    "Information regarding geographical points (start_lat, start_lng, end_lat, end_lng) present in the Trips table from April 2020 till now, were from 2013 to 2013 until 2018 Q1 previously stored in separate tables  whose title contained the word 'Stations'.\n",
    "\n",
    "- Data collected from 2018 Q1 until 2020 Q1 doesn't contain information regarding geographical points (columns: start_lat, start_lng, end_lat, end_lng) about the stations. There isn't a \"Stations\" table, nor does the \"Trips\" table contain such columns.\n",
    "\n",
    "- 2018 Q1 has the trip_id, start_time, and end_time columns missing.\n",
    "\n",
    "- User Type categories 'Customer' and 'casual' are the same, as well as 'Subscriber' and 'member'.\n",
    "\n",
    "- In some tables the datetime structure follows a 12 hour AM/PM period, and in others a 24 hour period is used."
   ]
  },
  {
   "cell_type": "markdown",
   "metadata": {},
   "source": [
    "#### Data cleaning and formatting with Python and Pandas\n",
    "The following changes were performed to the data"
   ]
  }
 ],
 "metadata": {
  "language_info": {
   "name": "python"
  },
  "orig_nbformat": 4
 },
 "nbformat": 4,
 "nbformat_minor": 2
}
