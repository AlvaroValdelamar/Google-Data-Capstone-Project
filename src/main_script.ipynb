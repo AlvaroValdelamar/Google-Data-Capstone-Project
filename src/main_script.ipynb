{
 "cells": [
  {
   "cell_type": "markdown",
   "metadata": {},
   "source": [
    "# 1. Business Task\n",
    "Cyclistic is a company looking for how to keep growing in the future. Their business is based on different bike rental plans:\n",
    "\n",
    "-Single-ride pass.\n",
    "\n",
    "-Full-day pass.\n",
    "\n",
    "-Annual membership.\n",
    "\n",
    "We are going to analyse how annual members (Annual membership) differ from casual riders (Single pass and Full-day pass) using Cyclistic, in order to help the organization design marketing strategies aimed at converting casual riders into annual members. \n",
    "\n",
    "Annual members are more profitable than casual riders, so stakeholders believe that increasing the amount of annual riders is key for Cyclistic's growth in the future."
   ]
  },
  {
   "cell_type": "markdown",
   "metadata": {},
   "source": [
    "# 2. Data Preparation\n",
    "\n",
    "The data used is internally collected monthly data from August 2021 to July 2022 by Cyclistic from their users. The data is stored by the company on AWS' S3 cloud object storaged solution in dot zip files.\n",
    "\n",
    "https://divvy-tripdata.s3.amazonaws.com/index.html\n",
    "\n",
    "In general the data contains anonymous user information regarding ride identification, starting and ending time of the ride, the starting and ending station of the ride, and the user type of the ride.\n",
    "\n",
    "It's stored in the structured data format. However, there is some data missing in some columns.\n"
   ]
  },
  {
   "cell_type": "markdown",
   "metadata": {},
   "source": [
    "#### Storing the data\n",
    "1. The zip files were uncompressed, in an individual carpet for each time period, in the 'csv files' folder.\n",
    "\n",
    "2. The csv files containg information about the Byke Trips were copied to the 'raw data' folder.\n",
    "\n"
   ]
  },
  {
   "cell_type": "markdown",
   "metadata": {},
   "source": [
    "## Cleaning the data\n",
    "\n"
   ]
  },
  {
   "cell_type": "markdown",
   "metadata": {},
   "source": [
    "#### Understanding the data\n",
    "The \"Trips\" table contained the following columns:\n",
    "\n",
    "- ride_id: Number identification of the trip.\n",
    "\n",
    "- rideable_type: Bike category used during the trip.\n",
    "\n",
    "- started_at: datetime of the starting time of the bike trip.\n",
    "\n",
    "- ended_at: datetime of the ending time of the bike trip.\n",
    "\n",
    "- start_station_name: Name of the starting point station of the trip.\n",
    "\n",
    "- start_station_id: Number identification of the starting point station of the trip.\n",
    "\n",
    "- end_station_name: Name of the ending point station of the trip.\n",
    "\n",
    "- end_station_id: Number identification of the ending point station of the trip.\n",
    "\n",
    "- start_lat: Latitude point of the starting station of the trip.\n",
    "\n",
    "- start_lng: Longitude point of the starting station of the trip.\n",
    "\n",
    "- end_lat: Latitude point of the ending station of the trip.\n",
    "\n",
    "- end_lng: Longitude point of the ending station of the trip.\n",
    "\n",
    "- member_casual: Refers to the User Type of the trip. Category 'casual' refers to single-ride pass and full-day pass users. The 'member' category refers to users with annual memberships."
   ]
  },
  {
   "cell_type": "markdown",
   "metadata": {},
   "source": [
    "#### Data cleaning and formatting with Python and Pandas\n",
    "The following changes were performed to the data"
   ]
  }
 ],
 "metadata": {
  "kernelspec": {
   "display_name": "Python 3.9.6 64-bit",
   "language": "python",
   "name": "python3"
  },
  "language_info": {
   "name": "python",
   "version": "3.9.6"
  },
  "orig_nbformat": 4,
  "vscode": {
   "interpreter": {
    "hash": "11938c6bc6919ae2720b4d5011047913343b08a43b18698fd82dedb0d4417594"
   }
  }
 },
 "nbformat": 4,
 "nbformat_minor": 2
}
