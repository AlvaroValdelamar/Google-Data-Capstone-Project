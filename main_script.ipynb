{
 "cells": [
  {
   "cell_type": "markdown",
   "metadata": {},
   "source": [
    "# 1. Business Task\n",
    "Cyclistic is a company looking for how to keep growing in the future. Their business is based on different bike rental plans:\n",
    "\n",
    "-Single-ride pass.\n",
    "\n",
    "-Full-day pass.\n",
    "\n",
    "-Annual membership.\n",
    "\n",
    "We are going to analyse how annual members (Annual membership) differ from casual riders (Single pass and Full-day pass) using Cyclistic, in order to help the organization design marketing strategies aimed at converting casual riders into annual members. \n",
    "\n",
    "Annual members are more profitable than casual riders, so stakeholders believe that increasing the amount of annual riders is key for Cyclistic's growth in the future."
   ]
  },
  {
   "cell_type": "markdown",
   "metadata": {},
   "source": [
    "# 2. Preparing for analysis\n",
    "The data is internally collected data by Cyclistic from their users.\n",
    "\n"
   ]
  }
 ],
 "metadata": {
  "language_info": {
   "name": "python"
  },
  "orig_nbformat": 4
 },
 "nbformat": 4,
 "nbformat_minor": 2
}
